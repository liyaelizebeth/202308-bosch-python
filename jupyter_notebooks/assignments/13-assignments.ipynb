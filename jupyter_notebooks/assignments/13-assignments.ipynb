{
 "cells": [
  {
   "cell_type": "markdown",
   "metadata": {},
   "source": [
    "### 1. frequency distribution calcuation\n",
    "\n",
    "\n",
    "#### version#1"
   ]
  },
  {
   "cell_type": "code",
   "execution_count": 1,
   "metadata": {},
   "outputs": [],
   "source": [
    "def freq(*args):\n",
    "    result=dict()\n",
    "    for value in args:       \n",
    "        result[value] = args.count(value)\n",
    "    return result"
   ]
  },
  {
   "cell_type": "code",
   "execution_count": 2,
   "metadata": {},
   "outputs": [
    {
     "data": {
      "text/plain": [
       "{1: 6, 2: 3, 3: 2, 4: 1, 5: 2, 9: 1}"
      ]
     },
     "execution_count": 2,
     "metadata": {},
     "output_type": "execute_result"
    }
   ],
   "source": [
    "freq(1,2,2,2,1,3,3,1,4,1,1,5,9,5,1)"
   ]
  },
  {
   "cell_type": "markdown",
   "metadata": {},
   "source": [
    "### Problem with V1\n",
    "\n",
    "* count() is a sequential operation\n",
    "    * it takes \"n\" operations to count a value where n is the len(list)\n",
    "* For repeating numbers we are counting again\n",
    "* This makes complexity n*n operations to build\n",
    "    * this is worst complexity\n",
    "\n",
    "\n",
    "### Version#2\n"
   ]
  },
  {
   "cell_type": "code",
   "execution_count": 4,
   "metadata": {},
   "outputs": [],
   "source": [
    "def freq(*args):\n",
    "    result=dict()\n",
    "    for value in args:  \n",
    "        if not (value in result):     \n",
    "            result[value] = args.count(value)\n",
    "    return result"
   ]
  },
  {
   "cell_type": "code",
   "execution_count": 5,
   "metadata": {},
   "outputs": [
    {
     "data": {
      "text/plain": [
       "{1: 6, 2: 3, 3: 2, 4: 1, 5: 2, 9: 1}"
      ]
     },
     "execution_count": 5,
     "metadata": {},
     "output_type": "execute_result"
    }
   ],
   "source": [
    "freq(1,2,2,2,1,3,3,1,4,1,1,5,9,5,1)"
   ]
  },
  {
   "cell_type": "markdown",
   "metadata": {},
   "source": [
    "### Design Analsys\n",
    "\n",
    "* Now for every unique value we need to count() taking \"n\" operation\n",
    "* If there are \"k\" unique items total operations will be n*k\n",
    "* this is better than n*n as k<<n\n",
    "\n",
    "#### Version#3"
   ]
  },
  {
   "cell_type": "code",
   "execution_count": 6,
   "metadata": {},
   "outputs": [],
   "source": [
    "def freq(*args):\n",
    "    result=dict()\n",
    "    for value in args:\n",
    "        if value in result:\n",
    "            result[value]+=1\n",
    "        else:\n",
    "            result[value]=1\n",
    "\n",
    "    return result\n"
   ]
  },
  {
   "cell_type": "code",
   "execution_count": 7,
   "metadata": {},
   "outputs": [
    {
     "data": {
      "text/plain": [
       "{1: 6, 2: 3, 3: 2, 4: 1, 5: 2, 9: 1}"
      ]
     },
     "execution_count": 7,
     "metadata": {},
     "output_type": "execute_result"
    }
   ],
   "source": [
    "freq(1,2,2,2,1,3,3,1,4,1,1,5,9,5,1)"
   ]
  },
  {
   "cell_type": "markdown",
   "metadata": {},
   "source": [
    "#### complexity of version 3\n",
    "\n",
    "* we looped through the main data exactly once --> O(n) \n",
    "* will not \"value in result\" also loop result key dictionary?\n",
    "    * Yes\n",
    "        * But we will have fewer keyes \n",
    "        * dictionary keys are not sequential but hashed which is extremely fast algorithm.\n",
    "\n",
    "#### Rememeber\n",
    "\n",
    "* searching a key in dictionary is must faster (almost O(1)) that searching an item in the list (O(n/2) to O(n))\n",
    "\n",
    "\n",
    "\n",
    "### Version 3.1\n",
    "\n",
    "* No change in performance but a cleaner code\n"
   ]
  },
  {
   "cell_type": "code",
   "execution_count": 8,
   "metadata": {},
   "outputs": [],
   "source": [
    "def freq(*args):\n",
    "    result=dict()\n",
    "    for value in args:\n",
    "        result[value] = result.get(value,0)+1\n",
    "\n",
    "    return result"
   ]
  },
  {
   "cell_type": "code",
   "execution_count": 10,
   "metadata": {},
   "outputs": [
    {
     "data": {
      "text/plain": [
       "{1: 6, 2: 3, 3: 2, 4: 1, 5: 2, 9: 1}"
      ]
     },
     "execution_count": 10,
     "metadata": {},
     "output_type": "execute_result"
    }
   ],
   "source": [
    "freq(1,2,2,2,1,3,3,1,4,1,1,5,9,5,1)"
   ]
  },
  {
   "cell_type": "markdown",
   "metadata": {},
   "source": [
    "### Assignment 2 --> histogram\n",
    "\n",
    "\n",
    "#### Version#1"
   ]
  },
  {
   "cell_type": "code",
   "execution_count": 20,
   "metadata": {},
   "outputs": [],
   "source": [
    "def histogram(freq):\n",
    "    design='==='\n",
    "    for label,value in freq.items():\n",
    "        print(f\"{label} |\",end='')        \n",
    "        print(design*value, end=' ')\n",
    "        print(value)\n"
   ]
  },
  {
   "cell_type": "code",
   "execution_count": 21,
   "metadata": {},
   "outputs": [
    {
     "name": "stdout",
     "output_type": "stream",
     "text": [
      "1 |================== 6\n",
      "2 |========= 3\n",
      "3 |====== 2\n",
      "4 |=== 1\n",
      "5 |====== 2\n",
      "9 |=== 1\n"
     ]
    }
   ],
   "source": [
    "histogram({1: 6, 2: 3, 3: 2, 4: 1, 5: 2, 9: 1})"
   ]
  },
  {
   "cell_type": "markdown",
   "metadata": {},
   "source": [
    "#### Enhancements to Histogram\n",
    "\n",
    "* we need 3 customizable features in histogram\n",
    "    1. we can choose our design\n",
    "        * default value (===)\n",
    "        * it can be change to something like\n",
    "            * +++++\n",
    "            * ||||\n",
    "            * :::::::\n",
    "    2. we can decide if we have to display value at the end of the bar\n",
    "        * default is True\n",
    "\n",
    "    3. we can decide if the value text will be aligned or not\n",
    "\n",
    "\n",
    "#### Histogram Version 2 (Includes features 1 and 2)\n",
    "\n",
    "##### How do we customize the fetures\n",
    "\n",
    "* we will use keyword only arguments    "
   ]
  },
  {
   "cell_type": "code",
   "execution_count": 26,
   "metadata": {},
   "outputs": [],
   "source": [
    "def histogram(freq, design='===',show_value=True):\n",
    "   \n",
    "    for label,value in freq.items():\n",
    "        print(f\"{label} |\",end='')        \n",
    "        print(design*value, end=' ')\n",
    "        if show_value:\n",
    "            print(value)\n",
    "        else:\n",
    "            print()"
   ]
  },
  {
   "cell_type": "code",
   "execution_count": 27,
   "metadata": {},
   "outputs": [
    {
     "name": "stdout",
     "output_type": "stream",
     "text": [
      "1 |================== 6\n",
      "2 |========= 3\n",
      "3 |====== 2\n",
      "4 |=== 1\n",
      "5 |====== 2\n",
      "9 |=== 1\n"
     ]
    }
   ],
   "source": [
    "histogram({1: 6, 2: 3, 3: 2, 4: 1, 5: 2, 9: 1})"
   ]
  },
  {
   "cell_type": "code",
   "execution_count": 28,
   "metadata": {},
   "outputs": [
    {
     "name": "stdout",
     "output_type": "stream",
     "text": [
      "1 |:::::::::::::::::::::::: 6\n",
      "2 |:::::::::::: 3\n",
      "3 |:::::::: 2\n",
      "4 |:::: 1\n",
      "5 |:::::::: 2\n",
      "9 |:::: 1\n"
     ]
    }
   ],
   "source": [
    "histogram({1: 6, 2: 3, 3: 2, 4: 1, 5: 2, 9: 1},design=\"::::\")"
   ]
  },
  {
   "cell_type": "code",
   "execution_count": 29,
   "metadata": {},
   "outputs": [
    {
     "name": "stdout",
     "output_type": "stream",
     "text": [
      "1 |================== \n",
      "2 |========= \n",
      "3 |====== \n",
      "4 |=== \n",
      "5 |====== \n",
      "9 |=== \n"
     ]
    }
   ],
   "source": [
    "histogram({1: 6, 2: 3, 3: 2, 4: 1, 5: 2, 9: 1},show_value=False)"
   ]
  },
  {
   "cell_type": "code",
   "execution_count": 30,
   "metadata": {},
   "outputs": [
    {
     "name": "stdout",
     "output_type": "stream",
     "text": [
      "1 |❚❚❚❚❚❚❚❚❚❚❚❚❚❚❚❚❚❚ 6\n",
      "2 |❚❚❚❚❚❚❚❚❚ 3\n",
      "3 |❚❚❚❚❚❚ 2\n",
      "4 |❚❚❚ 1\n",
      "5 |❚❚❚❚❚❚ 2\n",
      "9 |❚❚❚ 1\n"
     ]
    }
   ],
   "source": [
    "histogram({1: 6, 2: 3, 3: 2, 4: 1, 5: 2, 9: 1}, design=\"❚❚❚\")"
   ]
  },
  {
   "cell_type": "markdown",
   "metadata": {},
   "source": [
    "#### Applying Alignment\n",
    "\n",
    "* to apply the alignment, we need two things\n",
    "1. find out the largest bar size\n",
    "    * The largest bar size will be \n",
    "        * max(freq.values()) * len(design)\n",
    "        * if largerst frequency is 6 and design is \"===\" then we need\n",
    "            * 6 * len('===')  => 6*3 => 18 spaces\n",
    "\n",
    "\n",
    "2. left justify each bar in the given size\n",
    "    * each bar should take same space\n",
    "    * smaller bars should be padded with blank spaces to make them same size\n",
    "    * if data is larger than space, alignment is ignored\n",
    "1. Note alignment is not necessary if show_value is false"
   ]
  },
  {
   "cell_type": "code",
   "execution_count": 53,
   "metadata": {},
   "outputs": [],
   "source": [
    "def histogram(freq, design='===',show_value=True,align=False):\n",
    "\n",
    "    if show_value==False:\n",
    "        align=False\n",
    "\n",
    "    maxLength = 1 if not align else max(freq.values())*len(design)\n",
    "    print(maxLength)\n",
    "   \n",
    "    for label,value in freq.items():\n",
    "        print(f\"{label} |\",end='')        \n",
    "        bar = (design*value).ljust(maxLength)        \n",
    "        print(bar, end=' ')\n",
    "        if show_value:\n",
    "            print(value)\n",
    "        else:\n",
    "            print()"
   ]
  },
  {
   "cell_type": "code",
   "execution_count": 54,
   "metadata": {},
   "outputs": [
    {
     "name": "stdout",
     "output_type": "stream",
     "text": [
      "1\n",
      "1 |❚❚❚❚❚❚❚❚❚❚❚❚❚❚❚❚❚❚ 6\n",
      "2 |❚❚❚❚❚❚❚❚❚ 3\n",
      "3 |❚❚❚❚❚❚ 2\n",
      "4 |❚❚❚ 1\n",
      "5 |❚❚❚❚❚❚ 2\n",
      "9 |❚❚❚ 1\n"
     ]
    }
   ],
   "source": [
    "histogram({1: 6, 2: 3, 3: 2, 4: 1, 5: 2, 9: 1}, design=\"❚❚❚\")"
   ]
  },
  {
   "cell_type": "code",
   "execution_count": 55,
   "metadata": {},
   "outputs": [
    {
     "name": "stdout",
     "output_type": "stream",
     "text": [
      "36\n",
      "1 |:::::::::::::::::::::::::::::::::::: 6\n",
      "2 |::::::::::::::::::                   3\n",
      "3 |::::::::::::                         2\n",
      "4 |::::::                               1\n",
      "5 |::::::::::::                         2\n",
      "9 |::::::                               1\n"
     ]
    }
   ],
   "source": [
    "histogram({1: 6, 2: 3, 3: 2, 4: 1, 5: 2, 9: 1},design=\"::::::\" , align=True)"
   ]
  },
  {
   "cell_type": "code",
   "execution_count": 56,
   "metadata": {},
   "outputs": [
    {
     "name": "stdout",
     "output_type": "stream",
     "text": [
      "1\n",
      "1 |:::::::::::::::::::::::::::::::::::: \n",
      "2 |:::::::::::::::::: \n",
      "3 |:::::::::::: \n",
      "4 |:::::: \n",
      "5 |:::::::::::: \n",
      "9 |:::::: \n"
     ]
    }
   ],
   "source": [
    "histogram({1: 6, 2: 3, 3: 2, 4: 1, 5: 2, 9: 1},design=\"::::::\" , align=True,show_value=False)"
   ]
  },
  {
   "cell_type": "markdown",
   "metadata": {},
   "source": [
    "### Assignment 3 ---> Calendar Example\n",
    "\n",
    "#### Code so far"
   ]
  },
  {
   "cell_type": "code",
   "execution_count": 58,
   "metadata": {},
   "outputs": [],
   "source": [
    "def is_leap_year(year):\n",
    "    return year % (4 if year%100!=0 else 400) ==0\n",
    "\n",
    "def days_in_month(month, year=2001):\n",
    "    if month==2:\n",
    "        return 28 if not is_leap_year(year) else 29\n",
    "    elif month<8 and month%2==1 or month>=8 and month%2==0:\n",
    "        return 31\n",
    "    else:\n",
    "        return 30\n",
    "\n",
    "def day_value(dd,mm,yyyy):\n",
    "    '''\n",
    "    takes date in dd,mm,yyy format\n",
    "    returns the number of days elapsed since 01/01/0000\n",
    "    '''\n",
    "\n",
    "    # step find total days before the start of year yyyy\n",
    "    y=yyyy-1\n",
    "    days =   y*365  \\\n",
    "           + y//4   \\\n",
    "           - y//100 \\\n",
    "           + y//400\n",
    "    \n",
    "    # to this add days in month till mm-1\n",
    "    m=1\n",
    "    while m< mm:\n",
    "        days+= days_in_month(m,yyyy)\n",
    "        m+=1\n",
    "\n",
    "    # add dd to the running total\n",
    "    return days+dd\n",
    "\n",
    "\n",
    "def week_day_number(dd,mm,yyyy):\n",
    "    ref_date_value= day_value(1,1,2012)\n",
    "    date_value = day_value(dd,mm,yyyy)\n",
    "\n",
    "    diff = date_value - ref_date_value\n",
    "    return diff%7\n",
    "\n",
    "def day_name(index):\n",
    "    \n",
    "    day_names=(\"Sunday\",\"Monday\",\"Tuesday\",\"Wednesday\",\"Thursday\",\"Friday\",\"Saturday\")\n",
    "    return day_names[index]\n",
    "\n",
    "\n",
    "def week_day_name(dd,mm,yyyy):\n",
    "    d=week_day_number(dd,mm,yyyy)\n",
    "    return day_name(d)"
   ]
  },
  {
   "cell_type": "code",
   "execution_count": 59,
   "metadata": {},
   "outputs": [
    {
     "name": "stdout",
     "output_type": "stream",
     "text": [
      "Thursday\n",
      "Saturday\n",
      "Friday\n"
     ]
    }
   ],
   "source": [
    "print(week_day_name(31,8,2023)) # Thursday\n",
    "print(week_day_name(15,8,2020)) # Saturday\n",
    "print(week_day_name(30,1,1948)) # Friday"
   ]
  },
  {
   "cell_type": "markdown",
   "metadata": {},
   "source": [
    "#### Now we need a calendar function to print the calendar of a given month\n",
    "\n",
    "#### Phase 1 create the Calendar Header"
   ]
  },
  {
   "cell_type": "code",
   "execution_count": 60,
   "metadata": {},
   "outputs": [],
   "source": [
    "def calendar(mm,yyyy):\n",
    "    print(f'Calendar for {mm}/{yyyy}')\n",
    "    print('Sun\\tMon\\tTue\\tWed\\tThu\\tFri\\tSat')"
   ]
  },
  {
   "cell_type": "code",
   "execution_count": 61,
   "metadata": {},
   "outputs": [
    {
     "name": "stdout",
     "output_type": "stream",
     "text": [
      "calendar for 3/2007\n",
      "Sun\tMon\tTue\tWed\tThu\tFri\tSat\n"
     ]
    }
   ],
   "source": [
    "calendar(3,2007)"
   ]
  },
  {
   "cell_type": "markdown",
   "metadata": {},
   "source": [
    "### Phase 2 Printing the dates\n",
    "\n",
    "* There are three key elements\n",
    "1. Position the first date in the right coulmn\n",
    "2. Print each date sepearated by a tab\n",
    "3. Leave the line after saturday "
   ]
  },
  {
   "cell_type": "code",
   "execution_count": 80,
   "metadata": {},
   "outputs": [],
   "source": [
    "def calendar(mm,yyyy):\n",
    "    print(f'Calendar for {mm}/{yyyy}')\n",
    "    print('Sun\\tMon\\tTue\\tWed\\tThu\\tFri\\tSat')\n",
    "    s= week_day_number(1,mm,yyyy)\n",
    "    print(\"\\t\"*s,end=\"\")    \n",
    "    \n",
    "    for dd in range(1,days_in_month(mm,yyyy)+1):\n",
    "        print(dd,end=\"\\t\")\n",
    "        s+=1\n",
    "        if s%7==0:\n",
    "            print()\n",
    "\n",
    "    print()"
   ]
  },
  {
   "cell_type": "code",
   "execution_count": 81,
   "metadata": {},
   "outputs": [
    {
     "name": "stdout",
     "output_type": "stream",
     "text": [
      "Calendar for 9/2023\n",
      "Sun\tMon\tTue\tWed\tThu\tFri\tSat\n",
      "\t\t\t\t\t1\t2\t\n",
      "3\t4\t5\t6\t7\t8\t9\t\n",
      "10\t11\t12\t13\t14\t15\t16\t\n",
      "17\t18\t19\t20\t21\t22\t23\t\n",
      "24\t25\t26\t27\t28\t29\t30\t\n",
      "\n"
     ]
    }
   ],
   "source": [
    "calendar(9,2023)"
   ]
  },
  {
   "cell_type": "code",
   "execution_count": 85,
   "metadata": {},
   "outputs": [
    {
     "name": "stdout",
     "output_type": "stream",
     "text": [
      "Calendar for 1/2023\n",
      "Sun\tMon\tTue\tWed\tThu\tFri\tSat\n",
      "1\t2\t3\t4\t5\t6\t7\t\n",
      "8\t9\t10\t11\t12\t13\t14\t\n",
      "15\t16\t17\t18\t19\t20\t21\t\n",
      "22\t23\t24\t25\t26\t27\t28\t\n",
      "29\t30\t31\t\n",
      "\n",
      "Calendar for 2/2023\n",
      "Sun\tMon\tTue\tWed\tThu\tFri\tSat\n",
      "\t\t\t1\t2\t3\t4\t\n",
      "5\t6\t7\t8\t9\t10\t11\t\n",
      "12\t13\t14\t15\t16\t17\t18\t\n",
      "19\t20\t21\t22\t23\t24\t25\t\n",
      "26\t27\t28\t\n",
      "\n",
      "Calendar for 3/2023\n",
      "Sun\tMon\tTue\tWed\tThu\tFri\tSat\n",
      "\t\t\t1\t2\t3\t4\t\n",
      "5\t6\t7\t8\t9\t10\t11\t\n",
      "12\t13\t14\t15\t16\t17\t18\t\n",
      "19\t20\t21\t22\t23\t24\t25\t\n",
      "26\t27\t28\t29\t30\t31\t\n",
      "\n",
      "Calendar for 4/2023\n",
      "Sun\tMon\tTue\tWed\tThu\tFri\tSat\n",
      "\t\t\t\t\t\t1\t\n",
      "2\t3\t4\t5\t6\t7\t8\t\n",
      "9\t10\t11\t12\t13\t14\t15\t\n",
      "16\t17\t18\t19\t20\t21\t22\t\n",
      "23\t24\t25\t26\t27\t28\t29\t\n",
      "30\t\n",
      "\n",
      "Calendar for 5/2023\n",
      "Sun\tMon\tTue\tWed\tThu\tFri\tSat\n",
      "\t1\t2\t3\t4\t5\t6\t\n",
      "7\t8\t9\t10\t11\t12\t13\t\n",
      "14\t15\t16\t17\t18\t19\t20\t\n",
      "21\t22\t23\t24\t25\t26\t27\t\n",
      "28\t29\t30\t31\t\n",
      "\n",
      "Calendar for 6/2023\n",
      "Sun\tMon\tTue\tWed\tThu\tFri\tSat\n",
      "\t\t\t\t1\t2\t3\t\n",
      "4\t5\t6\t7\t8\t9\t10\t\n",
      "11\t12\t13\t14\t15\t16\t17\t\n",
      "18\t19\t20\t21\t22\t23\t24\t\n",
      "25\t26\t27\t28\t29\t30\t\n",
      "\n",
      "Calendar for 7/2023\n",
      "Sun\tMon\tTue\tWed\tThu\tFri\tSat\n",
      "\t\t\t\t\t\t1\t\n",
      "2\t3\t4\t5\t6\t7\t8\t\n",
      "9\t10\t11\t12\t13\t14\t15\t\n",
      "16\t17\t18\t19\t20\t21\t22\t\n",
      "23\t24\t25\t26\t27\t28\t29\t\n",
      "30\t31\t\n",
      "\n",
      "Calendar for 8/2023\n",
      "Sun\tMon\tTue\tWed\tThu\tFri\tSat\n",
      "\t\t1\t2\t3\t4\t5\t\n",
      "6\t7\t8\t9\t10\t11\t12\t\n",
      "13\t14\t15\t16\t17\t18\t19\t\n",
      "20\t21\t22\t23\t24\t25\t26\t\n",
      "27\t28\t29\t30\t31\t\n",
      "\n",
      "Calendar for 9/2023\n",
      "Sun\tMon\tTue\tWed\tThu\tFri\tSat\n",
      "\t\t\t\t\t1\t2\t\n",
      "3\t4\t5\t6\t7\t8\t9\t\n",
      "10\t11\t12\t13\t14\t15\t16\t\n",
      "17\t18\t19\t20\t21\t22\t23\t\n",
      "24\t25\t26\t27\t28\t29\t30\t\n",
      "\n",
      "\n",
      "Calendar for 10/2023\n",
      "Sun\tMon\tTue\tWed\tThu\tFri\tSat\n",
      "1\t2\t3\t4\t5\t6\t7\t\n",
      "8\t9\t10\t11\t12\t13\t14\t\n",
      "15\t16\t17\t18\t19\t20\t21\t\n",
      "22\t23\t24\t25\t26\t27\t28\t\n",
      "29\t30\t31\t\n",
      "\n",
      "Calendar for 11/2023\n",
      "Sun\tMon\tTue\tWed\tThu\tFri\tSat\n",
      "\t\t\t1\t2\t3\t4\t\n",
      "5\t6\t7\t8\t9\t10\t11\t\n",
      "12\t13\t14\t15\t16\t17\t18\t\n",
      "19\t20\t21\t22\t23\t24\t25\t\n",
      "26\t27\t28\t29\t30\t\n",
      "\n",
      "Calendar for 12/2023\n",
      "Sun\tMon\tTue\tWed\tThu\tFri\tSat\n",
      "\t\t\t\t\t1\t2\t\n",
      "3\t4\t5\t6\t7\t8\t9\t\n",
      "10\t11\t12\t13\t14\t15\t16\t\n",
      "17\t18\t19\t20\t21\t22\t23\t\n",
      "24\t25\t26\t27\t28\t29\t30\t\n",
      "31\t\n",
      "\n"
     ]
    }
   ],
   "source": [
    "for month in range(1,13):\n",
    "    calendar(month,2023)\n",
    "    print()"
   ]
  },
  {
   "cell_type": "markdown",
   "metadata": {},
   "source": [
    "### Assignment 4 Create a simple calculator\n",
    "\n",
    "\n",
    "### Phase 1 Really Basic School Calculator"
   ]
  },
  {
   "cell_type": "code",
   "execution_count": 94,
   "metadata": {},
   "outputs": [],
   "source": [
    "def calculator(value1, opr, value2):\n",
    "    result=0\n",
    "    if opr=='plus':\n",
    "        result= value1+value2\n",
    "    elif opr==\"minus\":\n",
    "        result =value1-value2\n",
    "    elif opr== \"multiply\":\n",
    "        result= value1* value2\n",
    "    elif opr==\"divide\":\n",
    "        result =value1/value2\n",
    "    else:\n",
    "        raise Exception(f\"Invalid Operation '{opr}'\")\n",
    "\n",
    "    print(f\"{value1} {opr} {value2} = {result}\")\n"
   ]
  },
  {
   "cell_type": "code",
   "execution_count": 95,
   "metadata": {},
   "outputs": [
    {
     "name": "stdout",
     "output_type": "stream",
     "text": [
      "10 plus 20 = 30\n",
      "20 minus 11 = 9\n"
     ]
    },
    {
     "ename": "Exception",
     "evalue": "Invalid Operation 'foo'",
     "output_type": "error",
     "traceback": [
      "\u001b[1;31m---------------------------------------------------------------------------\u001b[0m",
      "\u001b[1;31mException\u001b[0m                                 Traceback (most recent call last)",
      "Cell \u001b[1;32mIn[95], line 3\u001b[0m\n\u001b[0;32m      1\u001b[0m calculator(\u001b[39m10\u001b[39m,\u001b[39m'\u001b[39m\u001b[39mplus\u001b[39m\u001b[39m'\u001b[39m,\u001b[39m20\u001b[39m)\n\u001b[0;32m      2\u001b[0m calculator(\u001b[39m20\u001b[39m,\u001b[39m'\u001b[39m\u001b[39mminus\u001b[39m\u001b[39m'\u001b[39m,\u001b[39m11\u001b[39m)\n\u001b[1;32m----> 3\u001b[0m calculator(\u001b[39m30\u001b[39;49m,\u001b[39m'\u001b[39;49m\u001b[39mfoo\u001b[39;49m\u001b[39m'\u001b[39;49m,\u001b[39m40\u001b[39;49m)\n",
      "Cell \u001b[1;32mIn[94], line 12\u001b[0m, in \u001b[0;36mcalculator\u001b[1;34m(value1, opr, value2)\u001b[0m\n\u001b[0;32m     10\u001b[0m     result \u001b[39m=\u001b[39mvalue1\u001b[39m/\u001b[39mvalue2\n\u001b[0;32m     11\u001b[0m \u001b[39melse\u001b[39;00m:\n\u001b[1;32m---> 12\u001b[0m     \u001b[39mraise\u001b[39;00m \u001b[39mException\u001b[39;00m(\u001b[39mf\u001b[39m\u001b[39m\"\u001b[39m\u001b[39mInvalid Operation \u001b[39m\u001b[39m'\u001b[39m\u001b[39m{\u001b[39;00mopr\u001b[39m}\u001b[39;00m\u001b[39m'\u001b[39m\u001b[39m\"\u001b[39m)\n\u001b[0;32m     14\u001b[0m \u001b[39mprint\u001b[39m(\u001b[39mf\u001b[39m\u001b[39m\"\u001b[39m\u001b[39m{\u001b[39;00mvalue1\u001b[39m}\u001b[39;00m\u001b[39m \u001b[39m\u001b[39m{\u001b[39;00mopr\u001b[39m}\u001b[39;00m\u001b[39m \u001b[39m\u001b[39m{\u001b[39;00mvalue2\u001b[39m}\u001b[39;00m\u001b[39m = \u001b[39m\u001b[39m{\u001b[39;00mresult\u001b[39m}\u001b[39;00m\u001b[39m\"\u001b[39m)\n",
      "\u001b[1;31mException\u001b[0m: Invalid Operation 'foo'"
     ]
    }
   ],
   "source": [
    "calculator(10,'plus',20)\n",
    "calculator(20,'minus',11)\n",
    "calculator(30,'foo',40)"
   ]
  },
  {
   "cell_type": "markdown",
   "metadata": {},
   "source": [
    "#### How do I make calculator extensible?\n",
    "\n",
    "* avoid using if-else\n",
    "* it will create hard coded design\n",
    "\n",
    "\n",
    "\n",
    "#### Solution #1  eval function\n",
    "\n",
    "\n",
    "* python has a **eval** function that can evaluate a expression provided as string"
   ]
  },
  {
   "cell_type": "code",
   "execution_count": 96,
   "metadata": {},
   "outputs": [],
   "source": [
    "def calculator(value1, opr, value2):\n",
    "    expr=f'{value1} {opr} {value2}'\n",
    "    result = eval(expr)\n",
    "    print(f'{expr}={result}')\n",
    "\n"
   ]
  },
  {
   "cell_type": "code",
   "execution_count": 97,
   "metadata": {},
   "outputs": [
    {
     "name": "stdout",
     "output_type": "stream",
     "text": [
      "20 + 30=50\n"
     ]
    }
   ],
   "source": [
    "calculator(20,\"+\", 30) # \"20+30\""
   ]
  },
  {
   "cell_type": "code",
   "execution_count": 98,
   "metadata": {},
   "outputs": [
    {
     "name": "stdout",
     "output_type": "stream",
     "text": [
      "40 % 9=4\n"
     ]
    }
   ],
   "source": [
    "calculator(40,\"%\",9)"
   ]
  },
  {
   "cell_type": "markdown",
   "metadata": {},
   "source": [
    "### Limitation\n",
    "\n",
    "* this works for exisitng python operators only and not with user defined logic like\n",
    "    * power\n",
    "    * permutation\n",
    "    * combination\n",
    "    * complex arithmetic forumula: \n",
    "        * example \n",
    "            * sin(x)/cos(x)\n",
    "            * sqrt(a*a,b*b)\n",
    "\n",
    "* what we need is the ability to run any of the user defined logic or function\n",
    "\n",
    "\n",
    "\n",
    "### Solution:  Functions are Objects\n",
    "\n",
    "* we can create a dictionary of functions\n",
    "    "
   ]
  },
  {
   "cell_type": "code",
   "execution_count": 99,
   "metadata": {},
   "outputs": [],
   "source": [
    "operators=dict()\n",
    "def add_operator(operator, name=None):\n",
    "    operators[name]=operator\n",
    "\n",
    "def calculator(value1, opr, value2):\n",
    "    if opr in operators:\n",
    "        fn = operators[opr]\n",
    "        result = fn(value1, value2)\n",
    "        print(f'{value1} {opr} {value2} = {result}')\n",
    "    else:\n",
    "        raise Exception(f\"Invalid Operation: '{opr}'\")"
   ]
  },
  {
   "cell_type": "code",
   "execution_count": 101,
   "metadata": {},
   "outputs": [],
   "source": [
    "def plus(x,y):\n",
    "    return x+y\n",
    "\n",
    "def minus(x,y): return x-y\n",
    "\n",
    "def multiply(x,y) : return x*y\n",
    "\n",
    "add_operator(plus,\"plus\")\n",
    "add_operator(minus,\"minus\")\n",
    "add_operator(multiply,\"multiply\")"
   ]
  },
  {
   "cell_type": "code",
   "execution_count": 103,
   "metadata": {},
   "outputs": [
    {
     "name": "stdout",
     "output_type": "stream",
     "text": [
      "20 plus 30 = 50\n",
      "90 multiply 10 = 900\n"
     ]
    }
   ],
   "source": [
    "calculator(20, \"plus\", 30)\n",
    "calculator(90, \"multiply\",10)"
   ]
  },
  {
   "cell_type": "code",
   "execution_count": 104,
   "metadata": {},
   "outputs": [
    {
     "ename": "Exception",
     "evalue": "Invalid Operation: 'divide'",
     "output_type": "error",
     "traceback": [
      "\u001b[1;31m---------------------------------------------------------------------------\u001b[0m",
      "\u001b[1;31mException\u001b[0m                                 Traceback (most recent call last)",
      "Cell \u001b[1;32mIn[104], line 1\u001b[0m\n\u001b[1;32m----> 1\u001b[0m calculator(\u001b[39m20\u001b[39;49m,\u001b[39m\"\u001b[39;49m\u001b[39mdivide\u001b[39;49m\u001b[39m\"\u001b[39;49m,\u001b[39m4\u001b[39;49m)\n",
      "Cell \u001b[1;32mIn[99], line 11\u001b[0m, in \u001b[0;36mcalculator\u001b[1;34m(value1, opr, value2)\u001b[0m\n\u001b[0;32m      9\u001b[0m     \u001b[39mprint\u001b[39m(\u001b[39mf\u001b[39m\u001b[39m'\u001b[39m\u001b[39m{\u001b[39;00mvalue1\u001b[39m}\u001b[39;00m\u001b[39m \u001b[39m\u001b[39m{\u001b[39;00mopr\u001b[39m}\u001b[39;00m\u001b[39m \u001b[39m\u001b[39m{\u001b[39;00mvalue2\u001b[39m}\u001b[39;00m\u001b[39m = \u001b[39m\u001b[39m{\u001b[39;00mresult\u001b[39m}\u001b[39;00m\u001b[39m'\u001b[39m)\n\u001b[0;32m     10\u001b[0m \u001b[39melse\u001b[39;00m:\n\u001b[1;32m---> 11\u001b[0m     \u001b[39mraise\u001b[39;00m \u001b[39mException\u001b[39;00m(\u001b[39mf\u001b[39m\u001b[39m\"\u001b[39m\u001b[39mInvalid Operation: \u001b[39m\u001b[39m'\u001b[39m\u001b[39m{\u001b[39;00mopr\u001b[39m}\u001b[39;00m\u001b[39m'\u001b[39m\u001b[39m\"\u001b[39m)\n",
      "\u001b[1;31mException\u001b[0m: Invalid Operation: 'divide'"
     ]
    }
   ],
   "source": [
    "calculator(20,\"divide\",4)"
   ]
  },
  {
   "cell_type": "code",
   "execution_count": 105,
   "metadata": {},
   "outputs": [
    {
     "name": "stdout",
     "output_type": "stream",
     "text": [
      "20 divide 5 = 4.0\n"
     ]
    }
   ],
   "source": [
    "def divide(x,y): return x/y\n",
    "\n",
    "add_operator(divide,\"divide\")\n",
    "\n",
    "calculator(20,\"divide\",5)"
   ]
  },
  {
   "cell_type": "markdown",
   "metadata": {},
   "source": [
    "### Enhancements\n",
    "\n",
    "* If we don't give operator name it should be same as the function name\n",
    "* we may also provide multiple names for same operator\n",
    "    * example\n",
    "        * plus may be called :  \"add\", \"sum\", \"+\""
   ]
  },
  {
   "cell_type": "code",
   "execution_count": 106,
   "metadata": {},
   "outputs": [],
   "source": [
    "operators=dict()\n",
    "def add_operator(operator, *args):\n",
    "    operators[operator.__name__]=operator\n",
    "    for name in args:\n",
    "        operators[name]=operator\n",
    "    "
   ]
  },
  {
   "cell_type": "code",
   "execution_count": 108,
   "metadata": {},
   "outputs": [],
   "source": [
    "add_operator(divide)\n",
    "add_operator(plus,\"+\",\"sum\")\n",
    "add_operator(minus,\"-\",\"less\")\n",
    "add_operator(multiply,\"*\",\"into\")\n"
   ]
  },
  {
   "cell_type": "code",
   "execution_count": 109,
   "metadata": {},
   "outputs": [
    {
     "name": "stdout",
     "output_type": "stream",
     "text": [
      "20 + 30 = 50\n",
      "50 into 4 = 200\n",
      "40 * 4 = 160\n",
      "30 less 5 = 25\n"
     ]
    }
   ],
   "source": [
    "calculator(20,\"+\",30)\n",
    "calculator(50,\"into\",4)\n",
    "calculator(40,\"*\",4)\n",
    "calculator(30,\"less\",5)"
   ]
  },
  {
   "cell_type": "code",
   "execution_count": 110,
   "metadata": {},
   "outputs": [
    {
     "ename": "Exception",
     "evalue": "Invalid Operation: 'by'",
     "output_type": "error",
     "traceback": [
      "\u001b[1;31m---------------------------------------------------------------------------\u001b[0m",
      "\u001b[1;31mException\u001b[0m                                 Traceback (most recent call last)",
      "Cell \u001b[1;32mIn[110], line 1\u001b[0m\n\u001b[1;32m----> 1\u001b[0m calculator(\u001b[39m20\u001b[39;49m,\u001b[39m\"\u001b[39;49m\u001b[39mby\u001b[39;49m\u001b[39m\"\u001b[39;49m,\u001b[39m3\u001b[39;49m)\n",
      "Cell \u001b[1;32mIn[99], line 11\u001b[0m, in \u001b[0;36mcalculator\u001b[1;34m(value1, opr, value2)\u001b[0m\n\u001b[0;32m      9\u001b[0m     \u001b[39mprint\u001b[39m(\u001b[39mf\u001b[39m\u001b[39m'\u001b[39m\u001b[39m{\u001b[39;00mvalue1\u001b[39m}\u001b[39;00m\u001b[39m \u001b[39m\u001b[39m{\u001b[39;00mopr\u001b[39m}\u001b[39;00m\u001b[39m \u001b[39m\u001b[39m{\u001b[39;00mvalue2\u001b[39m}\u001b[39;00m\u001b[39m = \u001b[39m\u001b[39m{\u001b[39;00mresult\u001b[39m}\u001b[39;00m\u001b[39m'\u001b[39m)\n\u001b[0;32m     10\u001b[0m \u001b[39melse\u001b[39;00m:\n\u001b[1;32m---> 11\u001b[0m     \u001b[39mraise\u001b[39;00m \u001b[39mException\u001b[39;00m(\u001b[39mf\u001b[39m\u001b[39m\"\u001b[39m\u001b[39mInvalid Operation: \u001b[39m\u001b[39m'\u001b[39m\u001b[39m{\u001b[39;00mopr\u001b[39m}\u001b[39;00m\u001b[39m'\u001b[39m\u001b[39m\"\u001b[39m)\n",
      "\u001b[1;31mException\u001b[0m: Invalid Operation: 'by'"
     ]
    }
   ],
   "source": [
    "calculator(20,\"by\",3)"
   ]
  },
  {
   "cell_type": "code",
   "execution_count": 111,
   "metadata": {},
   "outputs": [],
   "source": [
    "add_operator(divide,\"by\")"
   ]
  },
  {
   "cell_type": "code",
   "execution_count": 112,
   "metadata": {},
   "outputs": [
    {
     "name": "stdout",
     "output_type": "stream",
     "text": [
      "20 by 3 = 6.666666666666667\n"
     ]
    }
   ],
   "source": [
    "calculator(20,\"by\",3)"
   ]
  },
  {
   "cell_type": "code",
   "execution_count": 120,
   "metadata": {},
   "outputs": [],
   "source": [
    "\n",
    "add_operator(lambda x,y : x*x+y*y , \"c1\" )"
   ]
  },
  {
   "cell_type": "code",
   "execution_count": 121,
   "metadata": {},
   "outputs": [
    {
     "name": "stdout",
     "output_type": "stream",
     "text": [
      "3 c1 4 = 25\n"
     ]
    }
   ],
   "source": [
    "calculator(3,\"c1\",4) #25"
   ]
  },
  {
   "cell_type": "code",
   "execution_count": null,
   "metadata": {},
   "outputs": [],
   "source": []
  }
 ],
 "metadata": {
  "kernelspec": {
   "display_name": "Python 3",
   "language": "python",
   "name": "python3"
  },
  "language_info": {
   "codemirror_mode": {
    "name": "ipython",
    "version": 3
   },
   "file_extension": ".py",
   "mimetype": "text/x-python",
   "name": "python",
   "nbconvert_exporter": "python",
   "pygments_lexer": "ipython3",
   "version": "3.11.5"
  },
  "orig_nbformat": 4
 },
 "nbformat": 4,
 "nbformat_minor": 2
}
