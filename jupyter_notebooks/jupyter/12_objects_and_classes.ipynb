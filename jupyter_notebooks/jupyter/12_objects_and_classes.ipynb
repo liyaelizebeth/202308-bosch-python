{
 "cells": [
  {
   "cell_type": "markdown",
   "metadata": {},
   "source": [
    "### Object Modelling \n",
    "\n",
    "* we intend to describe an object\n",
    "* an object may represent a domain entity \n",
    "* to describe and object with custom properties we need to first create a class\n",
    "\n",
    "\n",
    "### class\n",
    "\n",
    "* is the **type identity** of an object\n",
    "* it is very different from the notion of class in c++/java/c#\n",
    "* unlike c++/java/c# a class doesn't have to describe all property and behavior of an object\n",
    "* It's primary purpose is\n",
    "    1. allow you to create an object\n",
    "    2. identity the type of the object\n",
    "    \n",
    "\n",
    "#### Let's define a Triangle"
   ]
  },
  {
   "cell_type": "code",
   "execution_count": 2,
   "metadata": {},
   "outputs": [],
   "source": [
    "class Triangle:\n",
    "    pass"
   ]
  },
  {
   "cell_type": "markdown",
   "metadata": {},
   "source": [
    "#### Now we can create object of the Triangle\n",
    "\n",
    "* all objects in python are dynamic\n",
    "* unlike java/c#/javascript we don't have **new** keyword\n",
    "    * all objects are implied new"
   ]
  },
  {
   "cell_type": "code",
   "execution_count": 3,
   "metadata": {},
   "outputs": [
    {
     "name": "stdout",
     "output_type": "stream",
     "text": [
      "<__main__.Triangle object at 0x000001829CC01CD0>\n",
      "<class '__main__.Triangle'>\n",
      "1660487212240\n"
     ]
    }
   ],
   "source": [
    "t1= Triangle();  # now t1 is Triangle\n",
    "print(t1)\n",
    "print(type(t1))\n",
    "print(id(t1))"
   ]
  },
  {
   "cell_type": "code",
   "execution_count": 4,
   "metadata": {},
   "outputs": [
    {
     "name": "stdout",
     "output_type": "stream",
     "text": [
      "1660487212240\n",
      "1660492654544\n"
     ]
    }
   ],
   "source": [
    "t2=Triangle() # it's a unqiuely different object\n",
    "\n",
    "print(id(t1))\n",
    "print(id(t2))"
   ]
  },
  {
   "cell_type": "code",
   "execution_count": 5,
   "metadata": {},
   "outputs": [
    {
     "name": "stdout",
     "output_type": "stream",
     "text": [
      "True\n"
     ]
    }
   ],
   "source": [
    "print(isinstance(t1,Triangle))"
   ]
  },
  {
   "cell_type": "markdown",
   "metadata": {},
   "source": [
    "### But triangle's should have sides. Right?\n",
    "\n",
    "* Unlike C++/C#/Java we can add properties to an object after it has been created\n",
    "* In fact we always add, after it has been created"
   ]
  },
  {
   "cell_type": "code",
   "execution_count": 6,
   "metadata": {},
   "outputs": [],
   "source": [
    "class Triangle:\n",
    "    pass"
   ]
  },
  {
   "cell_type": "code",
   "execution_count": 7,
   "metadata": {},
   "outputs": [
    {
     "name": "stdout",
     "output_type": "stream",
     "text": [
      "<__main__.Triangle object at 0x000001829CBEDFD0>\n"
     ]
    }
   ],
   "source": [
    "t=Triangle()\n",
    "print(t)"
   ]
  },
  {
   "cell_type": "code",
   "execution_count": 9,
   "metadata": {},
   "outputs": [
    {
     "name": "stdout",
     "output_type": "stream",
     "text": [
      "True\n",
      "False\n"
     ]
    }
   ],
   "source": [
    "# we can check if object is instance of a class\n",
    "print(isinstance(t, Triangle))\n",
    "print(isinstance(t, list))"
   ]
  },
  {
   "cell_type": "code",
   "execution_count": 11,
   "metadata": {},
   "outputs": [
    {
     "name": "stdout",
     "output_type": "stream",
     "text": [
      "['s1', 's2', 's3']\n"
     ]
    }
   ],
   "source": [
    "# now we can add sides to \"t\"\n",
    "\n",
    "t.s1=3\n",
    "t.s2=4\n",
    "t.s3=5\n",
    "\n",
    "# now triangle t has three values\n",
    "print([prop for prop in dir(t) if not prop.startswith('__')])"
   ]
  },
  {
   "cell_type": "code",
   "execution_count": 12,
   "metadata": {},
   "outputs": [
    {
     "name": "stdout",
     "output_type": "stream",
     "text": [
      "3 4 5\n"
     ]
    }
   ],
   "source": [
    "### we can also use these properties\n",
    "print(t.s1,t.s2,t.s3)\n"
   ]
  },
  {
   "cell_type": "markdown",
   "metadata": {},
   "source": [
    "### Is this a realistic model?\n",
    "\n",
    "* in c++/java/c# like language we need to define all information (fields) related to object in advance in class\n",
    "* in python we don't require\n",
    "* we add it after the class. Does it make sense?\n",
    "\n",
    "* A object evolves over the period of time\n",
    "* class shouldn't be responsibile for all events of object after it is created\n",
    "* It has two role\n",
    "    1. create the object\n",
    "    2. give it an identity\n",
    "\n",
    "### does this triangle object help in our perimeter?"
   ]
  },
  {
   "cell_type": "code",
   "execution_count": 13,
   "metadata": {},
   "outputs": [],
   "source": [
    "def perimeter(t):\n",
    "    if isinstance(t,Triangle) and t.s1>0 and t.s2>0 and t.s3>0 and t.s1+t.s2> t.s3 and t.s2+t.s3>t.s1 and t.s1+t.s3>t.s2:\n",
    "        return t1.s1+t.s2+t.s3\n",
    "    else:\n",
    "        raise Exception(\"Invalid Triangle Object\")\n"
   ]
  },
  {
   "cell_type": "markdown",
   "metadata": {},
   "source": [
    "### Design advantage\n",
    "\n",
    "* This method takes a single triangle object\n",
    "    * we can't pass sides of different triangles\n",
    "        * it doesn't take 3 parameters but 1.\n",
    "* it rejects the object if it is not a triangle object\n",
    "* it rejects if sides are not valid"
   ]
  },
  {
   "cell_type": "code",
   "execution_count": 14,
   "metadata": {},
   "outputs": [],
   "source": [
    "t1= Triangle()\n",
    "t1.s1=3\n",
    "t1.s2=4\n",
    "t1.s3=5\n",
    "\n",
    "t2= Triangle()\n",
    "t2.s1=5\n",
    "t2.s2=5\n",
    "t2.s3=15\n",
    "\n",
    "class Quadilateral:\n",
    "    pass\n",
    "\n",
    "q1= Quadilateral()\n",
    "q1.s1=3\n",
    "q1.s2=4\n",
    "q1.s3=5\n",
    "q1.s4=6\n"
   ]
  },
  {
   "cell_type": "code",
   "execution_count": 15,
   "metadata": {},
   "outputs": [
    {
     "ename": "TypeError",
     "evalue": "perimeter() takes 1 positional argument but 3 were given",
     "output_type": "error",
     "traceback": [
      "\u001b[1;31m---------------------------------------------------------------------------\u001b[0m",
      "\u001b[1;31mTypeError\u001b[0m                                 Traceback (most recent call last)",
      "Cell \u001b[1;32mIn[15], line 3\u001b[0m\n\u001b[0;32m      1\u001b[0m \u001b[39m## we can't multiple values\u001b[39;00m\n\u001b[1;32m----> 3\u001b[0m perimeter(t1\u001b[39m.\u001b[39;49ms1, t1\u001b[39m.\u001b[39;49ms2, q1\u001b[39m.\u001b[39;49ms3)\n",
      "\u001b[1;31mTypeError\u001b[0m: perimeter() takes 1 positional argument but 3 were given"
     ]
    }
   ],
   "source": [
    "## we can't multiple values\n",
    "\n",
    "perimeter(t1.s1, t1.s2, q1.s3)"
   ]
  },
  {
   "cell_type": "code",
   "execution_count": 16,
   "metadata": {},
   "outputs": [
    {
     "ename": "Exception",
     "evalue": "Invalid Triangle Object",
     "output_type": "error",
     "traceback": [
      "\u001b[1;31m---------------------------------------------------------------------------\u001b[0m",
      "\u001b[1;31mException\u001b[0m                                 Traceback (most recent call last)",
      "Cell \u001b[1;32mIn[16], line 3\u001b[0m\n\u001b[0;32m      1\u001b[0m \u001b[39m### will not work with quadilateral\u001b[39;00m\n\u001b[1;32m----> 3\u001b[0m perimeter(q1)\n",
      "Cell \u001b[1;32mIn[13], line 5\u001b[0m, in \u001b[0;36mperimeter\u001b[1;34m(t)\u001b[0m\n\u001b[0;32m      3\u001b[0m     \u001b[39mreturn\u001b[39;00m t1\u001b[39m.\u001b[39ms1\u001b[39m+\u001b[39mt\u001b[39m.\u001b[39ms2\u001b[39m+\u001b[39mt\u001b[39m.\u001b[39ms3\n\u001b[0;32m      4\u001b[0m \u001b[39melse\u001b[39;00m:\n\u001b[1;32m----> 5\u001b[0m     \u001b[39mraise\u001b[39;00m \u001b[39mException\u001b[39;00m(\u001b[39m\"\u001b[39m\u001b[39mInvalid Triangle Object\u001b[39m\u001b[39m\"\u001b[39m)\n",
      "\u001b[1;31mException\u001b[0m: Invalid Triangle Object"
     ]
    }
   ],
   "source": [
    "### will not work with quadilateral\n",
    "\n",
    "perimeter(q1)"
   ]
  },
  {
   "cell_type": "code",
   "execution_count": 18,
   "metadata": {},
   "outputs": [
    {
     "ename": "Exception",
     "evalue": "Invalid Triangle Object",
     "output_type": "error",
     "traceback": [
      "\u001b[1;31m---------------------------------------------------------------------------\u001b[0m",
      "\u001b[1;31mException\u001b[0m                                 Traceback (most recent call last)",
      "Cell \u001b[1;32mIn[18], line 3\u001b[0m\n\u001b[0;32m      1\u001b[0m \u001b[39m### fails for wrong sides\u001b[39;00m\n\u001b[1;32m----> 3\u001b[0m perimeter(t2)\n",
      "Cell \u001b[1;32mIn[13], line 5\u001b[0m, in \u001b[0;36mperimeter\u001b[1;34m(t)\u001b[0m\n\u001b[0;32m      3\u001b[0m     \u001b[39mreturn\u001b[39;00m t1\u001b[39m.\u001b[39ms1\u001b[39m+\u001b[39mt\u001b[39m.\u001b[39ms2\u001b[39m+\u001b[39mt\u001b[39m.\u001b[39ms3\n\u001b[0;32m      4\u001b[0m \u001b[39melse\u001b[39;00m:\n\u001b[1;32m----> 5\u001b[0m     \u001b[39mraise\u001b[39;00m \u001b[39mException\u001b[39;00m(\u001b[39m\"\u001b[39m\u001b[39mInvalid Triangle Object\u001b[39m\u001b[39m\"\u001b[39m)\n",
      "\u001b[1;31mException\u001b[0m: Invalid Triangle Object"
     ]
    }
   ],
   "source": [
    "### fails for wrong sides\n",
    "\n",
    "perimeter(t2)"
   ]
  },
  {
   "cell_type": "code",
   "execution_count": 19,
   "metadata": {},
   "outputs": [
    {
     "data": {
      "text/plain": [
       "12"
      ]
     },
     "execution_count": 19,
     "metadata": {},
     "output_type": "execute_result"
    }
   ],
   "source": [
    "perimeter(t1)"
   ]
  },
  {
   "cell_type": "code",
   "execution_count": 20,
   "metadata": {},
   "outputs": [
    {
     "ename": "AttributeError",
     "evalue": "'Triangle' object has no attribute 's1'",
     "output_type": "error",
     "traceback": [
      "\u001b[1;31m---------------------------------------------------------------------------\u001b[0m",
      "\u001b[1;31mAttributeError\u001b[0m                            Traceback (most recent call last)",
      "Cell \u001b[1;32mIn[20], line 5\u001b[0m\n\u001b[0;32m      1\u001b[0m \u001b[39m## what if triangle doesn't have required sides?\u001b[39;00m\n\u001b[0;32m      3\u001b[0m t3\u001b[39m=\u001b[39mTriangle();\n\u001b[1;32m----> 5\u001b[0m perimeter(t3)\n",
      "Cell \u001b[1;32mIn[13], line 2\u001b[0m, in \u001b[0;36mperimeter\u001b[1;34m(t)\u001b[0m\n\u001b[0;32m      1\u001b[0m \u001b[39mdef\u001b[39;00m \u001b[39mperimeter\u001b[39m(t):\n\u001b[1;32m----> 2\u001b[0m     \u001b[39mif\u001b[39;00m \u001b[39misinstance\u001b[39m(t,Triangle) \u001b[39mand\u001b[39;00m t\u001b[39m.\u001b[39;49ms1\u001b[39m>\u001b[39m\u001b[39m0\u001b[39m \u001b[39mand\u001b[39;00m t\u001b[39m.\u001b[39ms2\u001b[39m>\u001b[39m\u001b[39m0\u001b[39m \u001b[39mand\u001b[39;00m t\u001b[39m.\u001b[39ms3\u001b[39m>\u001b[39m\u001b[39m0\u001b[39m \u001b[39mand\u001b[39;00m t\u001b[39m.\u001b[39ms1\u001b[39m+\u001b[39mt\u001b[39m.\u001b[39ms2\u001b[39m>\u001b[39m t\u001b[39m.\u001b[39ms3 \u001b[39mand\u001b[39;00m t\u001b[39m.\u001b[39ms2\u001b[39m+\u001b[39mt\u001b[39m.\u001b[39ms3\u001b[39m>\u001b[39mt\u001b[39m.\u001b[39ms1 \u001b[39mand\u001b[39;00m t\u001b[39m.\u001b[39ms1\u001b[39m+\u001b[39mt\u001b[39m.\u001b[39ms3\u001b[39m>\u001b[39mt\u001b[39m.\u001b[39ms2:\n\u001b[0;32m      3\u001b[0m         \u001b[39mreturn\u001b[39;00m t1\u001b[39m.\u001b[39ms1\u001b[39m+\u001b[39mt\u001b[39m.\u001b[39ms2\u001b[39m+\u001b[39mt\u001b[39m.\u001b[39ms3\n\u001b[0;32m      4\u001b[0m     \u001b[39melse\u001b[39;00m:\n",
      "\u001b[1;31mAttributeError\u001b[0m: 'Triangle' object has no attribute 's1'"
     ]
    }
   ],
   "source": [
    "## what if triangle doesn't have required sides?\n",
    "\n",
    "t3=Triangle();\n",
    "\n",
    "perimeter(t3)"
   ]
  },
  {
   "cell_type": "markdown",
   "metadata": {},
   "source": [
    "#### Problem 2 we need to find an easy way to create triangle\n",
    "\n",
    "* we can create a **create** method"
   ]
  },
  {
   "cell_type": "code",
   "execution_count": 21,
   "metadata": {},
   "outputs": [],
   "source": [
    "from math import sqrt\n",
    "\n",
    "class Triangle:\n",
    "    pass\n",
    "\n",
    "def perimeter(t):\n",
    "    validate(t)\n",
    "    return t1.s1+t.s2+t.s3\n",
    "    \n",
    "    \n",
    "def create(s1,s2,s3):\n",
    "    t=Triangle()\n",
    "    t.s1=s1\n",
    "    t.s2=s2\n",
    "    t.s3=s3\n",
    "    return t\n",
    "\n",
    "def validate(t):\n",
    "    \n",
    "    if not isinstance(t,Triangle):\n",
    "        raise Exception(\"Not A triangle\")\n",
    "    \n",
    "    if (t.s1>0 and t.s2>0 and t.s3>0 and t.s1+t.s2> t.s3 and t.s2+t.s3>t.s1 and t.s1+t.s3>t.s2):\n",
    "        pass\n",
    "    else:\n",
    "        raise Exception(\"Not a valid Triangle\")\n",
    "    \n",
    "\n",
    "def area(t):\n",
    "    validate(t)\n",
    "    s=perimeter(t)/2\n",
    "    return sqrt(s*(s-t.s1)*(s-t.s2)*(s-t.s3))\n",
    "\n",
    "def draw(t):\n",
    "    validate(t)\n",
    "    print(f'Triangle<{t.s1},{t.s2},{t.s3}>')"
   ]
  },
  {
   "cell_type": "code",
   "execution_count": 22,
   "metadata": {},
   "outputs": [],
   "source": [
    "def test_triangle(s1,s2,s3):\n",
    "    t=create(s1,s2,s3)\n",
    "    \n",
    "    draw(t)\n",
    "    print(f'Area={area(t)}')\n",
    "    print(f'Perimeter={perimeter(t)}')"
   ]
  },
  {
   "cell_type": "code",
   "execution_count": 23,
   "metadata": {},
   "outputs": [
    {
     "name": "stdout",
     "output_type": "stream",
     "text": [
      "Triangle<3,4,5>\n",
      "Area=6.0\n",
      "Perimeter=12\n"
     ]
    }
   ],
   "source": [
    "test_triangle(3,4,5)"
   ]
  },
  {
   "cell_type": "code",
   "execution_count": 24,
   "metadata": {},
   "outputs": [
    {
     "ename": "Exception",
     "evalue": "Not a valid Triangle",
     "output_type": "error",
     "traceback": [
      "\u001b[1;31m---------------------------------------------------------------------------\u001b[0m",
      "\u001b[1;31mException\u001b[0m                                 Traceback (most recent call last)",
      "Cell \u001b[1;32mIn[24], line 1\u001b[0m\n\u001b[1;32m----> 1\u001b[0m test_triangle(\u001b[39m3\u001b[39;49m,\u001b[39m4\u001b[39;49m,\u001b[39m10\u001b[39;49m)\n",
      "Cell \u001b[1;32mIn[22], line 4\u001b[0m, in \u001b[0;36mtest_triangle\u001b[1;34m(s1, s2, s3)\u001b[0m\n\u001b[0;32m      1\u001b[0m \u001b[39mdef\u001b[39;00m \u001b[39mtest_triangle\u001b[39m(s1,s2,s3):\n\u001b[0;32m      2\u001b[0m     t\u001b[39m=\u001b[39mcreate(s1,s2,s3)\n\u001b[1;32m----> 4\u001b[0m     draw(t)\n\u001b[0;32m      5\u001b[0m     \u001b[39mprint\u001b[39m(\u001b[39mf\u001b[39m\u001b[39m'\u001b[39m\u001b[39mArea=\u001b[39m\u001b[39m{\u001b[39;00marea(t)\u001b[39m}\u001b[39;00m\u001b[39m'\u001b[39m)\n\u001b[0;32m      6\u001b[0m     \u001b[39mprint\u001b[39m(\u001b[39mf\u001b[39m\u001b[39m'\u001b[39m\u001b[39mPerimeter=\u001b[39m\u001b[39m{\u001b[39;00mperimeter(t)\u001b[39m}\u001b[39;00m\u001b[39m'\u001b[39m)\n",
      "Cell \u001b[1;32mIn[21], line 35\u001b[0m, in \u001b[0;36mdraw\u001b[1;34m(t)\u001b[0m\n\u001b[0;32m     34\u001b[0m \u001b[39mdef\u001b[39;00m \u001b[39mdraw\u001b[39m(t):\n\u001b[1;32m---> 35\u001b[0m     validate(t)\n\u001b[0;32m     36\u001b[0m     \u001b[39mprint\u001b[39m(\u001b[39mf\u001b[39m\u001b[39m'\u001b[39m\u001b[39mTriangle<\u001b[39m\u001b[39m{\u001b[39;00mt\u001b[39m.\u001b[39ms1\u001b[39m}\u001b[39;00m\u001b[39m,\u001b[39m\u001b[39m{\u001b[39;00mt\u001b[39m.\u001b[39ms2\u001b[39m}\u001b[39;00m\u001b[39m,\u001b[39m\u001b[39m{\u001b[39;00mt\u001b[39m.\u001b[39ms3\u001b[39m}\u001b[39;00m\u001b[39m>\u001b[39m\u001b[39m'\u001b[39m)\n",
      "Cell \u001b[1;32mIn[21], line 26\u001b[0m, in \u001b[0;36mvalidate\u001b[1;34m(t)\u001b[0m\n\u001b[0;32m     24\u001b[0m     \u001b[39mpass\u001b[39;00m\n\u001b[0;32m     25\u001b[0m \u001b[39melse\u001b[39;00m:\n\u001b[1;32m---> 26\u001b[0m     \u001b[39mraise\u001b[39;00m \u001b[39mException\u001b[39;00m(\u001b[39m\"\u001b[39m\u001b[39mNot a valid Triangle\u001b[39m\u001b[39m\"\u001b[39m)\n",
      "\u001b[1;31mException\u001b[0m: Not a valid Triangle"
     ]
    }
   ],
   "source": [
    "test_triangle(3,4,10)"
   ]
  },
  {
   "cell_type": "markdown",
   "metadata": {},
   "source": [
    "## Let us create a model for a Circle"
   ]
  },
  {
   "cell_type": "code",
   "execution_count": 25,
   "metadata": {},
   "outputs": [],
   "source": [
    "class Circle:\n",
    "    pass\n",
    "\n",
    "def create(radius):\n",
    "    c=Circle()\n",
    "    c.radius=radius\n",
    "    return c\n",
    "\n",
    "def validate(circle):\n",
    "    if not (isinstance(circle,Circle) and circle.radius>0):\n",
    "        raise Exception(\"Invalid Circle\")\n",
    "    \n",
    "def perimeter(circle):\n",
    "    validate(circle)\n",
    "    return 2* 3.14 * circle.radius"
   ]
  },
  {
   "cell_type": "code",
   "execution_count": 26,
   "metadata": {},
   "outputs": [
    {
     "name": "stdout",
     "output_type": "stream",
     "text": [
      "43.96\n"
     ]
    }
   ],
   "source": [
    "c=create(7)\n",
    "print(perimeter(c))"
   ]
  },
  {
   "cell_type": "code",
   "execution_count": 27,
   "metadata": {},
   "outputs": [
    {
     "ename": "TypeError",
     "evalue": "create() takes 1 positional argument but 3 were given",
     "output_type": "error",
     "traceback": [
      "\u001b[1;31m---------------------------------------------------------------------------\u001b[0m",
      "\u001b[1;31mTypeError\u001b[0m                                 Traceback (most recent call last)",
      "Cell \u001b[1;32mIn[27], line 1\u001b[0m\n\u001b[1;32m----> 1\u001b[0m test_triangle(\u001b[39m5\u001b[39;49m,\u001b[39m5\u001b[39;49m,\u001b[39m5\u001b[39;49m)\n",
      "Cell \u001b[1;32mIn[22], line 2\u001b[0m, in \u001b[0;36mtest_triangle\u001b[1;34m(s1, s2, s3)\u001b[0m\n\u001b[0;32m      1\u001b[0m \u001b[39mdef\u001b[39;00m \u001b[39mtest_triangle\u001b[39m(s1,s2,s3):\n\u001b[1;32m----> 2\u001b[0m     t\u001b[39m=\u001b[39mcreate(s1,s2,s3)\n\u001b[0;32m      4\u001b[0m     draw(t)\n\u001b[0;32m      5\u001b[0m     \u001b[39mprint\u001b[39m(\u001b[39mf\u001b[39m\u001b[39m'\u001b[39m\u001b[39mArea=\u001b[39m\u001b[39m{\u001b[39;00marea(t)\u001b[39m}\u001b[39;00m\u001b[39m'\u001b[39m)\n",
      "\u001b[1;31mTypeError\u001b[0m: create() takes 1 positional argument but 3 were given"
     ]
    }
   ],
   "source": [
    "test_triangle(5,5,5)"
   ]
  },
  {
   "cell_type": "markdown",
   "metadata": {},
   "source": [
    "### Problem\n",
    "\n",
    "* when we defined \"create\" for circle it replaced the \"create\" for triangle\n",
    "* this is what we discussed in global problem\n",
    "    * all names are global\n",
    "    * we can't have two **create** in a given context\n",
    "\n",
    "\n",
    "#### Solution 1 ---> use modules\n",
    "\n",
    "```python\n",
    "import cricle as c\n",
    "import triangle as t\n",
    "\n",
    "t1= t.create(3,4,5)\n",
    "c1= c.create(7)\n",
    "```\n",
    "\n",
    "\n",
    "## Class Role #2  ---> It can act as a group of functions\n",
    "\n",
    "* we can define functions inside a class\n",
    "* by defining it inside we are essentially making them non-gobal\n",
    "* function defined inside Triangle will not be replaced by functions defined inside Circle"
   ]
  },
  {
   "cell_type": "code",
   "execution_count": 33,
   "metadata": {},
   "outputs": [],
   "source": [
    "from math import sqrt\n",
    "\n",
    "class Triangle:\n",
    "\n",
    "    def create(s1,s2,s3):\n",
    "        t=Triangle()\n",
    "        t.s1=s1\n",
    "        t.s2=s2\n",
    "        t.s3=s3\n",
    "        return t\n",
    "\n",
    "\n",
    "    def perimeter(t):\n",
    "        Triangle.validate(t)\n",
    "        return t1.s1+t.s2+t.s3\n",
    "    \n",
    "\n",
    "    def validate(t):\n",
    "        \n",
    "        if not isinstance(t,Triangle):\n",
    "            raise Exception(\"Not A triangle\")\n",
    "        \n",
    "        if (t.s1>0 and t.s2>0 and t.s3>0 and t.s1+t.s2> t.s3 and t.s2+t.s3>t.s1 and t.s1+t.s3>t.s2):\n",
    "            pass\n",
    "        else:\n",
    "            raise Exception(\"Not a valid Triangle\")\n",
    "        \n",
    "\n",
    "    def area(t):\n",
    "        Triangle.validate(t)\n",
    "        s=Triangle.perimeter(t)/2\n",
    "        return sqrt(s*(s-t.s1)*(s-t.s2)*(s-t.s3))\n",
    "\n",
    "    def draw(t):\n",
    "        Triangle.validate(t)\n",
    "        print(f'Triangle<{t.s1},{t.s2},{t.s3}>')\n",
    "\n",
    "\n"
   ]
  },
  {
   "cell_type": "code",
   "execution_count": 34,
   "metadata": {},
   "outputs": [],
   "source": [
    "class Circle:\n",
    "    \n",
    "    def create(radius):\n",
    "        c=Circle()\n",
    "        c.radius=radius\n",
    "        return c\n",
    "\n",
    "    def validate(circle):\n",
    "        if not isinstance(circle,Circle):\n",
    "            raise Exception(\"Not a Cricle\")\n",
    "        if circle.radius<=0:\n",
    "            raise Exception(\"Invalid Circle Raidus\")\n",
    "        \n",
    "        \n",
    "    def perimeter(circle):\n",
    "        Circle.validate(circle)\n",
    "        return 2* 3.14 * circle.radius"
   ]
  },
  {
   "cell_type": "markdown",
   "metadata": {},
   "source": [
    "### Now our classes have two main roles\n",
    "\n",
    "1. create object and give it a type identity\n",
    "    * we have something called triangle\n",
    "2. group all triangle releated methods in one place\n",
    "    * here it acting like  module object alternative\n",
    "    * remember module is also an object"
   ]
  },
  {
   "cell_type": "code",
   "execution_count": 35,
   "metadata": {},
   "outputs": [],
   "source": [
    "def test_triangle(s1,s2,s3):\n",
    "    t=Triangle.create(3,4,5)\n",
    "    Triangle.draw(t)\n",
    "    print('Area is', Triangle.area(t))\n",
    "    print('Perimeter is ', Triangle.perimeter(t))\n",
    "    print()\n",
    "\n",
    "def test_circle(r):\n",
    "    c= Circle.create(r)\n",
    "    print('Perimeter is ', Circle.perimeter(c))\n",
    "    print()\n",
    "    "
   ]
  },
  {
   "cell_type": "code",
   "execution_count": 36,
   "metadata": {},
   "outputs": [
    {
     "name": "stdout",
     "output_type": "stream",
     "text": [
      "Triangle<3,4,5>\n",
      "Area is 6.0\n",
      "Perimeter is  12\n",
      "\n",
      "Perimeter is  43.96\n",
      "\n"
     ]
    }
   ],
   "source": [
    "test_triangle(3,4,5)\n",
    "\n",
    "test_circle(7)\n"
   ]
  },
  {
   "cell_type": "markdown",
   "metadata": {},
   "source": [
    "## Python magic syntax\n",
    "\n",
    "* **IMPORTANT CONDITION**\n",
    "    * the class method, takes the object of same class as first parameter\n",
    "* then we can use the object instead of class name to invoke the function\n",
    "    * we don't need to pass the object again\n",
    "\n",
    "\n",
    "### Let's look at two methods of Square class"
   ]
  },
  {
   "cell_type": "code",
   "execution_count": 37,
   "metadata": {},
   "outputs": [],
   "source": [
    "class Square:\n",
    "    def create(side):\n",
    "        s=Square()\n",
    "        s.side=side\n",
    "        return s\n",
    "    \n",
    "    def perimeter(s):\n",
    "        return 4*s.side"
   ]
  },
  {
   "cell_type": "markdown",
   "metadata": {},
   "source": [
    "#### normal call to create and perimeter"
   ]
  },
  {
   "cell_type": "code",
   "execution_count": 39,
   "metadata": {},
   "outputs": [
    {
     "name": "stdout",
     "output_type": "stream",
     "text": [
      "20\n"
     ]
    }
   ],
   "source": [
    "s1=Square.create(5)\n",
    "p= Square.perimeter(s1)\n",
    "print(p)"
   ]
  },
  {
   "cell_type": "markdown",
   "metadata": {},
   "source": [
    "#### Note\n",
    "\n",
    "* what parameter create takes?\n",
    "    * int / float \n",
    "    * not a sqare\n",
    "    * this is not fit for the magic\n",
    "\n",
    "* what parameter does perimeter take?\n",
    "    * square obeject\n",
    "    * now this is fit for the magic\n",
    "        "
   ]
  },
  {
   "cell_type": "code",
   "execution_count": 40,
   "metadata": {},
   "outputs": [
    {
     "name": "stdout",
     "output_type": "stream",
     "text": [
      "20\n"
     ]
    }
   ],
   "source": [
    "s1 = Square.create(5) # standard syntax\n",
    "p=   s1.perimeter()  # internally transformed to  --> Square.perimeter(s1) \n",
    "print(p)"
   ]
  },
  {
   "cell_type": "markdown",
   "metadata": {},
   "source": [
    "### what happened?\n",
    "\n",
    "* in standard syntas we have Square redundantt\n",
    "    * Square.perimeter(s1)\n",
    "        * s1 is also square\n",
    "\n",
    "* In object invoking model\n",
    "    * we use first parameter as inovoking object\n",
    "    * we pass one parameter less to function\n",
    "        * s1.perimeter()\n",
    "    * it is internally converted to standard syntax\n",
    "\n",
    "\n",
    "#### what if we try the same style on create?\n"
   ]
  },
  {
   "cell_type": "code",
   "execution_count": 41,
   "metadata": {},
   "outputs": [
    {
     "ename": "TypeError",
     "evalue": "Square.create() takes 1 positional argument but 2 were given",
     "output_type": "error",
     "traceback": [
      "\u001b[1;31m---------------------------------------------------------------------------\u001b[0m",
      "\u001b[1;31mTypeError\u001b[0m                                 Traceback (most recent call last)",
      "Cell \u001b[1;32mIn[41], line 3\u001b[0m\n\u001b[0;32m      1\u001b[0m s\u001b[39m=\u001b[39mSquare()\n\u001b[1;32m----> 3\u001b[0m s\u001b[39m.\u001b[39;49mcreate(\u001b[39m5\u001b[39;49m) \u001b[39m# Square.create(s,5)\u001b[39;00m\n",
      "\u001b[1;31mTypeError\u001b[0m: Square.create() takes 1 positional argument but 2 were given"
     ]
    }
   ],
   "source": [
    "s=Square()\n",
    "\n",
    "s.create(5) # Square.create(s,5)"
   ]
  },
  {
   "cell_type": "code",
   "execution_count": 79,
   "metadata": {},
   "outputs": [],
   "source": [
    "def draw(t, surface):\n",
    "    t.validate()\n",
    "    print(f'Triangle<{t.s1},{t.s2},{t.s3}> drawn on {surface}')\n",
    "\n",
    "Triangle.draw=draw #even functions are object"
   ]
  },
  {
   "cell_type": "code",
   "execution_count": 80,
   "metadata": {},
   "outputs": [
    {
     "name": "stdout",
     "output_type": "stream",
     "text": [
      "Triangle<3,4,5> drawn on paper\n"
     ]
    }
   ],
   "source": [
    "t=Triangle.create(3,4,5)\n",
    "\n",
    "t.draw(\"paper\") # Triangle.draw(t,\"paper\")"
   ]
  },
  {
   "cell_type": "markdown",
   "metadata": {},
   "source": [
    "## A word about convention\n",
    "\n",
    "* conventions are not the languages syntax\n",
    "* they are not compulsions created by the language\n",
    "* They are common design paractices adopted as a community\n",
    "* They help us write a more maintainable code as every python developer will know and expect the use of those conventional approaches.\n",
    "* We should always follow convention as if they are language's compulsary syntax.\n",
    "\n",
    "\n",
    "### Naming Convention (**self**)\n",
    "\n",
    "* It is difficult to use same long phrase everytimg --> \"if the first parmeter of a class method is the instance of the same class...\"\n",
    "\n",
    "* Python community created a convention to name the parameter that represents the object on which this function works\n",
    "\n",
    "* we call it **self** \n",
    "    * it is similar to **this** of C++/Java/C#/JavaScript\n",
    "    * we should always call the first parameter of a class method (if it represents the object of the same class as **self**)\n",
    "\n",
    "\n",
    "#### this vs self\n",
    "\n",
    "* this \n",
    "    * is C++ like language is a keyword and compulsary\n",
    "    * we don't pass it explicitly\n",
    "    * we can't call it by any other name\n",
    "    * it may be optional to use\n",
    "\n",
    "* self\n",
    "    * not a language feature o keyword\n",
    "    * must be explictly passed.\n",
    "    * must be explcitly used to access property and behavior of the class\n",
    "    * can be called anything like (t, c, me) but whould be called **self**\n",
    "\n",
    "\n",
    "\n",
    "\n"
   ]
  },
  {
   "cell_type": "code",
   "execution_count": 42,
   "metadata": {},
   "outputs": [],
   "source": [
    "class Square:\n",
    "    def create(side):\n",
    "        s=Square()\n",
    "        s.side=side\n",
    "        return s\n",
    "    \n",
    "    def perimeter(self):\n",
    "        return 4*self.side"
   ]
  },
  {
   "cell_type": "markdown",
   "metadata": {},
   "source": [
    "### Converting create to take a  self parameter\n",
    "\n",
    "* How do I convert create function to take \"self\" parameter\n"
   ]
  },
  {
   "cell_type": "code",
   "execution_count": 45,
   "metadata": {},
   "outputs": [],
   "source": [
    "class Square:\n",
    "    def create(self,side):        \n",
    "        self.side=side\n",
    "    \n",
    "    def perimeter(self):\n",
    "        return 4*self.side"
   ]
  },
  {
   "cell_type": "code",
   "execution_count": 46,
   "metadata": {},
   "outputs": [
    {
     "name": "stdout",
     "output_type": "stream",
     "text": [
      "20\n"
     ]
    }
   ],
   "source": [
    "s=Square()\n",
    "\n",
    "s.create(5)\n",
    "\n",
    "print(s.perimeter())"
   ]
  },
  {
   "cell_type": "markdown",
   "metadata": {},
   "source": [
    "### When is Square Created?\n",
    "\n",
    "* In the above code, when exactly is Square object create?\n",
    "\n",
    "* Here:   **s= Square()**\n",
    "* Or Here  **s.create(5)**\n",
    "\n",
    "#### If we think created square on **s=Square()**?\n",
    "\n",
    "*  what if we dont call **create**\n",
    "    * what will be the side of squre \n",
    "    * what will be the perimeter() \n",
    "\n",
    "#### if we think we created square on **s.create(5)**?\n",
    "\n",
    "* what is \"s\" before calling **create**\n",
    "* what will **print(type(s))** return?\n",
    "\n",
    "\n",
    "### There are actually 2 squares.\n",
    "\n",
    "1. The python understanding of Square:  **s=Square()**\n",
    "    * for python square is just an object\n",
    "    * it doesn't need any attribute\n",
    "    * it's just a memory allocation\n",
    "\n",
    "2. The geometric understanding of Square\n",
    "    * It should have 4 sides needed to work\n",
    "    * The 4 sides follow some validation rule\n",
    "\n",
    "\n",
    "#### Problem\n",
    "\n",
    "* the square is NOT usable till we have followed both steps\n",
    "* But there is gap in two steps\n",
    "* We may forget to call the step#2 :  **s.create(4)** thereby having a invalid object\n",
    "\n",
    "\n",
    "## Object Lifecycle Methods\n",
    "\n",
    "#### What happens when we call **s=Square()**\n",
    "\n",
    "* python internally calls two functions at this stage\n",
    "\n",
    "```python\n",
    "# s= Square()\n",
    "s = Square.__new__() #allocates memory for Square\n",
    "Square.__init__()  # intializes the square Object\n",
    "\n",
    "```\n",
    "\n",
    "* we generally don't need to modify \\_\\_new\\_\\_() (although we can)\n",
    "* but we can define our own \\_\\_init\\_\\_()  that can replace built-in version\n",
    "    * we can use it to intialize our python object\n",
    "\n",
    "\n"
   ]
  },
  {
   "cell_type": "markdown",
   "metadata": {},
   "source": []
  },
  {
   "cell_type": "code",
   "execution_count": 49,
   "metadata": {},
   "outputs": [],
   "source": [
    "class Square:\n",
    "    def __init__(self):\n",
    "        print('init called')"
   ]
  },
  {
   "cell_type": "code",
   "execution_count": 50,
   "metadata": {},
   "outputs": [
    {
     "name": "stdout",
     "output_type": "stream",
     "text": [
      "init called\n"
     ]
    }
   ],
   "source": [
    "s=Square()"
   ]
  },
  {
   "cell_type": "markdown",
   "metadata": {},
   "source": [
    "### we can rename our create to \\_\\_init\\_\\_()\n",
    "\n",
    "##### The difference between create and \\_\\_init\\_\\_()\n",
    "\n",
    "* **create** \n",
    "    * is an ordinary function that must be explicitly called after object is created. \n",
    "    * we may forget to call it\n",
    "\n",
    "* **\\_\\_init\\_\\_()**\n",
    "    * is a special python function\n",
    "    * it is called implicitly\n",
    "    * we can't forget to call it"
   ]
  },
  {
   "cell_type": "code",
   "execution_count": 51,
   "metadata": {},
   "outputs": [],
   "source": [
    "class Square:\n",
    "    def __init__(self,side):  \n",
    "        if(side>0):      \n",
    "            self.side=side\n",
    "        else:\n",
    "            raise Exception(f\"Invalid Side {side}\")\n",
    "    \n",
    "    def perimeter(self):\n",
    "        return 4*self.side"
   ]
  },
  {
   "cell_type": "markdown",
   "metadata": {},
   "source": [
    "### our \\_\\_init\\_\\_(self,side) replaced default \\_\\_init\\_\\_(self)\n",
    "\n",
    "* now we don't have a init that takes only self\n",
    "* our init takes additional parameter side\n",
    "* we can't call Square constructor without giving a parameter"
   ]
  },
  {
   "cell_type": "code",
   "execution_count": 52,
   "metadata": {},
   "outputs": [
    {
     "ename": "TypeError",
     "evalue": "Square.__init__() missing 1 required positional argument: 'side'",
     "output_type": "error",
     "traceback": [
      "\u001b[1;31m---------------------------------------------------------------------------\u001b[0m",
      "\u001b[1;31mTypeError\u001b[0m                                 Traceback (most recent call last)",
      "Cell \u001b[1;32mIn[52], line 1\u001b[0m\n\u001b[1;32m----> 1\u001b[0m s\u001b[39m=\u001b[39mSquare()\n",
      "\u001b[1;31mTypeError\u001b[0m: Square.__init__() missing 1 required positional argument: 'side'"
     ]
    }
   ],
   "source": [
    "s=Square()"
   ]
  },
  {
   "cell_type": "markdown",
   "metadata": {},
   "source": [
    "#### Now we must pass same a parameter to Square constructor that \\_\\_init\\_\\_(self,side) takes"
   ]
  },
  {
   "cell_type": "code",
   "execution_count": 53,
   "metadata": {},
   "outputs": [
    {
     "name": "stdout",
     "output_type": "stream",
     "text": [
      "20\n"
     ]
    }
   ],
   "source": [
    "s=Square(5)\n",
    "print(s.perimeter())"
   ]
  },
  {
   "cell_type": "markdown",
   "metadata": {},
   "source": [
    "### destroying an object \\_\\_del\\_\\_(self)\n",
    "\n",
    "* just like creating an object we can also destroy an object by defining \\_\\_del\\_\\_(self)\n",
    "\n",
    "* \\_\\_del\\_\\_(self) doesn't take any parameter\n",
    "* it is called when we try to remove the object by calling **del obj**\n",
    "* It is rarely used"
   ]
  },
  {
   "cell_type": "code",
   "execution_count": 56,
   "metadata": {},
   "outputs": [],
   "source": [
    "class Square:\n",
    "    def __init__(self,side):  \n",
    "        if(side>0):      \n",
    "            self.side=side\n",
    "        else:\n",
    "            raise Exception(f\"Invalid Side {side}\")\n",
    "\n",
    "    def __del__(self):\n",
    "        print(f\"Square#{id(self)} with side {self.side} is destroyed\")\n",
    "\n",
    "    \n",
    "    def perimeter(self):\n",
    "        return 4*self.side"
   ]
  },
  {
   "cell_type": "code",
   "execution_count": 57,
   "metadata": {},
   "outputs": [],
   "source": [
    "s1=Square(5)\n",
    "s2=Square(6)"
   ]
  },
  {
   "cell_type": "code",
   "execution_count": 58,
   "metadata": {},
   "outputs": [
    {
     "name": "stdout",
     "output_type": "stream",
     "text": [
      "20\n",
      "24\n"
     ]
    }
   ],
   "source": [
    "print(s1.perimeter())\n",
    "print(s2.perimeter())"
   ]
  },
  {
   "cell_type": "code",
   "execution_count": 59,
   "metadata": {},
   "outputs": [
    {
     "name": "stdout",
     "output_type": "stream",
     "text": [
      "Square#1660494496528 with side 5 is destroyed\n"
     ]
    }
   ],
   "source": [
    "del s1"
   ]
  },
  {
   "cell_type": "code",
   "execution_count": 60,
   "metadata": {},
   "outputs": [
    {
     "ename": "NameError",
     "evalue": "name 's1' is not defined",
     "output_type": "error",
     "traceback": [
      "\u001b[1;31m---------------------------------------------------------------------------\u001b[0m",
      "\u001b[1;31mNameError\u001b[0m                                 Traceback (most recent call last)",
      "Cell \u001b[1;32mIn[60], line 1\u001b[0m\n\u001b[1;32m----> 1\u001b[0m \u001b[39mprint\u001b[39m(s1\u001b[39m.\u001b[39mperimeter())\n",
      "\u001b[1;31mNameError\u001b[0m: name 's1' is not defined"
     ]
    }
   ],
   "source": [
    "print(s1.perimeter())"
   ]
  },
  {
   "cell_type": "code",
   "execution_count": 61,
   "metadata": {},
   "outputs": [
    {
     "name": "stdout",
     "output_type": "stream",
     "text": [
      "24\n"
     ]
    }
   ],
   "source": [
    "print(s2.perimeter())"
   ]
  },
  {
   "cell_type": "code",
   "execution_count": null,
   "metadata": {},
   "outputs": [],
   "source": []
  }
 ],
 "metadata": {
  "kernelspec": {
   "display_name": "Python 3",
   "language": "python",
   "name": "python3"
  },
  "language_info": {
   "codemirror_mode": {
    "name": "ipython",
    "version": 3
   },
   "file_extension": ".py",
   "mimetype": "text/x-python",
   "name": "python",
   "nbconvert_exporter": "python",
   "pygments_lexer": "ipython3",
   "version": "3.11.5"
  },
  "orig_nbformat": 4
 },
 "nbformat": 4,
 "nbformat_minor": 2
}
