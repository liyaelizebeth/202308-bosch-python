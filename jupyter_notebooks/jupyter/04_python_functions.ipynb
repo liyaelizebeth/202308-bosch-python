{
 "cells": [
  {
   "cell_type": "markdown",
   "metadata": {},
   "source": [
    "# Python Functions\n",
    "\n",
    "* functions are the fundamental bulding block of any language. \n",
    "* it is also the smallest re-usable code\n",
    "\n",
    "\n",
    "### semantic\n",
    "\n",
    "```python\n",
    "\n",
    "def function_name ( parameters ):\n",
    "    statement1\n",
    "    statement2\n",
    "    return some_value\n",
    "\n",
    "```\n",
    "\n",
    "#### IMPORTANT\n",
    "\n",
    "* we can have 0 or more parameters separed with comma\n",
    "* we can have 1 or more statements\n",
    "    * we can have pass\n",
    "* we may return a result if we want\n",
    "    * if we don't return a result function will return **None**\n",
    "\n",
    "\n",
    "#### Return statement\n",
    "\n",
    "* It has two roles\n",
    "* Primary Role ---> it exist from the function back to the caller\n",
    "* Secondary Role ---> returns a value back to caller\n",
    "\n",
    "\n",
    "\n",
    "#### Simplest nothing doing function\n"
   ]
  },
  {
   "cell_type": "code",
   "execution_count": 1,
   "metadata": {},
   "outputs": [],
   "source": [
    "def do_nothing():\n",
    "    pass"
   ]
  },
  {
   "cell_type": "markdown",
   "metadata": {},
   "source": [
    "#### we can call the function"
   ]
  },
  {
   "cell_type": "code",
   "execution_count": 2,
   "metadata": {},
   "outputs": [],
   "source": [
    "do_nothing()"
   ]
  },
  {
   "cell_type": "code",
   "execution_count": 3,
   "metadata": {},
   "outputs": [
    {
     "name": "stdout",
     "output_type": "stream",
     "text": [
      "None\n"
     ]
    }
   ],
   "source": [
    "# the function by default returns None\n",
    "\n",
    "print(do_nothing())"
   ]
  },
  {
   "cell_type": "markdown",
   "metadata": {},
   "source": [
    "#### function with parameters and return"
   ]
  },
  {
   "cell_type": "code",
   "execution_count": 4,
   "metadata": {},
   "outputs": [],
   "source": [
    "def plus(x,y):\n",
    "    return x+y"
   ]
  },
  {
   "cell_type": "code",
   "execution_count": 5,
   "metadata": {},
   "outputs": [
    {
     "name": "stdout",
     "output_type": "stream",
     "text": [
      "5\n",
      "17\n"
     ]
    }
   ],
   "source": [
    "print(plus(2,3))\n",
    "print(plus(8,9))"
   ]
  },
  {
   "cell_type": "markdown",
   "metadata": {},
   "source": [
    "### A function can help us divide a complex logic in simpler parts"
   ]
  },
  {
   "cell_type": "code",
   "execution_count": 8,
   "metadata": {},
   "outputs": [],
   "source": [
    "def is_prime(number):\n",
    "    if number<2:\n",
    "        return False\n",
    "    count=2\n",
    "    while count<number:\n",
    "        if number%count==0:\n",
    "            return False\n",
    "        count+=1\n",
    "    return True\n",
    "    \n"
   ]
  },
  {
   "cell_type": "markdown",
   "metadata": {},
   "source": [
    "### Testing Is Prime Function\n",
    "\n",
    "* To test function in different use cases we don't really have to take user input everytime"
   ]
  },
  {
   "cell_type": "code",
   "execution_count": 9,
   "metadata": {},
   "outputs": [
    {
     "name": "stdout",
     "output_type": "stream",
     "text": [
      "True\n",
      "True\n",
      "False\n",
      "False\n"
     ]
    }
   ],
   "source": [
    "print(is_prime(2))\n",
    "print(is_prime(5))\n",
    "print(is_prime(33))\n",
    "print(is_prime(87))"
   ]
  },
  {
   "cell_type": "markdown",
   "metadata": {},
   "source": [
    "### Writing Count_Primes\n",
    "\n",
    "* we need to count primes between min and max\n",
    "* Here we can re-use is_prime logic instead of re-writing"
   ]
  },
  {
   "cell_type": "code",
   "execution_count": 10,
   "metadata": {},
   "outputs": [],
   "source": [
    "def prime_count(min,max):\n",
    "    number=min\n",
    "    primes=0\n",
    "    while number<max:\n",
    "        if is_prime(number):\n",
    "            primes+=1\n",
    "        number+=1\n",
    "    return primes"
   ]
  },
  {
   "cell_type": "code",
   "execution_count": 11,
   "metadata": {},
   "outputs": [
    {
     "name": "stdout",
     "output_type": "stream",
     "text": [
      "25\n",
      "15\n",
      "10\n"
     ]
    }
   ],
   "source": [
    "print(prime_count(2,100))\n",
    "print(prime_count(0,50))\n",
    "print(prime_count(50,100))"
   ]
  },
  {
   "cell_type": "markdown",
   "metadata": {},
   "source": [
    "### A good practice\n",
    "\n",
    "* divide any large or complicated use case into smaller (and reusable) functions\n",
    "* Focus of small independent building blocks\n",
    "    * It doesn't matter if the function appears not much re-usable\n",
    "        * we don't know, maybe it is useful tomorrow\n",
    "\n",
    "\n",
    "\n",
    "### Assignment# 2.1\n",
    "\n",
    "* write a function to take a date as dd,mm,yy and print the associated weekday (sunday, monday, tuesday)\n",
    "* you are NOT supposed to use any built-in/third-pary library\n",
    "* HINT:\n",
    "    * Take a base date whose weekday you know.\n",
    "        * Example: Jan 1, 2012 was a sunday\n",
    "    * if we can find the gap (in days) between my date and this date and mod it with 7\n",
    "        * result 0 ---> sunday\n",
    "        * result 1 ---> monday\n",
    "        * ...\n",
    "\n",
    "```python\n",
    "\n",
    "today = get_week_day(8,31,2023)  # Thursday\n",
    "day2 = get_week_day(30,1,1948)        # Friday\n",
    "\n",
    "print(today) # Thursday\n",
    "print(day2) # Friday\n",
    "\n",
    "```\n",
    "\n",
    "\n",
    "#### Assignment 2.2\n",
    "\n",
    "* write a function to print the calender of a given month and year\n",
    "\n",
    "```python\n",
    "    calendar(2023, 8) # should display month calendar\n",
    "```"
   ]
  },
  {
   "cell_type": "markdown",
   "metadata": {},
   "source": [
    "#### Assignment #2.1 What functions do we need?\n",
    "\n",
    "HINT:\n",
    "\n",
    "\n",
    "\n",
    "1. check if a given year is leap?\n",
    "2. find days in a given month\n",
    "3. get day name\n",
    "4. day difference between two dates\n",
    "5. day value : convert a date into a value (Days since base date)\n",
    "\n",
    "\n",
    "#### Flow\n",
    "\n",
    "1. Let us define a **reference date**\n",
    "    *  01/01/2012  was Sunday\n",
    "    *  we use this date to compare with given date\n",
    "\n",
    "2. now the given date may be after or before this date\n",
    "    * to avoid this we can take a **base date**\n",
    "        * example: 01/01/0000  (i don't know what day it was)\n",
    "            * I don't care what day it was\n",
    "            * It is for easy one direction calculation\n",
    "\n",
    "3. To find the difference between two dates let us find days elapsed since base date\n",
    "<pre>\n",
    " 01/01/0000 -------------------------->|01/01/2012 (how many days passed?)\n",
    " 01/01/0000 ---------------------------|-----diff-------->|31/08/2023 \n",
    " 01/01/0000 --------------->| -diff    |      30/01/1948\n",
    "</pre>\n",
    "    \n",
    "#### How many days passed between 01/01/0000 and dd/mm/yyyy\n",
    "\n",
    "* (yyyy-1) years +  (mm-1) month + dd days"
   ]
  },
  {
   "cell_type": "markdown",
   "metadata": {},
   "source": []
  }
 ],
 "metadata": {
  "kernelspec": {
   "display_name": "Python 3",
   "language": "python",
   "name": "python3"
  },
  "language_info": {
   "codemirror_mode": {
    "name": "ipython",
    "version": 3
   },
   "file_extension": ".py",
   "mimetype": "text/x-python",
   "name": "python",
   "nbconvert_exporter": "python",
   "pygments_lexer": "ipython3",
   "version": "3.11.5"
  },
  "orig_nbformat": 4
 },
 "nbformat": 4,
 "nbformat_minor": 2
}
