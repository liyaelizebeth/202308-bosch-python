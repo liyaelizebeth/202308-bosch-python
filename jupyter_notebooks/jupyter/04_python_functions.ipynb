{
 "cells": [
  {
   "cell_type": "markdown",
   "metadata": {},
   "source": [
    "# Python Functions\n",
    "\n",
    "* functions are the fundamental bulding block of any language. \n",
    "* it is also the smallest re-usable code\n",
    "\n",
    "\n",
    "### semantic\n",
    "\n",
    "```python\n",
    "\n",
    "def function_name ( parameters ):\n",
    "    statement1\n",
    "    statement2\n",
    "    return some_value\n",
    "\n",
    "```\n",
    "\n",
    "#### IMPORTANT\n",
    "\n",
    "* we can have 0 or more parameters separed with comma\n",
    "* we can have 1 or more statements\n",
    "    * we can have pass\n",
    "* we may return a result if we want\n",
    "    * if we don't return a result function will return **None**\n",
    "\n",
    "\n",
    "#### Return statement\n",
    "\n",
    "* It has two roles\n",
    "* Primary Role ---> it exist from the function back to the caller\n",
    "* Secondary Role ---> returns a value back to caller\n",
    "\n",
    "\n",
    "\n",
    "#### Simplest nothing doing function\n"
   ]
  },
  {
   "cell_type": "code",
   "execution_count": 1,
   "metadata": {},
   "outputs": [],
   "source": [
    "def do_nothing():\n",
    "    pass"
   ]
  },
  {
   "cell_type": "markdown",
   "metadata": {},
   "source": [
    "#### we can call the function"
   ]
  },
  {
   "cell_type": "code",
   "execution_count": 2,
   "metadata": {},
   "outputs": [],
   "source": [
    "do_nothing()"
   ]
  },
  {
   "cell_type": "code",
   "execution_count": 3,
   "metadata": {},
   "outputs": [
    {
     "name": "stdout",
     "output_type": "stream",
     "text": [
      "None\n"
     ]
    }
   ],
   "source": [
    "# the function by default returns None\n",
    "\n",
    "print(do_nothing())"
   ]
  },
  {
   "cell_type": "markdown",
   "metadata": {},
   "source": [
    "#### function with parameters and return"
   ]
  },
  {
   "cell_type": "code",
   "execution_count": 4,
   "metadata": {},
   "outputs": [],
   "source": [
    "def plus(x,y):\n",
    "    return x+y"
   ]
  },
  {
   "cell_type": "code",
   "execution_count": 5,
   "metadata": {},
   "outputs": [
    {
     "name": "stdout",
     "output_type": "stream",
     "text": [
      "5\n",
      "17\n"
     ]
    }
   ],
   "source": [
    "print(plus(2,3))\n",
    "print(plus(8,9))"
   ]
  },
  {
   "cell_type": "markdown",
   "metadata": {},
   "source": [
    "### A function can help us divide a complex logic in simpler parts"
   ]
  },
  {
   "cell_type": "code",
   "execution_count": 8,
   "metadata": {},
   "outputs": [],
   "source": [
    "def is_prime(number):\n",
    "    if number<2:\n",
    "        return False\n",
    "    count=2\n",
    "    while count<number:\n",
    "        if number%count==0:\n",
    "            return False\n",
    "        count+=1\n",
    "    return True\n",
    "    \n"
   ]
  },
  {
   "cell_type": "markdown",
   "metadata": {},
   "source": [
    "### Testing Is Prime Function\n",
    "\n",
    "* To test function in different use cases we don't really have to take user input everytime"
   ]
  },
  {
   "cell_type": "code",
   "execution_count": 9,
   "metadata": {},
   "outputs": [
    {
     "name": "stdout",
     "output_type": "stream",
     "text": [
      "True\n",
      "True\n",
      "False\n",
      "False\n"
     ]
    }
   ],
   "source": [
    "print(is_prime(2))\n",
    "print(is_prime(5))\n",
    "print(is_prime(33))\n",
    "print(is_prime(87))"
   ]
  },
  {
   "cell_type": "markdown",
   "metadata": {},
   "source": [
    "### Writing Count_Primes\n",
    "\n",
    "* we need to count primes between min and max\n",
    "* Here we can re-use is_prime logic instead of re-writing"
   ]
  },
  {
   "cell_type": "code",
   "execution_count": 10,
   "metadata": {},
   "outputs": [],
   "source": [
    "def prime_count(min,max):\n",
    "    number=min\n",
    "    primes=0\n",
    "    while number<max:\n",
    "        if is_prime(number):\n",
    "            primes+=1\n",
    "        number+=1\n",
    "    return primes"
   ]
  },
  {
   "cell_type": "code",
   "execution_count": 11,
   "metadata": {},
   "outputs": [
    {
     "name": "stdout",
     "output_type": "stream",
     "text": [
      "25\n",
      "15\n",
      "10\n"
     ]
    }
   ],
   "source": [
    "print(prime_count(2,100))\n",
    "print(prime_count(0,50))\n",
    "print(prime_count(50,100))"
   ]
  },
  {
   "cell_type": "markdown",
   "metadata": {},
   "source": [
    "### A good practice\n",
    "\n",
    "* divide any large or complicated use case into smaller (and reusable) functions\n",
    "* Focus of small independent building blocks\n",
    "    * It doesn't matter if the function appears not much re-usable\n",
    "        * we don't know, maybe it is useful tomorrow\n",
    "\n",
    "\n",
    "\n",
    "### Assignment# 2.1\n",
    "\n",
    "* write a function to take a date as dd,mm,yy and print the associated weekday (sunday, monday, tuesday)\n",
    "* you are NOT supposed to use any built-in/third-pary library\n",
    "* HINT:\n",
    "    * Take a base date whose weekday you know.\n",
    "        * Example: Jan 1, 2012 was a sunday\n",
    "    * if we can find the gap (in days) between my date and this date and mod it with 7\n",
    "        * result 0 ---> sunday\n",
    "        * result 1 ---> monday\n",
    "        * ...\n",
    "\n",
    "```python\n",
    "\n",
    "today = get_week_day(8,31,2023)  # Thursday\n",
    "day2 = get_week_day(30,1,1948)        # Friday\n",
    "\n",
    "print(today) # Thursday\n",
    "print(day2) # Friday\n",
    "\n",
    "```\n",
    "\n",
    "\n",
    "#### Assignment 2.2\n",
    "\n",
    "* write a function to print the calender of a given month and year\n",
    "\n",
    "```python\n",
    "    calendar(2023, 8) # should display month calendar\n",
    "```"
   ]
  },
  {
   "cell_type": "markdown",
   "metadata": {},
   "source": [
    "#### Assignment #2.1 What functions do we need?\n",
    "\n",
    "HINT:\n",
    "\n",
    "\n",
    "\n",
    "1. check if a given year is leap?\n",
    "2. find days in a given month\n",
    "3. get day name\n",
    "4. day difference between two dates\n",
    "5. day value : convert a date into a value (Days since base date)\n",
    "\n",
    "\n",
    "#### Flow\n",
    "\n",
    "1. Let us define a **reference date**\n",
    "    *  01/01/2012  was Sunday\n",
    "    *  we use this date to compare with given date\n",
    "\n",
    "2. now the given date may be after or before this date\n",
    "    * to avoid this we can take a **base date**\n",
    "        * example: 01/01/0000  (i don't know what day it was)\n",
    "            * I don't care what day it was\n",
    "            * It is for easy one direction calculation\n",
    "\n",
    "3. To find the difference between two dates let us find days elapsed since base date\n",
    "<pre>\n",
    " 01/01/0000 -------------------------->|01/01/2012 (how many days passed?)\n",
    " 01/01/0000 ---------------------------|-----diff-------->|31/08/2023 \n",
    " 01/01/0000 --------------->| -diff    |      30/01/1948\n",
    "</pre>\n",
    "    \n",
    "#### How many days passed between 01/01/0000 and dd/mm/yyyy\n",
    "\n",
    "* (yyyy-1) years +  (mm-1) month + dd days"
   ]
  },
  {
   "cell_type": "markdown",
   "metadata": {},
   "source": [
    "### Solution 2.1"
   ]
  },
  {
   "cell_type": "code",
   "execution_count": 15,
   "metadata": {},
   "outputs": [],
   "source": [
    "def is_leap_year(year):\n",
    "    return year % (4 if year%100!=0 else 400) ==0\n",
    "    "
   ]
  },
  {
   "cell_type": "code",
   "execution_count": 16,
   "metadata": {},
   "outputs": [
    {
     "name": "stdout",
     "output_type": "stream",
     "text": [
      "True\n",
      "False\n",
      "True\n",
      "False\n"
     ]
    }
   ],
   "source": [
    "print(is_leap_year(2000)) #true\n",
    "print(is_leap_year(1900)) #false\n",
    "print(is_leap_year(1980)) #true\n",
    "print(is_leap_year(1990)) #false"
   ]
  },
  {
   "cell_type": "markdown",
   "metadata": {},
   "source": [
    "### By default function takes fixed number of parameters\n",
    "\n",
    "*  Normally if a function takes two parameters we must always pass two parameters.\n",
    "    * Any attempt to pass more or less parameter results in error"
   ]
  },
  {
   "cell_type": "code",
   "execution_count": 17,
   "metadata": {},
   "outputs": [],
   "source": [
    "def func(p1,p2):\n",
    "    pass"
   ]
  },
  {
   "cell_type": "code",
   "execution_count": 18,
   "metadata": {},
   "outputs": [],
   "source": [
    "func(1,2)"
   ]
  },
  {
   "cell_type": "code",
   "execution_count": 19,
   "metadata": {},
   "outputs": [
    {
     "ename": "TypeError",
     "evalue": "func() missing 1 required positional argument: 'p2'",
     "output_type": "error",
     "traceback": [
      "\u001b[1;31m---------------------------------------------------------------------------\u001b[0m",
      "\u001b[1;31mTypeError\u001b[0m                                 Traceback (most recent call last)",
      "Cell \u001b[1;32mIn[19], line 1\u001b[0m\n\u001b[1;32m----> 1\u001b[0m func(\u001b[39m1\u001b[39;49m)\n",
      "\u001b[1;31mTypeError\u001b[0m: func() missing 1 required positional argument: 'p2'"
     ]
    }
   ],
   "source": [
    "func(1)"
   ]
  },
  {
   "cell_type": "code",
   "execution_count": 20,
   "metadata": {},
   "outputs": [
    {
     "ename": "TypeError",
     "evalue": "func() takes 2 positional arguments but 3 were given",
     "output_type": "error",
     "traceback": [
      "\u001b[1;31m---------------------------------------------------------------------------\u001b[0m",
      "\u001b[1;31mTypeError\u001b[0m                                 Traceback (most recent call last)",
      "Cell \u001b[1;32mIn[20], line 1\u001b[0m\n\u001b[1;32m----> 1\u001b[0m func(\u001b[39m1\u001b[39;49m,\u001b[39m2\u001b[39;49m,\u001b[39m3\u001b[39;49m)\n",
      "\u001b[1;31mTypeError\u001b[0m: func() takes 2 positional arguments but 3 were given"
     ]
    }
   ],
   "source": [
    "func(1,2,3)"
   ]
  },
  {
   "cell_type": "markdown",
   "metadata": {},
   "source": [
    "### default argument function\n",
    "* sometimes a function may take parameters that may have suitable default for common use cases\n",
    "* in such cases we can supply a default value for a parameter\n",
    "* if parameter is not supplied default value is used"
   ]
  },
  {
   "cell_type": "code",
   "execution_count": 21,
   "metadata": {},
   "outputs": [],
   "source": [
    "def func(x,y=1,z=2):\n",
    "    print(f\"x={x}\\ty={y}\\tz={z}\")"
   ]
  },
  {
   "cell_type": "code",
   "execution_count": 25,
   "metadata": {},
   "outputs": [
    {
     "name": "stdout",
     "output_type": "stream",
     "text": [
      "x=10\ty=20\tz=30\n",
      "x=10\ty=20\tz=2\n",
      "x=10\ty=1\tz=2\n"
     ]
    },
    {
     "ename": "TypeError",
     "evalue": "func() missing 1 required positional argument: 'x'",
     "output_type": "error",
     "traceback": [
      "\u001b[1;31m---------------------------------------------------------------------------\u001b[0m",
      "\u001b[1;31mTypeError\u001b[0m                                 Traceback (most recent call last)",
      "Cell \u001b[1;32mIn[25], line 4\u001b[0m\n\u001b[0;32m      2\u001b[0m func(\u001b[39m10\u001b[39m,\u001b[39m20\u001b[39m)\n\u001b[0;32m      3\u001b[0m func(\u001b[39m10\u001b[39m)\n\u001b[1;32m----> 4\u001b[0m func()\n",
      "\u001b[1;31mTypeError\u001b[0m: func() missing 1 required positional argument: 'x'"
     ]
    }
   ],
   "source": [
    "func(10,20,30)\n",
    "func(10,20)\n",
    "func(10)\n",
    "func()"
   ]
  },
  {
   "cell_type": "markdown",
   "metadata": {},
   "source": [
    "### back to assignemnt 2.1"
   ]
  },
  {
   "cell_type": "code",
   "execution_count": 26,
   "metadata": {},
   "outputs": [],
   "source": [
    "def is_leap_year(year):\n",
    "    return year % (4 if year%100!=0 else 400) ==0\n",
    "\n",
    "\n",
    "def days_in_month(month, year=2001):\n",
    "    if month==2:\n",
    "        return 28 if not is_leap_year(year) else 29\n",
    "    elif month<8 and month%2==1 or month>=8 and month%2==0:\n",
    "        return 31\n",
    "    else:\n",
    "        return 30\n",
    "        "
   ]
  },
  {
   "cell_type": "code",
   "execution_count": 28,
   "metadata": {},
   "outputs": [
    {
     "name": "stdout",
     "output_type": "stream",
     "text": [
      "31\t28\t31\t30\t31\t30\t31\t31\t30\t31\t30\t31\t\n",
      "29\n",
      "28\n"
     ]
    }
   ],
   "source": [
    "m=1\n",
    "while m<=12:\n",
    "    print(days_in_month(m),end=\"\\t\")\n",
    "    m+=1\n",
    "    \n",
    "print()\n",
    "print(days_in_month(2,1980)) # 29\n",
    "print(days_in_month(2,1990)) # 28"
   ]
  },
  {
   "cell_type": "code",
   "execution_count": 29,
   "metadata": {},
   "outputs": [],
   "source": [
    "def day_value(dd,mm,yyyy):\n",
    "    '''\n",
    "    takes date in dd,mm,yyy format\n",
    "    returns the number of days elapsed since 01/01/0000\n",
    "    '''\n",
    "\n",
    "    # step find total days before the start of year yyyy\n",
    "    y=yyyy-1\n",
    "    days =   y*365  \\\n",
    "           + y//4   \\\n",
    "           - y//100 \\\n",
    "           + y//400\n",
    "    \n",
    "    # to this add days in month till mm-1\n",
    "    m=1\n",
    "    while m< mm:\n",
    "        days+= days_in_month(m,yyyy)\n",
    "        m+=1\n",
    "\n",
    "    # add dd to the running total\n",
    "    return days+dd\n",
    "\n"
   ]
  },
  {
   "cell_type": "code",
   "execution_count": 32,
   "metadata": {},
   "outputs": [],
   "source": [
    "def week_day_number(dd,mm,yyyy):\n",
    "    ref_date_value= day_value(1,1,2012)\n",
    "    date_value = day_value(dd,mm,yyyy)\n",
    "\n",
    "    diff = date_value - ref_date_value\n",
    "    return diff%7\n",
    "\n",
    "\n",
    "def week_day_name(dd,mm,yyyy):\n",
    "    d=week_day_number(dd,mm,yyyy)\n",
    "    if d==0:\n",
    "        return \"Sunday\"\n",
    "    elif d==1:\n",
    "        return \"Monday\"\n",
    "    elif d==2:\n",
    "        return \"Tuesday\"\n",
    "    elif d==3:\n",
    "        return \"Wednesday\"\n",
    "    elif d==4:\n",
    "        return \"Thursday\"\n",
    "    elif d==5:\n",
    "        return \"Friday\"\n",
    "    else:\n",
    "        return \"Saturnday\"\n",
    "\n",
    "\n"
   ]
  },
  {
   "cell_type": "code",
   "execution_count": 35,
   "metadata": {},
   "outputs": [
    {
     "name": "stdout",
     "output_type": "stream",
     "text": [
      "Thursday\n",
      "Saturnday\n",
      "Friday\n"
     ]
    }
   ],
   "source": [
    "print(week_day_name(31,8,2023)) # Thursday\n",
    "print(week_day_name(15,8,2020)) # Saturday\n",
    "print(week_day_name(30,1,1948)) # Friday"
   ]
  },
  {
   "cell_type": "code",
   "execution_count": 43,
   "metadata": {},
   "outputs": [],
   "source": [
    "def day_name(index):\n",
    "    \n",
    "    day_names=(\"Sunday\",\"Monday\",\"Tuesday\",\"Wednesday\",\"Thursday\",\"Friday\",\"Saturday\")\n",
    "    return day_names[index]\n",
    "\n",
    "\n",
    "def week_day_name(dd,mm,yyyy):\n",
    "    d=week_day_number(dd,mm,yyyy)\n",
    "    return day_name(d)\n",
    "    "
   ]
  },
  {
   "cell_type": "code",
   "execution_count": 44,
   "metadata": {},
   "outputs": [
    {
     "name": "stdout",
     "output_type": "stream",
     "text": [
      "Thursday\n",
      "Saturday\n",
      "Friday\n"
     ]
    }
   ],
   "source": [
    "print(week_day_name(31,8,2023)) # Thursday\n",
    "print(week_day_name(15,8,2020)) # Saturday\n",
    "print(week_day_name(30,1,1948)) # Friday"
   ]
  },
  {
   "cell_type": "markdown",
   "metadata": {},
   "source": [
    "#### optimizing week_day_name with list\n",
    "\n",
    "* we can replace the current if-else chain with a list or tuple \n",
    "* what should we use?\n",
    "    * Tuple\n",
    "        * We are not going to append values to the list\n",
    "        * knowing this fact, python optimizes tuple storage"
   ]
  },
  {
   "cell_type": "code",
   "execution_count": null,
   "metadata": {},
   "outputs": [],
   "source": []
  },
  {
   "cell_type": "markdown",
   "metadata": {},
   "source": [
    "## Help is given to those who ask\n",
    "\n",
    "* most programming language have extensive documentation system which are generally based on documents and html\n",
    "* python has a built-in help system which\n",
    "* it provides a **help()** that can give help about any python function/class etc"
   ]
  },
  {
   "cell_type": "code",
   "execution_count": 38,
   "metadata": {},
   "outputs": [
    {
     "name": "stdout",
     "output_type": "stream",
     "text": [
      "Help on built-in function print in module builtins:\n",
      "\n",
      "print(*args, sep=' ', end='\\n', file=None, flush=False)\n",
      "    Prints the values to a stream, or to sys.stdout by default.\n",
      "    \n",
      "    sep\n",
      "      string inserted between values, default a space.\n",
      "    end\n",
      "      string appended after the last value, default a newline.\n",
      "    file\n",
      "      a file-like object (stream); defaults to the current sys.stdout.\n",
      "    flush\n",
      "      whether to forcibly flush the stream.\n",
      "\n"
     ]
    }
   ],
   "source": [
    "help(print)"
   ]
  },
  {
   "cell_type": "code",
   "execution_count": 40,
   "metadata": {},
   "outputs": [
    {
     "name": "stdout",
     "output_type": "stream",
     "text": [
      "Help on method raw_input in module ipykernel.kernelbase:\n",
      "\n",
      "raw_input(prompt='') method of ipykernel.ipkernel.IPythonKernel instance\n",
      "    Forward raw_input to frontends\n",
      "    \n",
      "    Raises\n",
      "    ------\n",
      "    StdinNotImplementedError if active frontend doesn't support stdin.\n",
      "\n"
     ]
    }
   ],
   "source": [
    "help(input)"
   ]
  },
  {
   "cell_type": "markdown",
   "metadata": {},
   "source": [
    "### Help works for user defined functions also"
   ]
  },
  {
   "cell_type": "code",
   "execution_count": 41,
   "metadata": {},
   "outputs": [
    {
     "name": "stdout",
     "output_type": "stream",
     "text": [
      "Help on function is_leap_year in module __main__:\n",
      "\n",
      "is_leap_year(year)\n",
      "\n"
     ]
    }
   ],
   "source": [
    "help(is_leap_year)"
   ]
  },
  {
   "cell_type": "markdown",
   "metadata": {},
   "source": [
    "### help others by proper documentation"
   ]
  },
  {
   "cell_type": "code",
   "execution_count": 42,
   "metadata": {},
   "outputs": [
    {
     "name": "stdout",
     "output_type": "stream",
     "text": [
      "Help on function day_value in module __main__:\n",
      "\n",
      "day_value(dd, mm, yyyy)\n",
      "    takes date in dd,mm,yyy format\n",
      "    returns the number of days elapsed since 01/01/0000\n",
      "\n"
     ]
    }
   ],
   "source": [
    "help(day_value)"
   ]
  },
  {
   "cell_type": "markdown",
   "metadata": {},
   "source": []
  }
 ],
 "metadata": {
  "kernelspec": {
   "display_name": "Python 3",
   "language": "python",
   "name": "python3"
  },
  "language_info": {
   "codemirror_mode": {
    "name": "ipython",
    "version": 3
   },
   "file_extension": ".py",
   "mimetype": "text/x-python",
   "name": "python",
   "nbconvert_exporter": "python",
   "pygments_lexer": "ipython3",
   "version": "3.11.5"
  },
  "orig_nbformat": 4
 },
 "nbformat": 4,
 "nbformat_minor": 2
}
