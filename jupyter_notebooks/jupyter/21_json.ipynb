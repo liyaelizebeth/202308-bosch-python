{
 "cells": [
  {
   "cell_type": "markdown",
   "metadata": {},
   "source": [
    "#### Json\n",
    "\n",
    "* JSON is today one of the most important data format in industry\n",
    "* It stands for JavaScript Object Notation\n",
    "* But it is not limited to JavaScript only. \n",
    "* It works for all sorts of data\n",
    "* python has built in support for working with JSON using **json** module\n",
    "\n",
    "\n",
    "\n",
    "#### Important methods in json module\n",
    "\n",
    "#### 1. load \n",
    "* loads a json file as python object\n",
    "    * list\n",
    "    * dict\n"
   ]
  },
  {
   "cell_type": "code",
   "execution_count": 2,
   "metadata": {},
   "outputs": [
    {
     "name": "stdout",
     "output_type": "stream",
     "text": [
      "<class 'list'>\n"
     ]
    }
   ],
   "source": [
    "import json\n",
    "books=None\n",
    "with open('books5.json') as f:\n",
    "    books=json.load(f)\n",
    "\n",
    "print(type(books))"
   ]
  },
  {
   "cell_type": "code",
   "execution_count": 3,
   "metadata": {},
   "outputs": [
    {
     "name": "stdout",
     "output_type": "stream",
     "text": [
      "5\n"
     ]
    }
   ],
   "source": [
    "print(len(books))"
   ]
  },
  {
   "cell_type": "code",
   "execution_count": 4,
   "metadata": {},
   "outputs": [
    {
     "name": "stdout",
     "output_type": "stream",
     "text": [
      "<class 'dict'>\n"
     ]
    }
   ],
   "source": [
    "book=books[0]\n",
    "print(type(book))"
   ]
  },
  {
   "cell_type": "code",
   "execution_count": 6,
   "metadata": {},
   "outputs": [
    {
     "name": "stdout",
     "output_type": "stream",
     "text": [
      "{'_id': {'$oid': '5f4fc2136980a8fb2b76e857'}, 'isbn': '9781393495574', 'title': 'The Accursed God', 'author': 'Vivek Dutta Mishra', 'pages': '380', 'rating': '4.9', 'votes': '49', 'description': 'THE LOST EPIC \\n\\n  The story of the epic battle of Kurukshetra has been told and retold for ages. Millennia of dust, fables, imaginations â€” and the epic itself is lost. What remained is the story of a family feud and ambition of Kauravas and Pandavas. But why, then, was this an epic war? Why entire Aryavart plunged into this first real world-war? Why the echo of this ancient war still resonates after all those centuries? Rediscover the lost epic whose origin lies in the birth of the Kurukshetra that had tasted its first blood over a hundred years before the final Mahabharata war. Discover the complete saga of Mahabharata which goes far and beyond just Kauravas and Pandavas and their ambitions.  THE ACCURSED GOD ================  Long before the epic battle, long before even the birth of Kurukshetra, a man swore on his fatherâ€™s pyre to avenge against the mightiest empire, any civilization had ever seen. Between his might and near-certain destruction of the Empire, stood a warrior, who rose like a phoenix from the ashes of his seven dead brothers â€” taking the mantle of a fabled Accursed God.   In the clash that followed, Aryavart heard several more oaths by the side of more burning pyres, until, a young king decided that no price is too high for peace. Little did he know that the price would be a war engulfing the entire Aryavart, where few would live to tell the tale. And only one man can delay the inevitable if not prevent it. He is the accursed God and even he doesnâ€™t know that destiny is like a quicksand, the more he tries to prevent it, the faster Aryavart moves towards the ultimate catastrophe.   Discover the saga of a manâ€™s journey to that of a legendary and universally hated Accursed God, the saga of the ruthless ambitions and unfulfilled loves, endless deceits and vengeful oaths, and the saga of the battles to prevent the ultimate war.  TESTIMONIALS =============  When is the last time you finished a book and discover something? Here is a gripping and intriguing take on the greatest epic of all time through the eyes of its pivotal character that leaves your mind exhilarated, adding a fresh perspective to the tale thatâ€™s known, yet unknown. Throughout the fast action-packed book, the author masterfully blends politics, war and science and blurs the gap between love and hate, peace and war, and fiction and reality. A must-read novel which will leave you wanting for more. --- Colonel Avanish, Indian Army', 'tags': ['epic', 'indian', 'mahabharata', 'bhishma', 'history'], 'series': 'The Lost Epic', 'seriesIndex': '1', 'cover': 'https://m.media-amazon.com/images/I/41-KqB1-cqL._SY346_.jpg', 'reviews': []}\n",
      "The Accursed God 9781393495574\n"
     ]
    }
   ],
   "source": [
    "print(book)\n",
    "print(book['title'], book['isbn'])\n"
   ]
  },
  {
   "cell_type": "code",
   "execution_count": 7,
   "metadata": {},
   "outputs": [
    {
     "name": "stdout",
     "output_type": "stream",
     "text": [
      "<class 'list'> ['epic', 'indian', 'mahabharata', 'bhishma', 'history']\n"
     ]
    }
   ],
   "source": [
    "print(type(book['tags']),book['tags'])"
   ]
  },
  {
   "cell_type": "code",
   "execution_count": 10,
   "metadata": {},
   "outputs": [
    {
     "name": "stdout",
     "output_type": "stream",
     "text": [
      "The Accursed God Vivek Dutta Mishra n/a\n",
      "Harry Potter and the Philosopher's Stone  JK Rowling 500\n",
      "Five Little Pigs Agatha Christie 250\n",
      "Harry Potter and the Half Blood Prince JK Rowling n/a\n",
      "Harry Potter and the Order of the Phoenix JK Rowling n/a\n"
     ]
    }
   ],
   "source": [
    "for book in books:\n",
    "    print(book['title'],book['author'],book.get('price','n/a'))"
   ]
  },
  {
   "cell_type": "markdown",
   "metadata": {},
   "source": [
    "### 2. loads\n",
    "\n",
    "* similar to load but loads from a string \"text\" rather than a file"
   ]
  },
  {
   "cell_type": "code",
   "execution_count": 11,
   "metadata": {},
   "outputs": [],
   "source": [
    "sample_json='''\n",
    "[\n",
    "    {\"title\":\"The Accursed God\", \"author\":\"Vivek Dutta Mishra\", \"price\":299, \n",
    "    \"reviews\":[\n",
    "        {\"rating\":5, \"comment\":\"Great book. Must read\"},\n",
    "        {\"rating\":3, \"comment\":\"Time Pass\"}\n",
    "    ]\n",
    "    },\n",
    "    {\"title\":\"Manas\", \"author\":\"Vivek Dutta Mishra\", \"price\":199, \"reviews\":[\n",
    "        {\"rating\":4, \"comment\":\"Good book\"},\n",
    "        {\"rating\":4, \"comment\":\"Good Book\"}\n",
    "    ]},\n",
    "    {\"title\":\"Brethren\", \"author\":\"John Grisham\", \"price\":499,\"reviews\":[\n",
    "        {\"rating\":4, \"comment\":\"Interesting\"},\n",
    "        {\"rating\":3, \"comment\":\"Redundant\"}\n",
    "    ]}\n",
    "]\n",
    "'''"
   ]
  },
  {
   "cell_type": "code",
   "execution_count": 15,
   "metadata": {},
   "outputs": [],
   "source": [
    "books = json.loads(sample_json)"
   ]
  },
  {
   "cell_type": "code",
   "execution_count": 17,
   "metadata": {},
   "outputs": [
    {
     "name": "stdout",
     "output_type": "stream",
     "text": [
      "The Accursed God Vivek Dutta Mishra 299\n",
      "Reviews\n",
      "\t5\tGreat book. Must read\n",
      "\t3\tTime Pass\n",
      "\n",
      "Manas Vivek Dutta Mishra 199\n",
      "Reviews\n",
      "\t4\tGood book\n",
      "\t4\tGood Book\n",
      "\n",
      "Brethren John Grisham 499\n",
      "Reviews\n",
      "\t4\tInteresting\n",
      "\t3\tRedundant\n",
      "\n"
     ]
    }
   ],
   "source": [
    "for book in books:\n",
    "    print(book['title'],book['author'],book['price'])\n",
    "    print(\"Reviews\")\n",
    "    for review in book['reviews']:\n",
    "        print(f\"\\t{review['rating']}\\t{review['comment']}\")\n",
    "    print()"
   ]
  },
  {
   "cell_type": "markdown",
   "metadata": {},
   "source": [
    "#### dump and dumps\n",
    "\n",
    "* just like load we have two variants of dump\n",
    "* they convert python object to json \n",
    "* dump() saves python object in json file \n",
    "* dumps() creates a string from the python data"
   ]
  },
  {
   "cell_type": "markdown",
   "metadata": {},
   "source": [
    "#### 3. dumps"
   ]
  },
  {
   "cell_type": "code",
   "execution_count": 18,
   "metadata": {},
   "outputs": [
    {
     "name": "stdout",
     "output_type": "stream",
     "text": [
      "[{'title': 'The Accursed God', 'author': 'Vivek Dutta Mishra', 'price': 299, 'reviews': [{'rating': 5, 'comment': 'Great book. Must read'}, {'rating': 3, 'comment': 'Time Pass'}]}, {'title': 'Manas', 'author': 'Vivek Dutta Mishra', 'price': 199, 'reviews': [{'rating': 4, 'comment': 'Good book'}, {'rating': 4, 'comment': 'Good Book'}]}, {'title': 'Brethren', 'author': 'John Grisham', 'price': 499, 'reviews': [{'rating': 4, 'comment': 'Interesting'}, {'rating': 3, 'comment': 'Redundant'}]}]\n"
     ]
    }
   ],
   "source": [
    "print(books) # python object"
   ]
  },
  {
   "cell_type": "code",
   "execution_count": 21,
   "metadata": {},
   "outputs": [
    {
     "name": "stdout",
     "output_type": "stream",
     "text": [
      "[\n",
      "    {\n",
      "        \"title\": \"The Accursed God\",\n",
      "        \"author\": \"Vivek Dutta Mishra\",\n",
      "        \"price\": 299,\n",
      "        \"reviews\": [\n",
      "            {\n",
      "                \"rating\": 5,\n",
      "                \"comment\": \"Great book. Must read\"\n",
      "            },\n",
      "            {\n",
      "                \"rating\": 3,\n",
      "                \"comment\": \"Time Pass\"\n",
      "            }\n",
      "        ]\n",
      "    },\n",
      "    {\n",
      "        \"title\": \"Manas\",\n",
      "        \"author\": \"Vivek Dutta Mishra\",\n",
      "        \"price\": 199,\n",
      "        \"reviews\": [\n",
      "            {\n",
      "                \"rating\": 4,\n",
      "                \"comment\": \"Good book\"\n",
      "            },\n",
      "            {\n",
      "                \"rating\": 4,\n",
      "                \"comment\": \"Good Book\"\n",
      "            }\n",
      "        ]\n",
      "    },\n",
      "    {\n",
      "        \"title\": \"Brethren\",\n",
      "        \"author\": \"John Grisham\",\n",
      "        \"price\": 499,\n",
      "        \"reviews\": [\n",
      "            {\n",
      "                \"rating\": 4,\n",
      "                \"comment\": \"Interesting\"\n",
      "            },\n",
      "            {\n",
      "                \"rating\": 3,\n",
      "                \"comment\": \"Redundant\"\n",
      "            }\n",
      "        ]\n",
      "    }\n",
      "]\n"
     ]
    }
   ],
   "source": [
    "booksJson = json.dumps(books, indent = 4)\n",
    "print(booksJson)"
   ]
  },
  {
   "cell_type": "markdown",
   "metadata": {},
   "source": [
    "#### json.dump\n",
    "\n",
    "* saves the data in a file"
   ]
  },
  {
   "cell_type": "code",
   "execution_count": 23,
   "metadata": {},
   "outputs": [],
   "source": [
    "with open('books-sample.json',\"w\") as f:\n",
    "    json.dump(books,f,indent=4)"
   ]
  },
  {
   "cell_type": "markdown",
   "metadata": {},
   "source": [
    "### Read CSV into JSON"
   ]
  },
  {
   "cell_type": "code",
   "execution_count": 28,
   "metadata": {},
   "outputs": [],
   "source": [
    "import csv\n",
    "import json\n",
    "\n",
    "def csv_to_json(csv_source, json_target, delimeter=',', indent=4):\n",
    "    \n",
    "    with open(csv_source) as s:\n",
    "        with open(json_target,\"w\") as t:\n",
    "            data=[data for data in csv.DictReader(s)]\n",
    "            json.dump(data,t,indent=indent)"
   ]
  },
  {
   "cell_type": "code",
   "execution_count": 29,
   "metadata": {},
   "outputs": [],
   "source": [
    "csv_to_json('books2.csv', 'books2.json')"
   ]
  },
  {
   "cell_type": "code",
   "execution_count": null,
   "metadata": {},
   "outputs": [],
   "source": []
  }
 ],
 "metadata": {
  "kernelspec": {
   "display_name": "Python 3",
   "language": "python",
   "name": "python3"
  },
  "language_info": {
   "codemirror_mode": {
    "name": "ipython",
    "version": 3
   },
   "file_extension": ".py",
   "mimetype": "text/x-python",
   "name": "python",
   "nbconvert_exporter": "python",
   "pygments_lexer": "ipython3",
   "version": "3.11.5"
  },
  "orig_nbformat": 4
 },
 "nbformat": 4,
 "nbformat_minor": 2
}
