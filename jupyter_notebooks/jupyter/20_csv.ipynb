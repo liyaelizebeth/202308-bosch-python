{
 "cells": [
  {
   "cell_type": "markdown",
   "metadata": {},
   "source": [
    "#### working with a csv file\n",
    "\n",
    "* A csv file is simple file with comma separated values\n",
    "\n",
    "\n",
    "##### Aside creating a file directly from within jupyter"
   ]
  },
  {
   "cell_type": "code",
   "execution_count": 41,
   "metadata": {},
   "outputs": [
    {
     "name": "stdout",
     "output_type": "stream",
     "text": [
      "Overwriting books.csv\n"
     ]
    }
   ],
   "source": [
    "%%file books.csv \n",
    "title,author,price,rating\n",
    "The Accursed God,Vivek Dutta Mishra,299,4.5\n",
    "Brethren, John Grishma, 499,4.1\n",
    "The Sons of Fortune, Jeffrey Archer, 410,4.3\n",
    "The Count of Monte Cristo, Alexandre Dumas, 400,4.9\n",
    "Manas, Vivek Dutta Mishra,199,4.5"
   ]
  },
  {
   "cell_type": "markdown",
   "metadata": {},
   "source": [
    "#### we can read a csv file using simple open() command also"
   ]
  },
  {
   "cell_type": "code",
   "execution_count": 42,
   "metadata": {},
   "outputs": [
    {
     "name": "stdout",
     "output_type": "stream",
     "text": [
      "title,author,price,rating\n",
      "\n",
      "The Accursed God,Vivek Dutta Mishra,299,4.5\n",
      "\n",
      "Brethren, John Grishma, 499,4.1\n",
      "\n",
      "The Sons of Fortune, Jeffrey Archer, 410,4.3\n",
      "\n",
      "The Count of Monte Cristo, Alexandre Dumas, 400,4.9\n",
      "\n",
      "Manas, Vivek Dutta Mishra,199,4.5\n",
      "\n"
     ]
    }
   ],
   "source": [
    "with open('books.csv') as f:\n",
    "    while True:\n",
    "        line =f.readline()\n",
    "        if line:\n",
    "            print(line)\n",
    "        else:\n",
    "            break"
   ]
  },
  {
   "cell_type": "markdown",
   "metadata": {},
   "source": [
    "### How to extract information from each line?\n",
    "\n",
    "* remember first line in the header line"
   ]
  },
  {
   "cell_type": "code",
   "execution_count": 43,
   "metadata": {},
   "outputs": [],
   "source": [
    "def read_csv(file):\n",
    "    records=[]\n",
    "    with open(file) as f:\n",
    "        lines=f.readlines()\n",
    "        header=lines.pop(0)\n",
    "        \n",
    "        keys=header.strip().split(',')\n",
    "        for line in lines:\n",
    "            record=dict()\n",
    "            info=line.strip().split(',')\n",
    "            for i in range(len(info)):\n",
    "                record[keys[i]]=info[i]\n",
    "            records.append(record)\n",
    "    return records\n"
   ]
  },
  {
   "cell_type": "code",
   "execution_count": 44,
   "metadata": {},
   "outputs": [],
   "source": [
    "books=read_csv(\"books.csv\")"
   ]
  },
  {
   "cell_type": "code",
   "execution_count": 45,
   "metadata": {},
   "outputs": [
    {
     "name": "stdout",
     "output_type": "stream",
     "text": [
      "title\tThe Accursed God\n",
      "author\tVivek Dutta Mishra\n",
      "price\t299\n",
      "rating\t4.5\n",
      "\n",
      "title\tBrethren\n",
      "author\t John Grishma\n",
      "price\t 499\n",
      "rating\t4.1\n",
      "\n",
      "title\tThe Sons of Fortune\n",
      "author\t Jeffrey Archer\n",
      "price\t 410\n",
      "rating\t4.3\n",
      "\n",
      "title\tThe Count of Monte Cristo\n",
      "author\t Alexandre Dumas\n",
      "price\t 400\n",
      "rating\t4.9\n",
      "\n",
      "title\tManas\n",
      "author\t Vivek Dutta Mishra\n",
      "price\t199\n",
      "rating\t4.5\n",
      "\n"
     ]
    }
   ],
   "source": [
    "for book in books:\n",
    "    for k,v in book.items():\n",
    "        print(f\"{k}\\t{v}\")\n",
    "    print()"
   ]
  },
  {
   "cell_type": "markdown",
   "metadata": {},
   "source": [
    "### Making the life easier with csv module\n",
    "\n",
    "* csv module provides automatic and robust way to read info"
   ]
  },
  {
   "cell_type": "code",
   "execution_count": 46,
   "metadata": {},
   "outputs": [],
   "source": [
    "import csv\n",
    "\n",
    "#help(csv.reader)"
   ]
  },
  {
   "cell_type": "code",
   "execution_count": 47,
   "metadata": {},
   "outputs": [
    {
     "name": "stdout",
     "output_type": "stream",
     "text": [
      "['The Accursed God', 'Vivek Dutta Mishra', '299', '4.5']\n",
      "['Brethren', ' John Grishma', ' 499', '4.1']\n",
      "['The Sons of Fortune', ' Jeffrey Archer', ' 410', '4.3']\n",
      "['The Count of Monte Cristo', ' Alexandre Dumas', ' 400', '4.9']\n",
      "['Manas', ' Vivek Dutta Mishra', '199', '4.5']\n"
     ]
    }
   ],
   "source": [
    "import csv\n",
    "\n",
    "with open('books.csv') as f:\n",
    "    reader = csv.reader(f)\n",
    "    header=next(reader) #read the header line but not print it\n",
    "    for value in reader:\n",
    "        print(value)\n"
   ]
  },
  {
   "cell_type": "markdown",
   "metadata": {},
   "source": [
    "#### we may have delimeters other than comma\n",
    "\n",
    "* sometimes comma may be part of the data\n",
    "* such fields with comma may be double quoted\n",
    "* csv knows how to read those files"
   ]
  },
  {
   "cell_type": "code",
   "execution_count": 48,
   "metadata": {},
   "outputs": [
    {
     "name": "stdout",
     "output_type": "stream",
     "text": [
      "Overwriting books2.csv\n"
     ]
    }
   ],
   "source": [
    "%%file books2.csv \n",
    "title,author,price,rating\n",
    "\"The Accursed God, The Lost Epic Book1\" ,Vivek Dutta Mishra,299,4.5\n",
    "Brethren, John Grishma, 499,4.1\n",
    "The Sons of Fortune, Jeffrey Archer, 410,4.3\n",
    "The Count of Monte Cristo, Alexandre Dumas, 400,4.9\n",
    "Manas,Vivek Dutta Mishra,199,4.5"
   ]
  },
  {
   "cell_type": "code",
   "execution_count": 49,
   "metadata": {},
   "outputs": [
    {
     "ename": "IndexError",
     "evalue": "list index out of range",
     "output_type": "error",
     "traceback": [
      "\u001b[1;31m---------------------------------------------------------------------------\u001b[0m",
      "\u001b[1;31mIndexError\u001b[0m                                Traceback (most recent call last)",
      "Cell \u001b[1;32mIn[49], line 1\u001b[0m\n\u001b[1;32m----> 1\u001b[0m books\u001b[39m=\u001b[39mread_csv(\u001b[39m'\u001b[39;49m\u001b[39mbooks2.csv\u001b[39;49m\u001b[39m'\u001b[39;49m)\n\u001b[0;32m      2\u001b[0m \u001b[39mfor\u001b[39;00m book \u001b[39min\u001b[39;00m books:\n\u001b[0;32m      3\u001b[0m     \u001b[39mprint\u001b[39m(book[\u001b[39m'\u001b[39m\u001b[39mtitle\u001b[39m\u001b[39m'\u001b[39m])\n",
      "Cell \u001b[1;32mIn[43], line 12\u001b[0m, in \u001b[0;36mread_csv\u001b[1;34m(file)\u001b[0m\n\u001b[0;32m     10\u001b[0m         info\u001b[39m=\u001b[39mline\u001b[39m.\u001b[39mstrip()\u001b[39m.\u001b[39msplit(\u001b[39m'\u001b[39m\u001b[39m,\u001b[39m\u001b[39m'\u001b[39m)\n\u001b[0;32m     11\u001b[0m         \u001b[39mfor\u001b[39;00m i \u001b[39min\u001b[39;00m \u001b[39mrange\u001b[39m(\u001b[39mlen\u001b[39m(info)):\n\u001b[1;32m---> 12\u001b[0m             record[keys[i]]\u001b[39m=\u001b[39minfo[i]\n\u001b[0;32m     13\u001b[0m         records\u001b[39m.\u001b[39mappend(record)\n\u001b[0;32m     14\u001b[0m \u001b[39mreturn\u001b[39;00m records\n",
      "\u001b[1;31mIndexError\u001b[0m: list index out of range"
     ]
    }
   ],
   "source": [
    "books=read_csv('books2.csv')\n",
    "for book in books:\n",
    "    print(book['title'])"
   ]
  },
  {
   "cell_type": "markdown",
   "metadata": {},
   "source": [
    "#### Problem \n",
    "\n",
    "* my function **read_csv** treats each comma as separator\n",
    "* it will not work if comma is part of data"
   ]
  },
  {
   "cell_type": "code",
   "execution_count": 50,
   "metadata": {},
   "outputs": [
    {
     "name": "stdout",
     "output_type": "stream",
     "text": [
      "['The Accursed God, The Lost Epic Book1 ', 'Vivek Dutta Mishra', '299', '4.5']\n",
      "['Brethren', ' John Grishma', ' 499', '4.1']\n",
      "['The Sons of Fortune', ' Jeffrey Archer', ' 410', '4.3']\n",
      "['The Count of Monte Cristo', ' Alexandre Dumas', ' 400', '4.9']\n",
      "['Manas', 'Vivek Dutta Mishra', '199', '4.5']\n"
     ]
    }
   ],
   "source": [
    "import csv\n",
    "\n",
    "with open('books2.csv') as f:\n",
    "    reader = csv.reader(f)\n",
    "    header=next(reader) #read the header line but not print it\n",
    "    for value in reader:\n",
    "        print(value)"
   ]
  },
  {
   "cell_type": "markdown",
   "metadata": {},
   "source": [
    "#### A different delimeter\n",
    "\n",
    "* we may consier a different delimeter while reading or writing"
   ]
  },
  {
   "cell_type": "code",
   "execution_count": 51,
   "metadata": {},
   "outputs": [],
   "source": [
    "import csv\n",
    "def copy_csv(source,target,source_delimeter=',',target_delimeter=','):\n",
    "    with open(source) as src:\n",
    "        with open(target,\"w\") as trgt:\n",
    "            reader= csv.reader(src,delimiter=source_delimeter)\n",
    "            writer= csv.writer(trgt,delimiter=target_delimeter)\n",
    "            for line in reader:\n",
    "                writer.writerow(line)\n"
   ]
  },
  {
   "cell_type": "code",
   "execution_count": 52,
   "metadata": {},
   "outputs": [],
   "source": [
    "copy_csv('books.csv','books3.csv')"
   ]
  },
  {
   "cell_type": "code",
   "execution_count": 53,
   "metadata": {},
   "outputs": [],
   "source": [
    "copy_csv('books2.csv','books4.csv',target_delimeter=\"|\")"
   ]
  },
  {
   "cell_type": "markdown",
   "metadata": {},
   "source": [
    "### Reading/Writing data as dictionary"
   ]
  },
  {
   "cell_type": "code",
   "execution_count": 55,
   "metadata": {},
   "outputs": [
    {
     "name": "stdout",
     "output_type": "stream",
     "text": [
      "The Accursed God\n",
      "Brethren\n",
      "The Sons of Fortune\n",
      "The Count of Monte Cristo\n",
      "Manas\n"
     ]
    }
   ],
   "source": [
    "with open('books.csv') as f:\n",
    "    books= csv.DictReader(f)\n",
    "    for book in books:\n",
    "        print(book['title'])"
   ]
  },
  {
   "cell_type": "code",
   "execution_count": null,
   "metadata": {},
   "outputs": [],
   "source": []
  }
 ],
 "metadata": {
  "kernelspec": {
   "display_name": "Python 3",
   "language": "python",
   "name": "python3"
  },
  "language_info": {
   "codemirror_mode": {
    "name": "ipython",
    "version": 3
   },
   "file_extension": ".py",
   "mimetype": "text/x-python",
   "name": "python",
   "nbconvert_exporter": "python",
   "pygments_lexer": "ipython3",
   "version": "3.11.5"
  },
  "orig_nbformat": 4
 },
 "nbformat": 4,
 "nbformat_minor": 2
}
