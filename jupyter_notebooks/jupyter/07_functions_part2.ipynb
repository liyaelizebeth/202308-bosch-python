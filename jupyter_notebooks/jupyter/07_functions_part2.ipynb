{
 "cells": [
  {
   "cell_type": "markdown",
   "metadata": {},
   "source": [
    "### Advanced Functions\n",
    "\n",
    "\n",
    "#### variable argument functions\n",
    "\n",
    "* sometimes we are not sure, how many parameters a function will take\n",
    "    * Use cases\n",
    "        1. How many paremeter does **print()** takes?\n",
    "        2. We want to write a funciton called **sum()** that can sum any number of values\n",
    "        \n",
    "* this can be easily created by passing a sequence to the function\n",
    "        "
   ]
  },
  {
   "cell_type": "code",
   "execution_count": 3,
   "metadata": {},
   "outputs": [],
   "source": [
    "def sum(numbers):\n",
    "    result=0\n",
    "    for number in numbers:\n",
    "        result+=number\n",
    "    return result"
   ]
  },
  {
   "cell_type": "code",
   "execution_count": 5,
   "metadata": {},
   "outputs": [
    {
     "name": "stdout",
     "output_type": "stream",
     "text": [
      "10\n",
      "15\n"
     ]
    }
   ],
   "source": [
    "print(sum([1,2,3,4])) # passing values as list\n",
    "print(sum((1,2,3,4,5))) # or tuple or any sequence"
   ]
  },
  {
   "cell_type": "markdown",
   "metadata": {},
   "source": [
    "#### But it doesn't look clean\n",
    "\n",
    "* print doesn't use this approach\n",
    "\n"
   ]
  },
  {
   "cell_type": "code",
   "execution_count": 7,
   "metadata": {},
   "outputs": [
    {
     "name": "stdout",
     "output_type": "stream",
     "text": [
      "1 2 3 4\n"
     ]
    }
   ],
   "source": [
    "print(1,2,3,4)"
   ]
  },
  {
   "cell_type": "markdown",
   "metadata": {},
   "source": [
    "### variable argument function\n",
    "* python allows us to create a funciton which can take multiple arguments without expicitly wrapping it in list or tuple\n",
    "    * python will do that internally\n",
    "* we can pass these parameter with a sepcial syntaxing of prefixing parameter name with a **\\***"
   ]
  },
  {
   "cell_type": "code",
   "execution_count": 8,
   "metadata": {},
   "outputs": [],
   "source": [
    "def func(*values):\n",
    "    print(f\"values:{values}\\ttype={type(values)}\")"
   ]
  },
  {
   "cell_type": "code",
   "execution_count": 9,
   "metadata": {},
   "outputs": [
    {
     "name": "stdout",
     "output_type": "stream",
     "text": [
      "values:(1, 2, 3, 4, 5)\ttype=<class 'tuple'>\n"
     ]
    }
   ],
   "source": [
    "func(1,2,3,4,5)"
   ]
  },
  {
   "cell_type": "code",
   "execution_count": 10,
   "metadata": {},
   "outputs": [
    {
     "name": "stdout",
     "output_type": "stream",
     "text": [
      "values:(1,)\ttype=<class 'tuple'>\n"
     ]
    }
   ],
   "source": [
    "func(1)"
   ]
  },
  {
   "cell_type": "code",
   "execution_count": 11,
   "metadata": {},
   "outputs": [
    {
     "name": "stdout",
     "output_type": "stream",
     "text": [
      "values:()\ttype=<class 'tuple'>\n"
     ]
    }
   ],
   "source": [
    "func()"
   ]
  },
  {
   "cell_type": "markdown",
   "metadata": {},
   "source": [
    "#### Python convention\n",
    "\n",
    "* while this parameter can be given any name, it is a convention to call this parameter as **args** \n",
    "    * such convention helps us understand program better\n",
    "    * while it is not a rule, we should follow it unless there is a good reason not to"
   ]
  },
  {
   "cell_type": "code",
   "execution_count": 12,
   "metadata": {},
   "outputs": [],
   "source": [
    "def sum(*args):\n",
    "    result=0\n",
    "    for value in args:\n",
    "        result+=value\n",
    "    return result"
   ]
  },
  {
   "cell_type": "code",
   "execution_count": 13,
   "metadata": {},
   "outputs": [
    {
     "data": {
      "text/plain": [
       "10"
      ]
     },
     "execution_count": 13,
     "metadata": {},
     "output_type": "execute_result"
    }
   ],
   "source": [
    "sum(1,2,3,4)"
   ]
  },
  {
   "cell_type": "code",
   "execution_count": 14,
   "metadata": {},
   "outputs": [
    {
     "data": {
      "text/plain": [
       "15"
      ]
     },
     "execution_count": 14,
     "metadata": {},
     "output_type": "execute_result"
    }
   ],
   "source": [
    "sum(1,2,3,4,5)"
   ]
  },
  {
   "cell_type": "code",
   "execution_count": 15,
   "metadata": {},
   "outputs": [
    {
     "data": {
      "text/plain": [
       "0"
      ]
     },
     "execution_count": 15,
     "metadata": {},
     "output_type": "execute_result"
    }
   ],
   "source": [
    "sum()"
   ]
  },
  {
   "cell_type": "markdown",
   "metadata": {},
   "source": [
    "### IMPORTANT \n",
    "\n",
    "* there can be only one **\\*args** parameter in a funciton\n",
    "* there can be positional parameters and args both\n",
    "* generally we should include positional parameter before including args"
   ]
  },
  {
   "cell_type": "code",
   "execution_count": 16,
   "metadata": {},
   "outputs": [],
   "source": [
    "def func(a, b, *args):\n",
    "    print(f\"a={a}\")\n",
    "    print(f\"b={b}\")\n",
    "    print(f\"args={args}\")"
   ]
  },
  {
   "cell_type": "code",
   "execution_count": 17,
   "metadata": {},
   "outputs": [
    {
     "name": "stdout",
     "output_type": "stream",
     "text": [
      "a=1\n",
      "b=2\n",
      "args=(3, 4, 5, 6)\n"
     ]
    }
   ],
   "source": [
    "func(1,2,3,4,5,6)"
   ]
  },
  {
   "cell_type": "code",
   "execution_count": 18,
   "metadata": {},
   "outputs": [
    {
     "name": "stdout",
     "output_type": "stream",
     "text": [
      "a=1\n",
      "b=2\n",
      "args=(3,)\n"
     ]
    }
   ],
   "source": [
    "func(1,2,3)"
   ]
  },
  {
   "cell_type": "code",
   "execution_count": 19,
   "metadata": {},
   "outputs": [
    {
     "name": "stdout",
     "output_type": "stream",
     "text": [
      "a=1\n",
      "b=2\n",
      "args=()\n"
     ]
    }
   ],
   "source": [
    "func(1,2)"
   ]
  },
  {
   "cell_type": "code",
   "execution_count": 20,
   "metadata": {},
   "outputs": [
    {
     "ename": "TypeError",
     "evalue": "func() missing 1 required positional argument: 'b'",
     "output_type": "error",
     "traceback": [
      "\u001b[1;31m---------------------------------------------------------------------------\u001b[0m",
      "\u001b[1;31mTypeError\u001b[0m                                 Traceback (most recent call last)",
      "Cell \u001b[1;32mIn[20], line 1\u001b[0m\n\u001b[1;32m----> 1\u001b[0m func(\u001b[39m1\u001b[39;49m)\n",
      "\u001b[1;31mTypeError\u001b[0m: func() missing 1 required positional argument: 'b'"
     ]
    }
   ],
   "source": [
    "func(1)"
   ]
  },
  {
   "cell_type": "markdown",
   "metadata": {},
   "source": [
    "#### What if we pass parameters after args?\n",
    "\n",
    "* args will match the remaining parameters\n",
    "* there will be nothing left to be assigned to parameters that comes after args"
   ]
  },
  {
   "cell_type": "code",
   "execution_count": 21,
   "metadata": {},
   "outputs": [],
   "source": [
    "def func(a,b,*args,c):\n",
    "    print(f\"a={a}\\tb={b}\\targs={args}\\tc={c}\")"
   ]
  },
  {
   "cell_type": "code",
   "execution_count": 22,
   "metadata": {},
   "outputs": [
    {
     "ename": "TypeError",
     "evalue": "func() missing 1 required keyword-only argument: 'c'",
     "output_type": "error",
     "traceback": [
      "\u001b[1;31m---------------------------------------------------------------------------\u001b[0m",
      "\u001b[1;31mTypeError\u001b[0m                                 Traceback (most recent call last)",
      "Cell \u001b[1;32mIn[22], line 1\u001b[0m\n\u001b[1;32m----> 1\u001b[0m func(\u001b[39m1\u001b[39;49m,\u001b[39m2\u001b[39;49m,\u001b[39m3\u001b[39;49m,\u001b[39m4\u001b[39;49m,\u001b[39m5\u001b[39;49m,\u001b[39m6\u001b[39;49m)\n",
      "\u001b[1;31mTypeError\u001b[0m: func() missing 1 required keyword-only argument: 'c'"
     ]
    }
   ],
   "source": [
    "func(1,2,3,4,5,6)"
   ]
  },
  {
   "cell_type": "markdown",
   "metadata": {},
   "source": [
    "### What is keyword-only argument\n",
    "\n",
    "* these arguments must be passed as key value pair\n",
    "* any argument can be passed as key value pair if we don't want to pass in same sequnece\n",
    "* but in case of keywrod-only argument it becomes compulsary"
   ]
  },
  {
   "cell_type": "code",
   "execution_count": 23,
   "metadata": {},
   "outputs": [],
   "source": [
    "def func(a,b):\n",
    "    print(f'a={a}\\tb={b}')"
   ]
  },
  {
   "cell_type": "code",
   "execution_count": 24,
   "metadata": {},
   "outputs": [
    {
     "name": "stdout",
     "output_type": "stream",
     "text": [
      "a=1\tb=2\n"
     ]
    }
   ],
   "source": [
    "func(1,2)"
   ]
  },
  {
   "cell_type": "code",
   "execution_count": 25,
   "metadata": {},
   "outputs": [
    {
     "name": "stdout",
     "output_type": "stream",
     "text": [
      "a=7\tb=3\n"
     ]
    }
   ],
   "source": [
    "func(b=3,a=7)"
   ]
  },
  {
   "cell_type": "code",
   "execution_count": 26,
   "metadata": {},
   "outputs": [],
   "source": [
    "def func(a,b,*args,c):\n",
    "    print(f\"a={a}\\tb={b}\\targs={args}\\tc={c}\")"
   ]
  },
  {
   "cell_type": "code",
   "execution_count": 27,
   "metadata": {},
   "outputs": [
    {
     "ename": "TypeError",
     "evalue": "func() missing 1 required keyword-only argument: 'c'",
     "output_type": "error",
     "traceback": [
      "\u001b[1;31m---------------------------------------------------------------------------\u001b[0m",
      "\u001b[1;31mTypeError\u001b[0m                                 Traceback (most recent call last)",
      "Cell \u001b[1;32mIn[27], line 1\u001b[0m\n\u001b[1;32m----> 1\u001b[0m func(\u001b[39m1\u001b[39;49m,\u001b[39m2\u001b[39;49m,\u001b[39m3\u001b[39;49m,\u001b[39m4\u001b[39;49m,\u001b[39m5\u001b[39;49m,\u001b[39m6\u001b[39;49m)\n",
      "\u001b[1;31mTypeError\u001b[0m: func() missing 1 required keyword-only argument: 'c'"
     ]
    }
   ],
   "source": [
    "func(1,2,3,4,5,6)"
   ]
  },
  {
   "cell_type": "code",
   "execution_count": 28,
   "metadata": {},
   "outputs": [
    {
     "name": "stdout",
     "output_type": "stream",
     "text": [
      "a=1\tb=2\targs=(3, 4)\tc=8\n"
     ]
    }
   ],
   "source": [
    "func(1,2,3,4,c=8)"
   ]
  },
  {
   "cell_type": "markdown",
   "metadata": {},
   "source": [
    "### named optional parameter\n",
    "\n",
    "* by providing optional values for keyword-only parameter we can make them optional"
   ]
  },
  {
   "cell_type": "code",
   "execution_count": 31,
   "metadata": {},
   "outputs": [],
   "source": [
    "def print_details(*args, sep=','):\n",
    "    for x in args:\n",
    "        print(x,end=sep)\n"
   ]
  },
  {
   "cell_type": "code",
   "execution_count": 32,
   "metadata": {},
   "outputs": [
    {
     "name": "stdout",
     "output_type": "stream",
     "text": [
      "3,4,5,6,7,"
     ]
    }
   ],
   "source": [
    "print_details(3,4,5,6,7)"
   ]
  },
  {
   "cell_type": "code",
   "execution_count": 33,
   "metadata": {},
   "outputs": [
    {
     "name": "stdout",
     "output_type": "stream",
     "text": [
      "2\t3\t4\t5\t"
     ]
    }
   ],
   "source": [
    "print_details(2,3,4,5, sep=\"\\t\")"
   ]
  },
  {
   "cell_type": "markdown",
   "metadata": {},
   "source": [
    "### kwargs\n",
    "\n",
    "* just like args can take any number of parameters, we also have a provision to supply any number of unknown keyword parameters\n",
    "\n",
    "* this is useful if we don't know what are the keyword values that may come.\n",
    "\n",
    "#### Limitations of Keyword only parameter\n",
    "\n",
    "* A keyword only parameter works only if we alreay know what are the keys"
   ]
  },
  {
   "cell_type": "code",
   "execution_count": 1,
   "metadata": {},
   "outputs": [],
   "source": [
    "def add_social_info(twitter=None, email=None, instagram=None):\n",
    "    print(f'email={email}')\n",
    "    print(f'twitter={twitter}')\n",
    "    print(f'instagram={instagram}')"
   ]
  },
  {
   "cell_type": "code",
   "execution_count": 2,
   "metadata": {},
   "outputs": [
    {
     "name": "stdout",
     "output_type": "stream",
     "text": [
      "email=vivek@conceptarchitect.in\n",
      "twitter=@vivekdmishra\n",
      "instagram=None\n"
     ]
    }
   ],
   "source": [
    "add_social_info(email=\"vivek@conceptarchitect.in\", twitter=\"@vivekdmishra\")"
   ]
  },
  {
   "cell_type": "code",
   "execution_count": 3,
   "metadata": {},
   "outputs": [
    {
     "ename": "TypeError",
     "evalue": "add_social_info() got an unexpected keyword argument 'facebook'",
     "output_type": "error",
     "traceback": [
      "\u001b[1;31m---------------------------------------------------------------------------\u001b[0m",
      "\u001b[1;31mTypeError\u001b[0m                                 Traceback (most recent call last)",
      "Cell \u001b[1;32mIn[3], line 1\u001b[0m\n\u001b[1;32m----> 1\u001b[0m add_social_info(twitter\u001b[39m=\u001b[39;49m\u001b[39m\"\u001b[39;49m\u001b[39m@vivekdmishra\u001b[39;49m\u001b[39m\"\u001b[39;49m, facebook\u001b[39m=\u001b[39;49m\u001b[39m\"\u001b[39;49m\u001b[39mvivekduttamishra\u001b[39;49m\u001b[39m\"\u001b[39;49m)\n",
      "\u001b[1;31mTypeError\u001b[0m: add_social_info() got an unexpected keyword argument 'facebook'"
     ]
    }
   ],
   "source": [
    "add_social_info(twitter=\"@vivekdmishra\", facebook=\"vivekduttamishra\")"
   ]
  },
  {
   "cell_type": "markdown",
   "metadata": {},
   "source": [
    "### How do I accept unknown keyword arguments?\n",
    "\n",
    "* we pass a parameter with double star prefix (**\\*\\***)\n",
    "* It can collect all keywrod only parameter an auto generated dictionary \n",
    "* This paremter can have any name but conventionally we calling **kwargs**\n"
   ]
  },
  {
   "cell_type": "code",
   "execution_count": 4,
   "metadata": {},
   "outputs": [],
   "source": [
    "def add_social_info(**kwargs):\n",
    "    print(kwargs)"
   ]
  },
  {
   "cell_type": "code",
   "execution_count": 5,
   "metadata": {},
   "outputs": [
    {
     "name": "stdout",
     "output_type": "stream",
     "text": [
      "{'email': 'vivek@conceptarchitect.in', 'web': 'https://vivek.vnc.in'}\n"
     ]
    }
   ],
   "source": [
    "add_social_info(email=\"vivek@conceptarchitect.in\", web=\"https://vivek.vnc.in\")"
   ]
  },
  {
   "cell_type": "markdown",
   "metadata": {},
   "source": []
  },
  {
   "cell_type": "markdown",
   "metadata": {},
   "source": [
    "### Writing Simple Functions\n",
    "\n",
    "* normally a function is written in the following way\n",
    "\n",
    "```python\n",
    "def fn(p1,p2):\n",
    "    statement1\n",
    "    statement2\n",
    "    return value\n",
    "```\n",
    "\n",
    "\n",
    "* But if a function (or any block code) contains a single statement it can be written in same line after colon\n",
    "\n",
    "```python\n",
    "def sum(x,y): return x+y\n",
    "```\n"
   ]
  },
  {
   "cell_type": "markdown",
   "metadata": {},
   "source": [
    "### Lambda Expression\n",
    "\n",
    "* when we have a function with a single statement we can write it as an expression (known as lambda expression)\n",
    "\n",
    "* these are functions\n",
    "    * that have a single statement\n",
    "    * no official name\n",
    "    * they can be \n",
    "        * assigned to a reference\n",
    "        * passed directly to another function"
   ]
  },
  {
   "cell_type": "code",
   "execution_count": 7,
   "metadata": {},
   "outputs": [
    {
     "name": "stdout",
     "output_type": "stream",
     "text": [
      "plus\n"
     ]
    },
    {
     "data": {
      "text/plain": [
       "50"
      ]
     },
     "execution_count": 7,
     "metadata": {},
     "output_type": "execute_result"
    }
   ],
   "source": [
    "def plus(x,y): return x+y\n",
    "\n",
    "print(plus.__name__)\n",
    "plus(20,30)"
   ]
  },
  {
   "cell_type": "code",
   "execution_count": 8,
   "metadata": {},
   "outputs": [],
   "source": [
    "minus = lambda x,y : x-y"
   ]
  },
  {
   "cell_type": "code",
   "execution_count": 9,
   "metadata": {},
   "outputs": [
    {
     "data": {
      "text/plain": [
       "'<lambda>'"
      ]
     },
     "execution_count": 9,
     "metadata": {},
     "output_type": "execute_result"
    }
   ],
   "source": [
    "minus.__name__"
   ]
  },
  {
   "cell_type": "code",
   "execution_count": 10,
   "metadata": {},
   "outputs": [
    {
     "data": {
      "text/plain": [
       "-1"
      ]
     },
     "execution_count": 10,
     "metadata": {},
     "output_type": "execute_result"
    }
   ],
   "source": [
    "minus(2,3)"
   ]
  },
  {
   "cell_type": "code",
   "execution_count": null,
   "metadata": {},
   "outputs": [],
   "source": []
  }
 ],
 "metadata": {
  "kernelspec": {
   "display_name": "Python 3",
   "language": "python",
   "name": "python3"
  },
  "language_info": {
   "codemirror_mode": {
    "name": "ipython",
    "version": 3
   },
   "file_extension": ".py",
   "mimetype": "text/x-python",
   "name": "python",
   "nbconvert_exporter": "python",
   "pygments_lexer": "ipython3",
   "version": "3.11.5"
  },
  "orig_nbformat": 4
 },
 "nbformat": 4,
 "nbformat_minor": 2
}
