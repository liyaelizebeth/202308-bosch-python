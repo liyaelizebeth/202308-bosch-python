{
 "cells": [
  {
   "cell_type": "markdown",
   "metadata": {},
   "source": [
    "## Exception Handling\n",
    "\n",
    "#### What is exception?\n",
    "\n",
    "* exception\n",
    "    *  **unwanted** \n",
    "    *  **~~unexpected~~** **must be expected**\n",
    "        * we must be **prepared** for it\n",
    "    *  **~~rare~~**\n",
    "    * situation\n",
    "\n",
    "* In programming\n",
    "    * it is a situation that may result in unwanted outcome\n",
    "    * it is an error condition generally caused due\n",
    "        * bad inputs \n",
    "            * passing invalid inputs\n",
    "        * bad sitution like\n",
    "            * network outage\n",
    "            * harddisk failure\n",
    "\n",
    "### The life cycle of Exception\n",
    "\n",
    "#### Two Elements (Parties)\n",
    "1. **The source**  is the point in code where the error occurs\n",
    "        * it is like the accident victim\n",
    "2. **The Handler** who will provide resolution to the problem\n",
    "        * Like First Aid by roadsider\n",
    "        * Hospital\n",
    "3. **IMPORTANT**\n",
    "        * If you meed an accident and helped yourself, it is NOT an exception situation\n",
    "        * exception handling comes in picture only when source and handler are two distinct elements.\n",
    "\n",
    "#### Three Phases\n",
    "\n",
    "1. **Recognizing the problem**\n",
    "    * generally we check conditions (**if**) at the **source** to find the error condition\n",
    "    * example\n",
    "        * if triangle is valid\n",
    "        \n",
    "2. **raising an exception signal****\n",
    "    * This is a way to communicate with the handler that things have gone wrong\n",
    "\n",
    "3. **recognizing and handling** the problem at **handler point**\n",
    "    * Here handler must do what is necessary to correct the situation\n",
    "\n",
    "\n",
    "### Traditional Approach (None OO approach)\n",
    "\n",
    "* In traditional approach we handle the three parts\n",
    "\n",
    "1. **recognizing the problem**\n",
    "    * using **if** statment\n",
    "\n",
    "2. **raising the signal**\n",
    "    * generally we return an **invalid value** to describe the exception/problem\n",
    "    * Example\n",
    "        * if a method return nohting we may return true (success) or false(error)\n",
    "        * if a method returns int we may use 0 or -1 to indicate error\n",
    "        * if a method returns some object we may return None to indicate error\n",
    "        * if a method can't return one of the above, we may create a separate flat to indicate error\n",
    "\n",
    "3. **handling the error**\n",
    "    * we use if to check the return/flag \n",
    "    * we write code to resolve the issue\n",
    "\n",
    "#### Problem\n",
    "\n",
    "1. we use same statement (**return**) to indicate result and error signal\n",
    "2. we don't have a fixed approach to return signal\n",
    "    * 0\n",
    "    * -1\n",
    "    * false\n",
    "    * None\n",
    "    * Flag\n",
    "3. These objects are no designed to collect or contain error details\n",
    "4. we use same if-else for normal business logic and error handling\n",
    "\n",
    "\n",
    "\n",
    "### A code with traditional error handling\n",
    "\n",
    "#### Let us create a Fixed Sized stack\n",
    "\n",
    "* A stack is a collection that supports LIFO (Last In First Out)\n",
    "    * user can push any value including 0, -1, False, None etc\n",
    "* It supports \n",
    "    * push ---> adds item on the top of stack\n",
    "        * may fail if stack is full\n",
    "    * pop ---> removes an item from the top \n",
    "        * may fail if stack is empty\n",
    "    * is_empty\n",
    "        * returns if stack is empty\n",
    "\n",
    "    * is_full\n",
    "        * returns if stack is full\n",
    "\n"
   ]
  },
  {
   "cell_type": "code",
   "execution_count": 15,
   "metadata": {},
   "outputs": [],
   "source": [
    "class Stack: \n",
    "    def __init__(self,size):\n",
    "        self._container=[]\n",
    "        self._size=size\n",
    "        self._success=True\n",
    "\n",
    "    def push(self,item):\n",
    "        if not self.is_full():\n",
    "            self._container.append(item)\n",
    "            \n",
    "            return True\n",
    "        else:\n",
    "            return False #error pushing\n",
    "        \n",
    "    def is_full(self):\n",
    "        return len(self._container)==self._size\n",
    "    \n",
    "    def pop(self):\n",
    "        if not self.is_empty():\n",
    "            self._success=True\n",
    "            \n",
    "            return self._container.pop() # any valid value include None\n",
    "        else:\n",
    "            self._success=False\n",
    "\n",
    "    def is_empty(self):\n",
    "        return len(self._container)==0\n",
    "    \n",
    "    def is_success(self):\n",
    "        return self._success\n",
    "    \n",
    "    def __str__(self):\n",
    "        if self.is_empty():\n",
    "            return \"Stack(empty)\"\n",
    "        \n",
    "        str=\"Stack(\\t\" if not self.is_full() else \"Stack[\\t\"\n",
    "\n",
    "        for i in range(len(self._container)):\n",
    "            str+=f\"{self._container[i]}\\t\"\n",
    "        \n",
    "        str+=\"]\" if self.is_full() else \")\"\n",
    "\n",
    "        return str\n",
    "\n",
    "\n"
   ]
  },
  {
   "cell_type": "code",
   "execution_count": 16,
   "metadata": {},
   "outputs": [],
   "source": [
    "def test_push(stack, count):\n",
    "    for item in range(count):\n",
    "        if stack.push(item):\n",
    "            print(f\"pushed {item}\\t{stack}\")\n",
    "        else:\n",
    "            return False\n",
    "    return True\n",
    "\n",
    "def test_pop(stack, count):\n",
    "    for x in range(count):\n",
    "        item= stack.pop()\n",
    "        if stack.is_success():\n",
    "            print(f\"popped {item}\\t{stack}\")\n",
    "        else:\n",
    "            return False\n",
    "        \n",
    "    return True\n",
    "\n",
    "\n",
    "def test_flush(stack):\n",
    "    while not stack.is_empty():\n",
    "        print(f'flushing {stack.pop()}\\t{stack}')\n",
    "\n",
    "def test_push_pop(stack,push_count, pop_count):\n",
    "    if test_push(stack, push_count):\n",
    "        print('all items pushed')\n",
    "    else:\n",
    "        print('error in pushing')\n",
    "\n",
    "    if test_pop(stack, pop_count):\n",
    "        print('pop was success')\n",
    "        test_flush(stack)\n",
    "    else:\n",
    "        print('error in popping')\n",
    "\n",
    "\n",
    "def test_stack(stack_size, push_count, pop_count):\n",
    "    stack = Stack(stack_size)\n",
    "    test_push_pop(stack,push_count, pop_count)\n"
   ]
  },
  {
   "cell_type": "code",
   "execution_count": 17,
   "metadata": {},
   "outputs": [
    {
     "name": "stdout",
     "output_type": "stream",
     "text": [
      "pushed 0\tStack(\t0\t)\n",
      "pushed 1\tStack(\t0\t1\t)\n",
      "pushed 2\tStack(\t0\t1\t2\t)\n",
      "pushed 3\tStack(\t0\t1\t2\t3\t)\n",
      "pushed 4\tStack(\t0\t1\t2\t3\t4\t)\n",
      "pushed 5\tStack(\t0\t1\t2\t3\t4\t5\t)\n",
      "pushed 6\tStack(\t0\t1\t2\t3\t4\t5\t6\t)\n",
      "pushed 7\tStack(\t0\t1\t2\t3\t4\t5\t6\t7\t)\n",
      "all items pushed\n",
      "popped 7\tStack(\t0\t1\t2\t3\t4\t5\t6\t)\n",
      "popped 6\tStack(\t0\t1\t2\t3\t4\t5\t)\n",
      "popped 5\tStack(\t0\t1\t2\t3\t4\t)\n",
      "pop was success\n",
      "flushing 4\tStack(\t0\t1\t2\t3\t)\n",
      "flushing 3\tStack(\t0\t1\t2\t)\n",
      "flushing 2\tStack(\t0\t1\t)\n",
      "flushing 1\tStack(\t0\t)\n",
      "flushing 0\tStack(empty)\n"
     ]
    }
   ],
   "source": [
    "test_stack(10, 8, 3)"
   ]
  },
  {
   "cell_type": "code",
   "execution_count": 18,
   "metadata": {},
   "outputs": [
    {
     "name": "stdout",
     "output_type": "stream",
     "text": [
      "pushed 0\tStack(\t0\t)\n",
      "pushed 1\tStack(\t0\t1\t)\n",
      "pushed 2\tStack(\t0\t1\t2\t)\n",
      "pushed 3\tStack(\t0\t1\t2\t3\t)\n",
      "pushed 4\tStack[\t0\t1\t2\t3\t4\t]\n",
      "error in pushing\n",
      "popped 4\tStack(\t0\t1\t2\t3\t)\n",
      "popped 3\tStack(\t0\t1\t2\t)\n",
      "pop was success\n",
      "flushing 2\tStack(\t0\t1\t)\n",
      "flushing 1\tStack(\t0\t)\n",
      "flushing 0\tStack(empty)\n"
     ]
    }
   ],
   "source": [
    "test_stack(5,8,2)"
   ]
  },
  {
   "cell_type": "code",
   "execution_count": 19,
   "metadata": {},
   "outputs": [
    {
     "name": "stdout",
     "output_type": "stream",
     "text": [
      "pushed 0\tStack(\t0\t)\n",
      "pushed 1\tStack(\t0\t1\t)\n",
      "pushed 2\tStack(\t0\t1\t2\t)\n",
      "pushed 3\tStack(\t0\t1\t2\t3\t)\n",
      "pushed 4\tStack(\t0\t1\t2\t3\t4\t)\n",
      "pushed 5\tStack(\t0\t1\t2\t3\t4\t5\t)\n",
      "pushed 6\tStack(\t0\t1\t2\t3\t4\t5\t6\t)\n",
      "pushed 7\tStack(\t0\t1\t2\t3\t4\t5\t6\t7\t)\n",
      "all items pushed\n",
      "popped 7\tStack(\t0\t1\t2\t3\t4\t5\t6\t)\n",
      "popped 6\tStack(\t0\t1\t2\t3\t4\t5\t)\n",
      "popped 5\tStack(\t0\t1\t2\t3\t4\t)\n",
      "popped 4\tStack(\t0\t1\t2\t3\t)\n",
      "popped 3\tStack(\t0\t1\t2\t)\n",
      "popped 2\tStack(\t0\t1\t)\n",
      "popped 1\tStack(\t0\t)\n",
      "popped 0\tStack(empty)\n",
      "error in popping\n"
     ]
    }
   ],
   "source": [
    "test_stack(10,8,12)"
   ]
  },
  {
   "cell_type": "code",
   "execution_count": 22,
   "metadata": {},
   "outputs": [
    {
     "name": "stdout",
     "output_type": "stream",
     "text": [
      "5\n",
      "2\n"
     ]
    }
   ],
   "source": [
    "s=Stack(5)\n",
    "s.push(5)\n",
    "s.push(9)\n",
    "print(s._size)\n",
    "print(len(s._container))"
   ]
  },
  {
   "cell_type": "code",
   "execution_count": 24,
   "metadata": {},
   "outputs": [
    {
     "ename": "TypeError",
     "evalue": "object of type 'Stack' has no len()",
     "output_type": "error",
     "traceback": [
      "\u001b[1;31m---------------------------------------------------------------------------\u001b[0m",
      "\u001b[1;31mTypeError\u001b[0m                                 Traceback (most recent call last)",
      "Cell \u001b[1;32mIn[24], line 1\u001b[0m\n\u001b[1;32m----> 1\u001b[0m \u001b[39mprint\u001b[39m(\u001b[39mlen\u001b[39;49m(s))\n",
      "\u001b[1;31mTypeError\u001b[0m: object of type 'Stack' has no len()"
     ]
    }
   ],
   "source": [
    "print(len(s))"
   ]
  },
  {
   "cell_type": "markdown",
   "metadata": {},
   "source": [
    "#### Adding capacity() and length to the stack\n",
    "\n",
    "* if we do not want user to access private elements like s._size and len(s._container) we should provide easy access to required information\n",
    "* we will add **capacity()** function to return the capacity of stack\n",
    "* we will add **len(stack)** function to return the actual length of stack\n",
    "* let us also define a visual push design\n",
    "\n",
    "``` python\n",
    "s=Stack(10)\n",
    "\n",
    "s <<2 <<3 << 4 # we are pushing these items\n",
    "\n",
    "```"
   ]
  },
  {
   "cell_type": "code",
   "execution_count": 25,
   "metadata": {},
   "outputs": [],
   "source": []
  },
  {
   "cell_type": "code",
   "execution_count": 27,
   "metadata": {},
   "outputs": [],
   "source": [
    "class Stack: \n",
    "    def __init__(self,size):\n",
    "        self._container=[]\n",
    "        self._size=size\n",
    "        self._success=True\n",
    "\n",
    "    def push(self,item):\n",
    "        if not self.is_full():\n",
    "            self._container.append(item)\n",
    "            \n",
    "            return True\n",
    "        else:\n",
    "            return False #error pushing\n",
    "        \n",
    "    def is_full(self):\n",
    "        return len(self._container)==self._size\n",
    "    \n",
    "    def pop(self):\n",
    "        if not self.is_empty():\n",
    "            self._success=True\n",
    "            \n",
    "            return self._container.pop() # any valid value include None\n",
    "        else:\n",
    "            self._success=False\n",
    "\n",
    "    def is_empty(self):\n",
    "        return len(self._container)==0\n",
    "    \n",
    "    def is_success(self):\n",
    "        return self._success\n",
    "    \n",
    "    def __str__(self):\n",
    "        if self.is_empty():\n",
    "            return \"Stack(empty)\"\n",
    "        \n",
    "        str=\"Stack(\\t\" if not self.is_full() else \"Stack[\\t\"\n",
    "\n",
    "        for i in range(len(self._container)):\n",
    "            str+=f\"{self._container[i]}\\t\"\n",
    "        \n",
    "        str+=\"]\" if self.is_full() else \")\"\n",
    "\n",
    "        return str\n",
    "\n",
    "    def capacity(self): return self._size\n",
    "\n",
    "    def __len__(self) : return len(self._container)\n",
    "\n",
    "    def __lshift__(self,item): \n",
    "        self.push(item)\n",
    "        return self\n"
   ]
  },
  {
   "cell_type": "code",
   "execution_count": 28,
   "metadata": {},
   "outputs": [
    {
     "data": {
      "text/plain": [
       "<__main__.Stack at 0x26efca51d50>"
      ]
     },
     "execution_count": 28,
     "metadata": {},
     "output_type": "execute_result"
    }
   ],
   "source": [
    "s=Stack(10)\n",
    "s.push(5)\n",
    "s.push(9)\n",
    "s<< 8 << 10 << 12\n"
   ]
  },
  {
   "cell_type": "code",
   "execution_count": 29,
   "metadata": {},
   "outputs": [
    {
     "name": "stdout",
     "output_type": "stream",
     "text": [
      "Stack(\t5\t9\t8\t10\t12\t)\n"
     ]
    }
   ],
   "source": [
    "print(s)"
   ]
  },
  {
   "cell_type": "code",
   "execution_count": 30,
   "metadata": {},
   "outputs": [
    {
     "name": "stdout",
     "output_type": "stream",
     "text": [
      "5\n",
      "10\n"
     ]
    }
   ],
   "source": [
    "print(len(s))\n",
    "print(s.capacity())"
   ]
  },
  {
   "cell_type": "markdown",
   "metadata": {},
   "source": [
    "### Problem with current Exception Model\n",
    "\n",
    "1. we have different ways to indicate error\n",
    "    * push returns False\n",
    "        * false can't tell what item I was trying to push when error occured\n",
    "    * pop sets success flag\n",
    "        * can't say what was not success\n",
    "        * how many times it was not success\n",
    "\n",
    "2. we need to know which function uses which technique\n",
    "    * we need to write if statement based on what was the error signal (False or Flag)\n",
    "    * same if is used for handling business\n",
    "\n",
    "3. In our example test_push_pop() handles error\n",
    "    * test_push() and test_pop() doesn't handle error.\n",
    "        * they will still need to check for error\n",
    "    * Everyone sitting between **source** and **handler** will have to pass the error message\n",
    "\n",
    "\n",
    "    \n"
   ]
  },
  {
   "cell_type": "markdown",
   "metadata": {},
   "source": [
    "### OO Exception Handling\n",
    "\n",
    "* In OO exception handling, \n",
    "\n",
    "#### What is an Exception\n",
    "\n",
    "* it is a special object meant to represent error\n",
    "    \n",
    "* It is not any normal object like False, 0, -1, None\n",
    "    * It must inherit Exception super class\n",
    "    * isinstance( exception, Exception)\n",
    "\n",
    "* It can contain more details about failure\n",
    "    * what caused the failure\n",
    "    * how many times it failed\n",
    "    * any other information we want to include\n",
    "\n",
    "\n",
    "#### We don't ~~return~~ exception, we **raise** it\n",
    "\n",
    "* we have a separate keyword to **raise** the signal\n",
    "* we don't return it\n",
    "    * we can return an exception, because it too is an object\n",
    "    * but **raise** has another benefit not present in  **return**\n",
    "\n",
    "#### we dont' check for errors using ~~if~~  . we **except** it\n",
    "\n",
    "* if exceptio is raised it reaches the nearest **except** designed to handle it\n",
    "\n",
    "#### We must be prepared to handle it.\n",
    "\n",
    "* **Preration** is indicated using **try**\n",
    "* if we are not **try**ing we will not be in  a position to handle it\n",
    "\n",
    "\n",
    "\n",
    "### Let us first check some existing exceptions\n",
    "\n",
    "* here exceptions are raised by python\n",
    "* we are just observing it\n",
    "    * not raising \n",
    "    * not handling\n"
   ]
  },
  {
   "cell_type": "code",
   "execution_count": 31,
   "metadata": {},
   "outputs": [
    {
     "ename": "IndexError",
     "evalue": "list index out of range",
     "output_type": "error",
     "traceback": [
      "\u001b[1;31m---------------------------------------------------------------------------\u001b[0m",
      "\u001b[1;31mIndexError\u001b[0m                                Traceback (most recent call last)",
      "Cell \u001b[1;32mIn[31], line 3\u001b[0m\n\u001b[0;32m      1\u001b[0m values\u001b[39m=\u001b[39m[\u001b[39m1\u001b[39m,\u001b[39m2\u001b[39m,\u001b[39m3\u001b[39m,\u001b[39m4\u001b[39m]\n\u001b[1;32m----> 3\u001b[0m \u001b[39mprint\u001b[39m(values[\u001b[39m10\u001b[39;49m])\n",
      "\u001b[1;31mIndexError\u001b[0m: list index out of range"
     ]
    }
   ],
   "source": [
    "values=[1,2,3,4]\n",
    "\n",
    "print(values[10])"
   ]
  },
  {
   "cell_type": "code",
   "execution_count": 32,
   "metadata": {},
   "outputs": [
    {
     "name": "stdout",
     "output_type": "stream",
     "text": [
      "India\n"
     ]
    }
   ],
   "source": [
    "d=dict(IN=\"India\",JP=\"Japan\")\n",
    "\n",
    "print(d[\"IN\"])"
   ]
  },
  {
   "cell_type": "code",
   "execution_count": 33,
   "metadata": {},
   "outputs": [
    {
     "ename": "KeyError",
     "evalue": "'FR'",
     "output_type": "error",
     "traceback": [
      "\u001b[1;31m---------------------------------------------------------------------------\u001b[0m",
      "\u001b[1;31mKeyError\u001b[0m                                  Traceback (most recent call last)",
      "Cell \u001b[1;32mIn[33], line 1\u001b[0m\n\u001b[1;32m----> 1\u001b[0m \u001b[39mprint\u001b[39m(d[\u001b[39m\"\u001b[39;49m\u001b[39mFR\u001b[39;49m\u001b[39m\"\u001b[39;49m])\n",
      "\u001b[1;31mKeyError\u001b[0m: 'FR'"
     ]
    }
   ],
   "source": [
    "print(d[\"FR\"])"
   ]
  },
  {
   "cell_type": "code",
   "execution_count": 34,
   "metadata": {},
   "outputs": [
    {
     "ename": "NameError",
     "evalue": "name 'call_function_that_doesnt_exist' is not defined",
     "output_type": "error",
     "traceback": [
      "\u001b[1;31m---------------------------------------------------------------------------\u001b[0m",
      "\u001b[1;31mNameError\u001b[0m                                 Traceback (most recent call last)",
      "Cell \u001b[1;32mIn[34], line 1\u001b[0m\n\u001b[1;32m----> 1\u001b[0m call_function_that_doesnt_exist()\n",
      "\u001b[1;31mNameError\u001b[0m: name 'call_function_that_doesnt_exist' is not defined"
     ]
    }
   ],
   "source": [
    "call_function_that_doesnt_exist()"
   ]
  },
  {
   "cell_type": "code",
   "execution_count": 35,
   "metadata": {},
   "outputs": [
    {
     "ename": "TypeError",
     "evalue": "Stack.push() takes 2 positional arguments but 4 were given",
     "output_type": "error",
     "traceback": [
      "\u001b[1;31m---------------------------------------------------------------------------\u001b[0m",
      "\u001b[1;31mTypeError\u001b[0m                                 Traceback (most recent call last)",
      "Cell \u001b[1;32mIn[35], line 2\u001b[0m\n\u001b[0;32m      1\u001b[0m s\u001b[39m=\u001b[39mStack(\u001b[39m10\u001b[39m)\n\u001b[1;32m----> 2\u001b[0m s\u001b[39m.\u001b[39;49mpush(\u001b[39m1\u001b[39;49m,\u001b[39m2\u001b[39;49m,\u001b[39m3\u001b[39;49m)\n",
      "\u001b[1;31mTypeError\u001b[0m: Stack.push() takes 2 positional arguments but 4 were given"
     ]
    }
   ],
   "source": [
    "s=Stack(10)\n",
    "s.push(1,2,3)"
   ]
  },
  {
   "cell_type": "markdown",
   "metadata": {},
   "source": [
    "#### Normal code without exception handling\n",
    "\n",
    "* stops on encountering error\n",
    "* doesn't process the next line\n"
   ]
  },
  {
   "cell_type": "code",
   "execution_count": 40,
   "metadata": {},
   "outputs": [],
   "source": [
    "country_info = dict(IN=\"India\", JP=\"Japan\", US=\"United States\")\n",
    "\n",
    "def print_country_info(key):\n",
    "    print(country_info[key])\n"
   ]
  },
  {
   "cell_type": "code",
   "execution_count": 41,
   "metadata": {},
   "outputs": [
    {
     "name": "stdout",
     "output_type": "stream",
     "text": [
      "India\n"
     ]
    },
    {
     "ename": "KeyError",
     "evalue": "'FR'",
     "output_type": "error",
     "traceback": [
      "\u001b[1;31m---------------------------------------------------------------------------\u001b[0m",
      "\u001b[1;31mKeyError\u001b[0m                                  Traceback (most recent call last)",
      "Cell \u001b[1;32mIn[41], line 2\u001b[0m\n\u001b[0;32m      1\u001b[0m print_country_info(\u001b[39m\"\u001b[39m\u001b[39mIN\u001b[39m\u001b[39m\"\u001b[39m)\n\u001b[1;32m----> 2\u001b[0m print_country_info(\u001b[39m\"\u001b[39;49m\u001b[39mFR\u001b[39;49m\u001b[39m\"\u001b[39;49m) \u001b[39m#stops here\u001b[39;00m\n\u001b[0;32m      3\u001b[0m print_country_info(\u001b[39m\"\u001b[39m\u001b[39mJP\u001b[39m\u001b[39m\"\u001b[39m) \u001b[39m# will not process this line\u001b[39;00m\n",
      "Cell \u001b[1;32mIn[40], line 4\u001b[0m, in \u001b[0;36mprint_country_info\u001b[1;34m(key)\u001b[0m\n\u001b[0;32m      3\u001b[0m \u001b[39mdef\u001b[39;00m \u001b[39mprint_country_info\u001b[39m(key):\n\u001b[1;32m----> 4\u001b[0m     \u001b[39mprint\u001b[39m(country_info[key])\n",
      "\u001b[1;31mKeyError\u001b[0m: 'FR'"
     ]
    }
   ],
   "source": [
    "print_country_info(\"IN\")\n",
    "print_country_info(\"FR\") #stops here\n",
    "print_country_info(\"JP\") # will not process this line"
   ]
  },
  {
   "cell_type": "markdown",
   "metadata": {},
   "source": [
    "### Handling the error \n",
    "\n",
    "* to handle the error we need to write **try-except** syntax\n",
    "* once we have **except** exception is considered resolved\n",
    "    * program doesn't crash"
   ]
  },
  {
   "cell_type": "code",
   "execution_count": 42,
   "metadata": {},
   "outputs": [],
   "source": [
    "country_info = dict(IN=\"India\", JP=\"Japan\", US=\"United States\")\n",
    "\n",
    "def print_country_info(key):\n",
    "    try:\n",
    "        print(country_info[key])\n",
    "    except:\n",
    "        print(f'No country with code {key}')"
   ]
  },
  {
   "cell_type": "code",
   "execution_count": 43,
   "metadata": {},
   "outputs": [
    {
     "name": "stdout",
     "output_type": "stream",
     "text": [
      "India\n",
      "No country with code FR\n",
      "Japan\n"
     ]
    }
   ],
   "source": [
    "print_country_info(\"IN\")\n",
    "print_country_info(\"FR\")\n",
    "print_country_info(\"JP\")"
   ]
  },
  {
   "cell_type": "markdown",
   "metadata": {},
   "source": [
    "### How do we raise exception\n",
    "\n",
    "* we can simpy raise exception by using **raise** for any Exception\n",
    "* raise can be used only with those object which are instance of Exception\n",
    "* it can't be raised for normal object like int"
   ]
  },
  {
   "cell_type": "code",
   "execution_count": 44,
   "metadata": {},
   "outputs": [
    {
     "ename": "ValueError",
     "evalue": "Invalid Value",
     "output_type": "error",
     "traceback": [
      "\u001b[1;31m---------------------------------------------------------------------------\u001b[0m",
      "\u001b[1;31mValueError\u001b[0m                                Traceback (most recent call last)",
      "Cell \u001b[1;32mIn[44], line 1\u001b[0m\n\u001b[1;32m----> 1\u001b[0m \u001b[39mraise\u001b[39;00m \u001b[39mValueError\u001b[39;00m(\u001b[39m'\u001b[39m\u001b[39mInvalid Value\u001b[39m\u001b[39m'\u001b[39m)\n",
      "\u001b[1;31mValueError\u001b[0m: Invalid Value"
     ]
    }
   ],
   "source": [
    "raise ValueError('Invalid Value')"
   ]
  },
  {
   "cell_type": "code",
   "execution_count": 45,
   "metadata": {},
   "outputs": [
    {
     "ename": "TypeError",
     "evalue": "exceptions must derive from BaseException",
     "output_type": "error",
     "traceback": [
      "\u001b[1;31m---------------------------------------------------------------------------\u001b[0m",
      "\u001b[1;31mTypeError\u001b[0m                                 Traceback (most recent call last)",
      "Cell \u001b[1;32mIn[45], line 1\u001b[0m\n\u001b[1;32m----> 1\u001b[0m \u001b[39mraise\u001b[39;00m \u001b[39m0\u001b[39m\n",
      "\u001b[1;31mTypeError\u001b[0m: exceptions must derive from BaseException"
     ]
    }
   ],
   "source": [
    "raise 0"
   ]
  },
  {
   "cell_type": "markdown",
   "metadata": {},
   "source": [
    "#### Let us re-write Stack with exception\n",
    "\n",
    "* here we will let push and pop raise exceptions"
   ]
  },
  {
   "cell_type": "code",
   "execution_count": 46,
   "metadata": {},
   "outputs": [],
   "source": [
    "class Stack: \n",
    "    def __init__(self,size):\n",
    "        self._container=[]\n",
    "        self._size=size\n",
    "        \n",
    "\n",
    "    def push(self,item):\n",
    "        if not self.is_full():\n",
    "            self._container.append(item)\n",
    "            return self\n",
    "        else:\n",
    "            raise Exception('Stack Overflow')\n",
    "        \n",
    "    def is_full(self):\n",
    "        return len(self._container)==self._size\n",
    "    \n",
    "    def pop(self):\n",
    "        if not self.is_empty():\n",
    "            return self._container.pop() # any valid value include None\n",
    "        else:\n",
    "            raise Exception('Stack under flow')\n",
    "\n",
    "    def is_empty(self):\n",
    "        return len(self._container)==0\n",
    "    \n",
    "    \n",
    "    def __str__(self):\n",
    "        if self.is_empty():\n",
    "            return \"Stack(empty)\"\n",
    "        \n",
    "        str=\"Stack(\\t\" if not self.is_full() else \"Stack[\\t\"\n",
    "\n",
    "        for i in range(len(self._container)):\n",
    "            str+=f\"{self._container[i]}\\t\"\n",
    "        \n",
    "        str+=\"]\" if self.is_full() else \")\"\n",
    "\n",
    "        return str\n",
    "\n",
    "    def capacity(self): return self._size\n",
    "\n",
    "    def __len__(self) : return len(self._container)\n",
    "\n",
    "    def __lshift__(self,item): \n",
    "        self.push(item)\n",
    "        return self\n"
   ]
  },
  {
   "cell_type": "code",
   "execution_count": 48,
   "metadata": {},
   "outputs": [],
   "source": [
    "def test_push(stack, count):\n",
    "    for item in range(count):\n",
    "        stack.push(item)                 # if this fails\n",
    "        print(f\"pushed {item}\\t{stack}\") #we never reach here\n",
    "        \n",
    "    \n",
    "\n",
    "def test_pop(stack, count):\n",
    "    for x in range(count):\n",
    "        item= stack.pop()                #if this fails\n",
    "        print(f\"popped {item}\\t{stack}\") # we don't reach here\n",
    "        \n",
    "\n",
    "\n",
    "def test_flush(stack):\n",
    "    while not stack.is_empty():\n",
    "        print(f'flushing {stack.pop()}\\t{stack}')\n",
    "\n",
    "def test_push_pop(stack,push_count, pop_count):\n",
    "    \n",
    "    try:\n",
    "        test_push(stack, push_count)\n",
    "        print('all items pushed')\n",
    "    except:\n",
    "        print('error pushing')\n",
    "\n",
    "    try:\n",
    "        test_pop(stack, pop_count)\n",
    "        print('pop was success')\n",
    "        test_flush(stack)\n",
    "    except:\n",
    "        print('error popping')\n",
    "    \n",
    "\n",
    "\n",
    "def test_stack(stack_size, push_count, pop_count):\n",
    "    stack = Stack(stack_size)\n",
    "    test_push_pop(stack,push_count, pop_count)\n"
   ]
  },
  {
   "cell_type": "code",
   "execution_count": 49,
   "metadata": {},
   "outputs": [
    {
     "name": "stdout",
     "output_type": "stream",
     "text": [
      "pushed 0\tStack(\t0\t)\n",
      "pushed 1\tStack(\t0\t1\t)\n",
      "pushed 2\tStack(\t0\t1\t2\t)\n",
      "pushed 3\tStack(\t0\t1\t2\t3\t)\n",
      "all items pushed\n",
      "popped 3\tStack(\t0\t1\t2\t)\n",
      "popped 2\tStack(\t0\t1\t)\n",
      "pop was success\n",
      "flushing 1\tStack(\t0\t)\n",
      "flushing 0\tStack(empty)\n"
     ]
    }
   ],
   "source": [
    "test_stack(5,4,2)"
   ]
  },
  {
   "cell_type": "code",
   "execution_count": 50,
   "metadata": {},
   "outputs": [
    {
     "name": "stdout",
     "output_type": "stream",
     "text": [
      "pushed 0\tStack(\t0\t)\n",
      "pushed 1\tStack(\t0\t1\t)\n",
      "pushed 2\tStack(\t0\t1\t2\t)\n",
      "pushed 3\tStack(\t0\t1\t2\t3\t)\n",
      "pushed 4\tStack[\t0\t1\t2\t3\t4\t]\n",
      "error pushing\n",
      "popped 4\tStack(\t0\t1\t2\t3\t)\n",
      "popped 3\tStack(\t0\t1\t2\t)\n",
      "pop was success\n",
      "flushing 2\tStack(\t0\t1\t)\n",
      "flushing 1\tStack(\t0\t)\n",
      "flushing 0\tStack(empty)\n"
     ]
    }
   ],
   "source": [
    "test_stack(5,8,2)"
   ]
  },
  {
   "cell_type": "code",
   "execution_count": 51,
   "metadata": {},
   "outputs": [
    {
     "name": "stdout",
     "output_type": "stream",
     "text": [
      "pushed 0\tStack(\t0\t)\n",
      "pushed 1\tStack(\t0\t1\t)\n",
      "pushed 2\tStack(\t0\t1\t2\t)\n",
      "pushed 3\tStack(\t0\t1\t2\t3\t)\n",
      "all items pushed\n",
      "popped 3\tStack(\t0\t1\t2\t)\n",
      "popped 2\tStack(\t0\t1\t)\n",
      "popped 1\tStack(\t0\t)\n",
      "popped 0\tStack(empty)\n",
      "error popping\n"
     ]
    }
   ],
   "source": [
    "test_stack(5,4,9)"
   ]
  },
  {
   "cell_type": "markdown",
   "metadata": {},
   "source": [
    "### Handling Multiple Exceptions Together\n",
    "\n",
    "* we can handle multiple exceptions in one try-except"
   ]
  },
  {
   "cell_type": "code",
   "execution_count": 52,
   "metadata": {},
   "outputs": [],
   "source": [
    "def test_push_pop(stack,push_count, pop_count):\n",
    "    \n",
    "    try:\n",
    "        test_push(stack, push_count)\n",
    "        print('all items pushed')    \n",
    "        test_pop(stack, pop_count)\n",
    "        print('pop was success')\n",
    "        test_flush(stack)\n",
    "    except:\n",
    "        print('error')"
   ]
  },
  {
   "cell_type": "code",
   "execution_count": 53,
   "metadata": {},
   "outputs": [
    {
     "name": "stdout",
     "output_type": "stream",
     "text": [
      "pushed 0\tStack(\t0\t)\n",
      "pushed 1\tStack(\t0\t1\t)\n",
      "pushed 2\tStack(\t0\t1\t2\t)\n",
      "pushed 3\tStack(\t0\t1\t2\t3\t)\n",
      "all items pushed\n",
      "popped 3\tStack(\t0\t1\t2\t)\n",
      "popped 2\tStack(\t0\t1\t)\n",
      "pop was success\n",
      "flushing 1\tStack(\t0\t)\n",
      "flushing 0\tStack(empty)\n"
     ]
    }
   ],
   "source": [
    "test_stack(5,4,2)"
   ]
  },
  {
   "cell_type": "code",
   "execution_count": 54,
   "metadata": {},
   "outputs": [
    {
     "name": "stdout",
     "output_type": "stream",
     "text": [
      "pushed 0\tStack(\t0\t)\n",
      "pushed 1\tStack(\t0\t1\t)\n",
      "pushed 2\tStack(\t0\t1\t2\t)\n",
      "pushed 3\tStack(\t0\t1\t2\t3\t)\n",
      "all items pushed\n",
      "popped 3\tStack(\t0\t1\t2\t)\n",
      "popped 2\tStack(\t0\t1\t)\n",
      "popped 1\tStack(\t0\t)\n",
      "popped 0\tStack(empty)\n",
      "error\n"
     ]
    }
   ],
   "source": [
    "test_stack(5,4,9)"
   ]
  },
  {
   "cell_type": "code",
   "execution_count": 55,
   "metadata": {},
   "outputs": [
    {
     "name": "stdout",
     "output_type": "stream",
     "text": [
      "pushed 0\tStack(\t0\t)\n",
      "pushed 1\tStack(\t0\t1\t)\n",
      "pushed 2\tStack(\t0\t1\t2\t)\n",
      "pushed 3\tStack(\t0\t1\t2\t3\t)\n",
      "pushed 4\tStack[\t0\t1\t2\t3\t4\t]\n",
      "error\n"
     ]
    }
   ],
   "source": [
    "test_stack(5,9,2)"
   ]
  },
  {
   "cell_type": "markdown",
   "metadata": {},
   "source": [
    "#### How do I get the error message?\n",
    "\n",
    "* we can assign a reference to exception caught in except block"
   ]
  },
  {
   "cell_type": "code",
   "execution_count": 58,
   "metadata": {},
   "outputs": [],
   "source": [
    "def test_push_pop(stack,push_count, pop_count):\n",
    "    \n",
    "    try:\n",
    "        test_push(stack, push_count)\n",
    "        print('all items pushed')    \n",
    "        test_pop(stack, pop_count)\n",
    "        print('pop was success')\n",
    "        test_flush(stack)\n",
    "    except Exception as e:\n",
    "        print(f'error : {e}')"
   ]
  },
  {
   "cell_type": "code",
   "execution_count": 59,
   "metadata": {},
   "outputs": [
    {
     "name": "stdout",
     "output_type": "stream",
     "text": [
      "pushed 0\tStack(\t0\t)\n",
      "pushed 1\tStack(\t0\t1\t)\n",
      "pushed 2\tStack(\t0\t1\t2\t)\n",
      "pushed 3\tStack(\t0\t1\t2\t3\t)\n",
      "all items pushed\n",
      "popped 3\tStack(\t0\t1\t2\t)\n",
      "popped 2\tStack(\t0\t1\t)\n",
      "pop was success\n",
      "flushing 1\tStack(\t0\t)\n",
      "flushing 0\tStack(empty)\n"
     ]
    }
   ],
   "source": [
    "test_stack(5,4,2)"
   ]
  },
  {
   "cell_type": "code",
   "execution_count": 61,
   "metadata": {},
   "outputs": [
    {
     "name": "stdout",
     "output_type": "stream",
     "text": [
      "pushed 0\tStack(\t0\t)\n",
      "pushed 1\tStack(\t0\t1\t)\n",
      "pushed 2\tStack(\t0\t1\t2\t)\n",
      "pushed 3\tStack(\t0\t1\t2\t3\t)\n",
      "pushed 4\tStack[\t0\t1\t2\t3\t4\t]\n",
      "error : Stack Overflow\n"
     ]
    }
   ],
   "source": [
    "test_stack(5,9,2)"
   ]
  },
  {
   "cell_type": "code",
   "execution_count": 62,
   "metadata": {},
   "outputs": [
    {
     "name": "stdout",
     "output_type": "stream",
     "text": [
      "pushed 0\tStack(\t0\t)\n",
      "pushed 1\tStack(\t0\t1\t)\n",
      "pushed 2\tStack(\t0\t1\t2\t)\n",
      "pushed 3\tStack(\t0\t1\t2\t3\t)\n",
      "all items pushed\n",
      "popped 3\tStack(\t0\t1\t2\t)\n",
      "popped 2\tStack(\t0\t1\t)\n",
      "popped 1\tStack(\t0\t)\n",
      "popped 0\tStack(empty)\n",
      "error : Stack under flow\n"
     ]
    }
   ],
   "source": [
    "test_stack(5,4,9)"
   ]
  },
  {
   "cell_type": "markdown",
   "metadata": {},
   "source": [
    "#### Creating custom errors with information\n",
    "\n",
    "* to create our own exception we need\n",
    "\n",
    "1. create a class\n",
    "2. inherit from Exception\n",
    "3. define \\_\\_str\\_\\_ to display message\n",
    "4. good practice\n",
    "    * suffix class name with **Error** or **Exception**"
   ]
  },
  {
   "cell_type": "code",
   "execution_count": null,
   "metadata": {},
   "outputs": [],
   "source": [
    " "
   ]
  },
  {
   "cell_type": "code",
   "execution_count": 63,
   "metadata": {},
   "outputs": [],
   "source": [
    "class StackOverflowException(Exception):\n",
    "    def __init__(self,message=None, value=None):\n",
    "        super().__init__(message if message!=None else f'Stack Overflow while pushing {value}' )\n",
    "        self.value=value\n",
    "\n",
    "class StackUnderflowException(Exception):\n",
    "    pass"
   ]
  },
  {
   "cell_type": "markdown",
   "metadata": {},
   "source": [
    "### rewrite push and pop of stack"
   ]
  },
  {
   "cell_type": "code",
   "execution_count": 74,
   "metadata": {},
   "outputs": [],
   "source": [
    "def push(stack, item):\n",
    "    if stack.is_full():\n",
    "        raise StackOverflowException(value=item)\n",
    "    stack._container.append(item)\n",
    "\n",
    "def pop(stack):\n",
    "    if stack.is_empty():\n",
    "        raise StackUnderflowException(\"Stack is Empty\")\n",
    "    return stack._container.pop()\n",
    "\n",
    "Stack.push=push\n",
    "Stack.pop=pop\n"
   ]
  },
  {
   "cell_type": "code",
   "execution_count": 75,
   "metadata": {},
   "outputs": [
    {
     "name": "stdout",
     "output_type": "stream",
     "text": [
      "pushed 0\tStack(\t0\t)\n",
      "pushed 1\tStack(\t0\t1\t)\n",
      "pushed 2\tStack(\t0\t1\t2\t)\n",
      "pushed 3\tStack(\t0\t1\t2\t3\t)\n",
      "all items pushed\n",
      "popped 3\tStack(\t0\t1\t2\t)\n",
      "popped 2\tStack(\t0\t1\t)\n",
      "pop was success\n",
      "flushing 1\tStack(\t0\t)\n",
      "flushing 0\tStack(empty)\n"
     ]
    }
   ],
   "source": [
    "test_stack(5,4,2)"
   ]
  },
  {
   "cell_type": "code",
   "execution_count": 76,
   "metadata": {},
   "outputs": [
    {
     "name": "stdout",
     "output_type": "stream",
     "text": [
      "pushed 0\tStack(\t0\t)\n",
      "pushed 1\tStack(\t0\t1\t)\n",
      "pushed 2\tStack(\t0\t1\t2\t)\n",
      "pushed 3\tStack(\t0\t1\t2\t3\t)\n",
      "pushed 4\tStack[\t0\t1\t2\t3\t4\t]\n",
      "error pushing : 5\n"
     ]
    }
   ],
   "source": [
    "test_stack(5,9,2)"
   ]
  },
  {
   "cell_type": "code",
   "execution_count": 77,
   "metadata": {},
   "outputs": [
    {
     "name": "stdout",
     "output_type": "stream",
     "text": [
      "pushed 0\tStack(\t0\t)\n",
      "pushed 1\tStack(\t0\t1\t)\n",
      "all items pushed\n",
      "popped 1\tStack(\t0\t)\n",
      "popped 0\tStack(empty)\n",
      "Stack is Empty\n"
     ]
    }
   ],
   "source": [
    "test_stack(5,2,9)"
   ]
  },
  {
   "cell_type": "markdown",
   "metadata": {},
   "source": [
    "### How do I handle the two exception's separately\n",
    "\n",
    "* each try can have multiple except associated\n",
    "* each except can handle different errors\n"
   ]
  },
  {
   "cell_type": "code",
   "execution_count": 78,
   "metadata": {},
   "outputs": [],
   "source": [
    "def test_push_pop(stack,push_count, pop_count):\n",
    "    \n",
    "    try:\n",
    "        test_push(stack, push_count)\n",
    "        print('all items pushed')    \n",
    "        test_pop(stack, pop_count)\n",
    "        print('pop was success')\n",
    "        test_flush(stack)\n",
    "    except StackOverflowException as e:\n",
    "        print(f'error pushing : {e.value}')\n",
    "    except StackUnderflowException as e:\n",
    "        print(e)"
   ]
  },
  {
   "cell_type": "code",
   "execution_count": 79,
   "metadata": {},
   "outputs": [
    {
     "name": "stdout",
     "output_type": "stream",
     "text": [
      "pushed 0\tStack(\t0\t)\n",
      "pushed 1\tStack(\t0\t1\t)\n",
      "pushed 2\tStack(\t0\t1\t2\t)\n",
      "pushed 3\tStack(\t0\t1\t2\t3\t)\n",
      "pushed 4\tStack[\t0\t1\t2\t3\t4\t]\n",
      "error pushing : 5\n"
     ]
    }
   ],
   "source": [
    "test_stack(5,9,2)"
   ]
  },
  {
   "cell_type": "code",
   "execution_count": 80,
   "metadata": {},
   "outputs": [
    {
     "name": "stdout",
     "output_type": "stream",
     "text": [
      "pushed 0\tStack(\t0\t)\n",
      "pushed 1\tStack(\t0\t1\t)\n",
      "all items pushed\n",
      "popped 1\tStack(\t0\t)\n",
      "popped 0\tStack(empty)\n",
      "Stack is Empty\n"
     ]
    }
   ],
   "source": [
    "test_stack(5,2,9)"
   ]
  },
  {
   "cell_type": "markdown",
   "metadata": {},
   "source": [
    "#### we can have an hierarchy of exception\n",
    "\n",
    "* we can define our own super class and sub class of exception\n"
   ]
  },
  {
   "cell_type": "code",
   "execution_count": 81,
   "metadata": {},
   "outputs": [],
   "source": [
    "class StackException(Exception):\n",
    "    pass\n",
    "\n",
    "class StackOverflowException(StackException):\n",
    "    def __init__(self,message=None, value=None):\n",
    "        super().__init__(message if message!=None else f'Stack Overflow while pushing {value}' )\n",
    "        self.value=value\n",
    "\n",
    "class StackUnderflowException(StackException):\n",
    "    pass"
   ]
  },
  {
   "cell_type": "markdown",
   "metadata": {},
   "source": [
    "#### Now we can handle both exceptions in a single except block "
   ]
  },
  {
   "cell_type": "code",
   "execution_count": 83,
   "metadata": {},
   "outputs": [
    {
     "name": "stdout",
     "output_type": "stream",
     "text": [
      "Stack Overflow while pushing 2\n"
     ]
    }
   ],
   "source": [
    "try:\n",
    "    stack=Stack(1)\n",
    "    stack.push(1) # no problem\n",
    "    stack.push(2) # error\n",
    "except StackException as e:\n",
    "    print(e)"
   ]
  },
  {
   "cell_type": "code",
   "execution_count": 84,
   "metadata": {},
   "outputs": [
    {
     "name": "stdout",
     "output_type": "stream",
     "text": [
      "1\n",
      "Stack is Empty\n"
     ]
    }
   ],
   "source": [
    "try:\n",
    "    stack=Stack(2)\n",
    "    stack.push(1)\n",
    "    print(stack.pop()) # no problem\n",
    "    print(stack.pop()) #error\n",
    "except StackException as e:\n",
    "    print(e)\n"
   ]
  },
  {
   "cell_type": "markdown",
   "metadata": {},
   "source": [
    "### finally\n",
    "\n",
    "* in exception handling we have no guarantee that\n",
    "    * entire try block with execute\n",
    "        * there may be an exception raised anywhere\n",
    "    * an except block will execute\n",
    "        * exception may not be raised\n",
    "        * different exception is raised.\n",
    "    * code after try-except will execute\n",
    "        * exception is raised but no except is available\n",
    "\n",
    "#### How do we ensure that an important piece of code executes no matter what\n",
    "\n",
    "### finally block\n",
    "\n",
    "* a try may have 0 or more except and 0 or 1 finally block\n",
    "* a try must have at least one except or one finally block\n",
    "* finally block is called \n",
    "    1. after try if there is no exception raised\n",
    "    2. after except if exception is raised and excepted\n",
    "    3. before exiting the function if exception is raised but not handled"
   ]
  },
  {
   "cell_type": "code",
   "execution_count": 87,
   "metadata": {},
   "outputs": [],
   "source": [
    "def fortune_info(lucky_number):\n",
    "    fortunes=['','You have a good day ahead', 'Be careful today','Work hard and get rewarded']\n",
    "    return fortunes[lucky_number]\n",
    "\n",
    "def get_fortune(lucky_number):\n",
    "    fortune  =fortune_info(int(lucky_number))\n",
    "    return fortune\n",
    "\n",
    "def fortune_teller(lucky_number):\n",
    "    \n",
    "    fortune=get_fortune(lucky_number)\n",
    "    print(f'prediction:{fortune}')\n"
   ]
  },
  {
   "cell_type": "code",
   "execution_count": 88,
   "metadata": {},
   "outputs": [
    {
     "name": "stdout",
     "output_type": "stream",
     "text": [
      "prediction:Be careful today\n",
      "prediction:Work hard and get rewarded\n"
     ]
    }
   ],
   "source": [
    "fortune_teller(2)\n",
    "fortune_teller(3)"
   ]
  },
  {
   "cell_type": "code",
   "execution_count": 89,
   "metadata": {},
   "outputs": [
    {
     "ename": "IndexError",
     "evalue": "list index out of range",
     "output_type": "error",
     "traceback": [
      "\u001b[1;31m---------------------------------------------------------------------------\u001b[0m",
      "\u001b[1;31mIndexError\u001b[0m                                Traceback (most recent call last)",
      "Cell \u001b[1;32mIn[89], line 1\u001b[0m\n\u001b[1;32m----> 1\u001b[0m fortune_teller(\u001b[39m100\u001b[39;49m)\n",
      "Cell \u001b[1;32mIn[87], line 11\u001b[0m, in \u001b[0;36mfortune_teller\u001b[1;34m(lucky_number)\u001b[0m\n\u001b[0;32m      9\u001b[0m \u001b[39mdef\u001b[39;00m \u001b[39mfortune_teller\u001b[39m(lucky_number):\n\u001b[1;32m---> 11\u001b[0m     fortune\u001b[39m=\u001b[39mget_fortune(lucky_number)\n\u001b[0;32m     12\u001b[0m     \u001b[39mprint\u001b[39m(\u001b[39mf\u001b[39m\u001b[39m'\u001b[39m\u001b[39mprediction:\u001b[39m\u001b[39m{\u001b[39;00mfortune\u001b[39m}\u001b[39;00m\u001b[39m'\u001b[39m)\n",
      "Cell \u001b[1;32mIn[87], line 6\u001b[0m, in \u001b[0;36mget_fortune\u001b[1;34m(lucky_number)\u001b[0m\n\u001b[0;32m      5\u001b[0m \u001b[39mdef\u001b[39;00m \u001b[39mget_fortune\u001b[39m(lucky_number):\n\u001b[1;32m----> 6\u001b[0m     fortune  \u001b[39m=\u001b[39mfortune_info(\u001b[39mint\u001b[39;49m(lucky_number))\n\u001b[0;32m      7\u001b[0m     \u001b[39mreturn\u001b[39;00m fortune\n",
      "Cell \u001b[1;32mIn[87], line 3\u001b[0m, in \u001b[0;36mfortune_info\u001b[1;34m(lucky_number)\u001b[0m\n\u001b[0;32m      1\u001b[0m \u001b[39mdef\u001b[39;00m \u001b[39mfortune_info\u001b[39m(lucky_number):\n\u001b[0;32m      2\u001b[0m     fortunes\u001b[39m=\u001b[39m[\u001b[39m'\u001b[39m\u001b[39m'\u001b[39m,\u001b[39m'\u001b[39m\u001b[39mYou have a good day ahead\u001b[39m\u001b[39m'\u001b[39m, \u001b[39m'\u001b[39m\u001b[39mBe careful today\u001b[39m\u001b[39m'\u001b[39m,\u001b[39m'\u001b[39m\u001b[39mWork hard and get rewarded\u001b[39m\u001b[39m'\u001b[39m]\n\u001b[1;32m----> 3\u001b[0m     \u001b[39mreturn\u001b[39;00m fortunes[lucky_number]\n",
      "\u001b[1;31mIndexError\u001b[0m: list index out of range"
     ]
    }
   ],
   "source": [
    "fortune_teller(100)"
   ]
  },
  {
   "cell_type": "code",
   "execution_count": 90,
   "metadata": {},
   "outputs": [
    {
     "ename": "ValueError",
     "evalue": "invalid literal for int() with base 10: 'hi'",
     "output_type": "error",
     "traceback": [
      "\u001b[1;31m---------------------------------------------------------------------------\u001b[0m",
      "\u001b[1;31mValueError\u001b[0m                                Traceback (most recent call last)",
      "Cell \u001b[1;32mIn[90], line 1\u001b[0m\n\u001b[1;32m----> 1\u001b[0m fortune_teller(\u001b[39m'\u001b[39;49m\u001b[39mhi\u001b[39;49m\u001b[39m'\u001b[39;49m)\n",
      "Cell \u001b[1;32mIn[87], line 11\u001b[0m, in \u001b[0;36mfortune_teller\u001b[1;34m(lucky_number)\u001b[0m\n\u001b[0;32m      9\u001b[0m \u001b[39mdef\u001b[39;00m \u001b[39mfortune_teller\u001b[39m(lucky_number):\n\u001b[1;32m---> 11\u001b[0m     fortune\u001b[39m=\u001b[39mget_fortune(lucky_number)\n\u001b[0;32m     12\u001b[0m     \u001b[39mprint\u001b[39m(\u001b[39mf\u001b[39m\u001b[39m'\u001b[39m\u001b[39mprediction:\u001b[39m\u001b[39m{\u001b[39;00mfortune\u001b[39m}\u001b[39;00m\u001b[39m'\u001b[39m)\n",
      "Cell \u001b[1;32mIn[87], line 6\u001b[0m, in \u001b[0;36mget_fortune\u001b[1;34m(lucky_number)\u001b[0m\n\u001b[0;32m      5\u001b[0m \u001b[39mdef\u001b[39;00m \u001b[39mget_fortune\u001b[39m(lucky_number):\n\u001b[1;32m----> 6\u001b[0m     fortune  \u001b[39m=\u001b[39mfortune_info(\u001b[39mint\u001b[39;49m(lucky_number))\n\u001b[0;32m      7\u001b[0m     \u001b[39mreturn\u001b[39;00m fortune\n",
      "\u001b[1;31mValueError\u001b[0m: invalid literal for int() with base 10: 'hi'"
     ]
    }
   ],
   "source": [
    "fortune_teller('hi')"
   ]
  },
  {
   "cell_type": "code",
   "execution_count": 107,
   "metadata": {},
   "outputs": [],
   "source": [
    "class FortuneException(Exception):pass\n",
    "\n",
    "def fortune_info(lucky_number):\n",
    "    fortunes=['','You have a good day ahead', 'Be careful today','Work hard and get rewarded']\n",
    "    if lucky_number==0:\n",
    "        raise FortuneException(\"You have no luck\")\n",
    "    elif lucky_number<0:\n",
    "        raise FortuneException(\"You have too much negativity\")\n",
    "    return fortunes[lucky_number]\n",
    "\n",
    "def get_fortune(lucky_number):\n",
    "    fortune=\"\"\n",
    "    try:\n",
    "        fortune  =fortune_info(int(lucky_number))\n",
    "        print('fortune fetched successfully')\n",
    "    except IndexError:\n",
    "        print('too high lucky number')\n",
    "        fortune= \"Don't be over ambition\"\n",
    "    except ValueError:\n",
    "        print('not a number')\n",
    "        fortune= \"You need to learn Maths\"\n",
    "\n",
    "    print('returning fortune')\n",
    "    return fortune\n",
    "    \n",
    "\n",
    "def fortune_teller(lucky_number):\n",
    "    try:\n",
    "        fortune=get_fortune(lucky_number)\n",
    "        print(f'prediction:{fortune}')\n",
    "    except FortuneException as e:\n",
    "        print(e)\n"
   ]
  },
  {
   "cell_type": "code",
   "execution_count": 108,
   "metadata": {},
   "outputs": [
    {
     "name": "stdout",
     "output_type": "stream",
     "text": [
      "fortune fetched successfully\n",
      "returning fortune\n",
      "prediction:Be careful today\n"
     ]
    }
   ],
   "source": [
    "fortune_teller(2)\n"
   ]
  },
  {
   "cell_type": "code",
   "execution_count": 109,
   "metadata": {},
   "outputs": [
    {
     "name": "stdout",
     "output_type": "stream",
     "text": [
      "too high lucky number\n",
      "returning fortune\n",
      "prediction:Don't be over ambition\n"
     ]
    }
   ],
   "source": [
    "fortune_teller(100)"
   ]
  },
  {
   "cell_type": "code",
   "execution_count": 110,
   "metadata": {},
   "outputs": [
    {
     "name": "stdout",
     "output_type": "stream",
     "text": [
      "You have too much negativity\n"
     ]
    }
   ],
   "source": [
    "fortune_teller(-1)"
   ]
  },
  {
   "cell_type": "code",
   "execution_count": 111,
   "metadata": {},
   "outputs": [],
   "source": [
    "def get_fortune(lucky_number):\n",
    "    fortune=\"\"\n",
    "    try:\n",
    "        fortune  =fortune_info(int(lucky_number))\n",
    "        print('fortune fetched successfully')\n",
    "    except IndexError:\n",
    "        print('too high lucky number')\n",
    "        fortune= \"Don't be over ambition\"\n",
    "    except ValueError:\n",
    "        print('not a number')\n",
    "        fortune= \"You need to learn Maths\"\n",
    "    finally:\n",
    "        print('finally returning from get_fortune')\n",
    "\n",
    "    print('returning fortune')\n",
    "    return fortune"
   ]
  },
  {
   "cell_type": "code",
   "execution_count": 112,
   "metadata": {},
   "outputs": [
    {
     "name": "stdout",
     "output_type": "stream",
     "text": [
      "fortune fetched successfully\n",
      "finally returning from get_fortune\n",
      "returning fortune\n",
      "prediction:Be careful today\n"
     ]
    }
   ],
   "source": [
    "fortune_teller(2)"
   ]
  },
  {
   "cell_type": "code",
   "execution_count": 113,
   "metadata": {},
   "outputs": [
    {
     "name": "stdout",
     "output_type": "stream",
     "text": [
      "not a number\n",
      "finally returning from get_fortune\n",
      "returning fortune\n",
      "prediction:You need to learn Maths\n"
     ]
    }
   ],
   "source": [
    "fortune_teller('hi')"
   ]
  },
  {
   "cell_type": "code",
   "execution_count": 114,
   "metadata": {},
   "outputs": [
    {
     "name": "stdout",
     "output_type": "stream",
     "text": [
      "finally returning from get_fortune\n",
      "You have no luck\n"
     ]
    }
   ],
   "source": [
    "fortune_teller(0)"
   ]
  },
  {
   "cell_type": "markdown",
   "metadata": {},
   "source": [
    "#### Usage of finally\n",
    "\n",
    "* generally we use it a clean up code\n",
    "* example\n",
    "    * close a opened file\n",
    "    * disconnect from network\n",
    "\n",
    "\n"
   ]
  },
  {
   "cell_type": "markdown",
   "metadata": {},
   "source": []
  }
 ],
 "metadata": {
  "kernelspec": {
   "display_name": "Python 3",
   "language": "python",
   "name": "python3"
  },
  "language_info": {
   "codemirror_mode": {
    "name": "ipython",
    "version": 3
   },
   "file_extension": ".py",
   "mimetype": "text/x-python",
   "name": "python",
   "nbconvert_exporter": "python",
   "pygments_lexer": "ipython3",
   "version": "3.11.5"
  },
  "orig_nbformat": 4
 },
 "nbformat": 4,
 "nbformat_minor": 2
}
