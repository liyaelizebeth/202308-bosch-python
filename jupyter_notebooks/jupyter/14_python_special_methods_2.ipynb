{
 "cells": [
  {
   "cell_type": "markdown",
   "metadata": {},
   "source": [
    "## Let us convert our date example to a class based design\n",
    "\n",
    "##### based on current feature set"
   ]
  },
  {
   "cell_type": "code",
   "execution_count": 58,
   "metadata": {},
   "outputs": [],
   "source": [
    "class DateUtils:\n",
    "    \n",
    "    def is_leap_year(year):\n",
    "        return year % (4 if year%100!=0 else 400) ==0\n",
    "\n",
    "    def days_in_month(month, year=2001):\n",
    "        if month==2:\n",
    "            return 28 if not DateUtils.is_leap_year(year) else 29\n",
    "        elif month<8 and month%2==1 or month>=8 and month%2==0:\n",
    "            return 31\n",
    "        else:\n",
    "            return 30\n",
    "\n",
    "    def day_value(dd,mm,yyyy):\n",
    "       \n",
    "        y=yyyy-1\n",
    "        days =   y*365  \\\n",
    "            + y//4   \\\n",
    "            - y//100 \\\n",
    "            + y//400\n",
    "        \n",
    "        # to this add days in month till mm-1\n",
    "        m=1\n",
    "        while m< mm:\n",
    "            days+= DateUtils.days_in_month(m,yyyy)\n",
    "            m+=1\n",
    "\n",
    "        # add dd to the running total\n",
    "        return days+dd\n",
    "\n",
    "    def week_day_number(dd,mm,yyyy):\n",
    "        ref_date_value= DateUtils.day_value(1,1,2012)\n",
    "        date_value = DateUtils.day_value(dd,mm,yyyy)\n",
    "\n",
    "        diff = date_value - ref_date_value\n",
    "        return diff%7\n",
    "\n",
    "    def day_name(index):\n",
    "        \n",
    "        day_names=(\"Sunday\",\"Monday\",\"Tuesday\",\"Wednesday\",\"Thursday\",\"Friday\",\"Saturday\")\n",
    "        return day_names[index]\n",
    "\n",
    "\n",
    "    def week_day_name(dd,mm,yyyy):\n",
    "        d=DateUtils.week_day_number(dd,mm,yyyy)\n",
    "        return DateUtils.day_name(d)\n",
    "    \n",
    "    def calendar(mm,yyyy):\n",
    "        print(f'Calendar for {mm}/{yyyy}')\n",
    "        print('Sun\\tMon\\tTue\\tWed\\tThu\\tFri\\tSat')\n",
    "        s= DateUtils.week_day_number(1,mm,yyyy)\n",
    "        print(\"\\t\"*s,end=\"\")    \n",
    "        \n",
    "        for dd in range(1,DateUtils.days_in_month(mm,yyyy)+1):\n",
    "            print(dd,end=\"\\t\")\n",
    "            s+=1\n",
    "            if s%7==0:\n",
    "                print()\n",
    "\n",
    "        print()\n",
    "\n",
    "    def month_name(month):\n",
    "        months= (\"\",\"January\",\"February\",\"March\",\"April\",\"May\",\"June\",\"July\",\"August\",\"September\",\"October\",\"November\",\"December\")\n",
    "        return months[month]\n",
    "        "
   ]
  },
  {
   "cell_type": "markdown",
   "metadata": {},
   "source": [
    "### Let's create a class to represent a single date"
   ]
  },
  {
   "cell_type": "code",
   "execution_count": 59,
   "metadata": {},
   "outputs": [],
   "source": [
    "class Date:\n",
    "    def __init__(self, dd,mm,yyyy):\n",
    "        if mm<1 or yyyy<1 or dd<1 or mm>12 or dd>DateUtils.days_in_month(mm,yyyy):\n",
    "            raise ValueError(f\"Invalid date\")        \n",
    "        self.dd=dd\n",
    "        self.mm=mm\n",
    "        self.yyyy=yyyy\n",
    "\n",
    "    def __str__(self):\n",
    "        day=DateUtils.week_day_name(self.dd,self.mm,self.yyyy)\n",
    "        month=DateUtils.month_name(self.mm)\n",
    "        return f'{day}, {month} {self.dd}, {self.yyyy}'\n",
    "\n",
    "\n",
    "        \n",
    "\n"
   ]
  },
  {
   "cell_type": "code",
   "execution_count": 60,
   "metadata": {},
   "outputs": [
    {
     "name": "stdout",
     "output_type": "stream",
     "text": [
      "Monday, September 4, 2023\n"
     ]
    }
   ],
   "source": [
    "d=Date(4,9,2023)\n",
    "print(d)"
   ]
  },
  {
   "cell_type": "markdown",
   "metadata": {},
   "source": [
    "### More converter Functions\n",
    "\n",
    "* python provides several special functions to convert object from one type to anther.\n",
    "* important functions include\n",
    "    * \\_\\_str\\_\\_\n",
    "        * to convert to string\n",
    "    * \\_\\_int\\_\\_\n",
    "        * to convert to int\n",
    "    * \\_\\_bool\\_\\_\n",
    "        * to convert to bool\n"
   ]
  },
  {
   "cell_type": "code",
   "execution_count": 61,
   "metadata": {},
   "outputs": [],
   "source": [
    "class Date:\n",
    "    def __init__(self, dd,mm,yyyy):\n",
    "        if mm<1 or yyyy<1 or dd<1 or mm>12 or dd>DateUtils.days_in_month(mm,yyyy):\n",
    "            raise ValueError(f\"Invalid date\")        \n",
    "        self.dd=dd\n",
    "        self.mm=mm\n",
    "        self.yyyy=yyyy\n",
    "\n",
    "    def __str__(self):\n",
    "        day=DateUtils.week_day_name(self.dd,self.mm,self.yyyy)\n",
    "        month=DateUtils.month_name(self.mm)\n",
    "        return f'{day}, {month} {self.dd}, {self.yyyy}'\n",
    "\n",
    "    def __int__(self):\n",
    "        return DateUtils.day_value(self.dd,self.mm,self.yyyy)\n",
    "\n",
    "        \n",
    "\n"
   ]
  },
  {
   "cell_type": "code",
   "execution_count": 62,
   "metadata": {},
   "outputs": [
    {
     "name": "stdout",
     "output_type": "stream",
     "text": [
      "711156\n"
     ]
    }
   ],
   "source": [
    "d=Date(30,1,1948)\n",
    "print(int(d))"
   ]
  },
  {
   "cell_type": "markdown",
   "metadata": {},
   "source": [
    "#### can I convert number 711156 to the date 30/01/1948?\n",
    "* we should start counting days from 1/1/0001"
   ]
  },
  {
   "cell_type": "code",
   "execution_count": 68,
   "metadata": {},
   "outputs": [],
   "source": [
    "\n",
    "def days_in_year(y):\n",
    "    return 365 + (1 if DateUtils.is_leap_year(y) else 0)\n",
    "\n",
    "def int_to_date( day_value):\n",
    "    \n",
    "    y=1\n",
    "    while True:\n",
    "        year_value=days_in_year(y)\n",
    "        if day_value>year_value:\n",
    "            y+=1\n",
    "            day_value-= year_value\n",
    "           # print(day_value, y,year_value)\n",
    "        else:\n",
    "            break;\n",
    "\n",
    "\n",
    "    m=1\n",
    "    while True:\n",
    "        month_value=DateUtils.days_in_month(m,y)\n",
    "        \n",
    "        if day_value>month_value:\n",
    "            day_value-=month_value\n",
    "            m+=1\n",
    "        else:\n",
    "            \n",
    "            break\n",
    "\n",
    "    d=day_value\n",
    "    \n",
    "   \n",
    "    return (d,m,y)\n",
    "\n"
   ]
  },
  {
   "cell_type": "code",
   "execution_count": 74,
   "metadata": {},
   "outputs": [],
   "source": [
    "class Date:\n",
    "    def __init__(self, dd, mm=None, yyyy=None):\n",
    "        if mm == None and yyyy==None:\n",
    "            x=int_to_date(dd)\n",
    "            self.dd=x[0]\n",
    "            self.mm=x[1]\n",
    "            self.yyyy=x[2]\n",
    "        elif yyyy>0 and mm>0 and mm<=12 and dd>=1 and dd<= DateUtils.days_in_month(mm,yyyy):\n",
    "            self.dd=dd\n",
    "            self.mm=mm\n",
    "            self.yyyy=yyyy\n",
    "        else:\n",
    "            raise Exception(f\"Invalid Date value {dd}/{mm}/{yyyy}\")\n",
    "\n",
    "\n",
    "    def __str__(self):\n",
    "        day=DateUtils.week_day_name(self.dd,self.mm,self.yyyy)\n",
    "        month=DateUtils.month_name(self.mm)\n",
    "        return f'{day}, {month} {self.dd}, {self.yyyy}'\n",
    "\n",
    "    def __int__(self):\n",
    "        return DateUtils.day_value(self.dd,self.mm,self.yyyy)\n",
    "\n",
    "    "
   ]
  },
  {
   "cell_type": "code",
   "execution_count": 76,
   "metadata": {},
   "outputs": [
    {
     "name": "stdout",
     "output_type": "stream",
     "text": [
      "Friday, January 30, 1948\n",
      "711156\n"
     ]
    }
   ],
   "source": [
    "d=Date(30,1,1948)\n",
    "print(d)\n",
    "v= int(d)\n",
    "print(v)"
   ]
  },
  {
   "cell_type": "code",
   "execution_count": 77,
   "metadata": {},
   "outputs": [
    {
     "name": "stdout",
     "output_type": "stream",
     "text": [
      "Friday, January 30, 1948\n"
     ]
    }
   ],
   "source": [
    "d2=Date(v)\n",
    "print(d2)"
   ]
  },
  {
   "cell_type": "markdown",
   "metadata": {},
   "source": [
    "### Python operator overloading\n",
    "\n",
    "* python allows us to overload existing python operators (like +,-,*,/) to work for user defined objects like (Date)\n",
    "\n",
    "* to overload an operator we have to write a python special method where LHS will be self and RHS can be any value \n",
    "\n",
    "* important operators in this section include\n",
    "    * Arithmetic operators\n",
    "        * \\_\\_add\\_\\_  -> x+y\n",
    "        * \\_\\_sub\\_\\_  -> x-y\n",
    "        * \\_\\_mul\\_\\_  -> x*y\n",
    "        * \\_\\_realdiv\\_\\_  -> x/y\n",
    "        * \\_\\_intdiv\\_\\_\\ --> x//y\n",
    "        * \\_\\_mod\\_\\_  ---> x%y\n",
    "\n",
    "    * relational operators\n",
    "        * \\_\\_eq\\_\\_ --> x==y\n",
    "        * \\_\\_ne\\_\\_ --> x!=y\n",
    "        * \\_\\_le\\_\\_  ---> x<y\n",
    "        * ..."
   ]
  },
  {
   "cell_type": "markdown",
   "metadata": {},
   "source": [
    "### can these operators help us in date class?\n",
    "\n",
    "* we may implement\n",
    "    * date + day ---> next date\n",
    "        * what will be 10 days after \"d\"  --> d+10\n",
    "    * date -day ---> previous date\n",
    "\n",
    "    * date - date  ---> gap between two days"
   ]
  },
  {
   "cell_type": "code",
   "execution_count": 78,
   "metadata": {},
   "outputs": [],
   "source": [
    "class Date:\n",
    "    def __init__(self, dd, mm=None, yyyy=None):\n",
    "        if mm == None and yyyy==None:\n",
    "            x=int_to_date(dd)\n",
    "            self.dd=x[0]\n",
    "            self.mm=x[1]\n",
    "            self.yyyy=x[2]\n",
    "        elif yyyy>0 and mm>0 and mm<=12 and dd>=1 and dd<= DateUtils.days_in_month(mm,yyyy):\n",
    "            self.dd=dd\n",
    "            self.mm=mm\n",
    "            self.yyyy=yyyy\n",
    "        else:\n",
    "            raise Exception(f\"Invalid Date value {dd}/{mm}/{yyyy}\")\n",
    "\n",
    "\n",
    "    def __str__(self):\n",
    "        day=DateUtils.week_day_name(self.dd,self.mm,self.yyyy)\n",
    "        month=DateUtils.month_name(self.mm)\n",
    "        return f'{day}, {month} {self.dd}, {self.yyyy}'\n",
    "\n",
    "    def __int__(self):\n",
    "        return DateUtils.day_value(self.dd,self.mm,self.yyyy)\n",
    "\n",
    "    def __add__(self, days):\n",
    "        x = int(self)+days\n",
    "        return Date(x)\n",
    "\n"
   ]
  },
  {
   "cell_type": "code",
   "execution_count": 80,
   "metadata": {},
   "outputs": [
    {
     "name": "stdout",
     "output_type": "stream",
     "text": [
      "Monday, September 4, 2023\n",
      "Saturday, December 23, 2023\n"
     ]
    }
   ],
   "source": [
    "d=Date(4,9,2023)\n",
    "print(d)\n",
    "\n",
    "d2=d+110\n",
    "print(d2)"
   ]
  },
  {
   "cell_type": "code",
   "execution_count": 81,
   "metadata": {},
   "outputs": [],
   "source": [
    "d1 = Date(30,1,1948)\n",
    "d2 = Date(30,1,1948)\n",
    "d3 = d2"
   ]
  },
  {
   "cell_type": "code",
   "execution_count": 82,
   "metadata": {},
   "outputs": [
    {
     "data": {
      "text/plain": [
       "False"
      ]
     },
     "execution_count": 82,
     "metadata": {},
     "output_type": "execute_result"
    }
   ],
   "source": [
    "d1==d2"
   ]
  },
  {
   "cell_type": "code",
   "execution_count": 83,
   "metadata": {},
   "outputs": [
    {
     "data": {
      "text/plain": [
       "True"
      ]
     },
     "execution_count": 83,
     "metadata": {},
     "output_type": "execute_result"
    }
   ],
   "source": [
    "d2==d3"
   ]
  },
  {
   "cell_type": "markdown",
   "metadata": {},
   "source": [
    "### What happened\n",
    "\n",
    "* Here we can have created only two dates\n",
    "    * first is referred by d1 second is referred by d2\n",
    "\n",
    "* d3 is not a new date. It is reference to same date as d2\n",
    "\n",
    "* == by default checks for same reference (id)\n",
    "\n",
    "* Ideally it should consider even d1 and d2 to be same as they all represent the same date\n",
    "\n",
    "\n",
    "\n",
    "### Assignment 4.1\n",
    "\n",
    "* implement following features\n",
    "1. date1 - int = date2\n",
    "    * what date was n days before date1\n",
    "2. date1- date2  = int \n",
    "    * gap between the two date\n",
    "2. date1==date2 should return true if the two represent same date \n",
    "    * (may be different references)"
   ]
  },
  {
   "cell_type": "code",
   "execution_count": null,
   "metadata": {},
   "outputs": [],
   "source": [
    "### What happened?"
   ]
  }
 ],
 "metadata": {
  "kernelspec": {
   "display_name": "Python 3",
   "language": "python",
   "name": "python3"
  },
  "language_info": {
   "codemirror_mode": {
    "name": "ipython",
    "version": 3
   },
   "file_extension": ".py",
   "mimetype": "text/x-python",
   "name": "python",
   "nbconvert_exporter": "python",
   "pygments_lexer": "ipython3",
   "version": "3.11.5"
  },
  "orig_nbformat": 4
 },
 "nbformat": 4,
 "nbformat_minor": 2
}
