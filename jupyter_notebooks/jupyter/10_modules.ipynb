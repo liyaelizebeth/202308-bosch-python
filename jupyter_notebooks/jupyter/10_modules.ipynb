{
 "cells": [
  {
   "cell_type": "markdown",
   "metadata": {},
   "source": [
    "# Modules\n",
    "\n",
    "* A python script (.py file) can be considered as \n",
    "    * A program\n",
    "        * if it is called directly by **python** command\n",
    "    * A Module\n",
    "        * if it is not expected to be directly called by python command\n",
    "        * it contains re-usuable functionality that can be included in\n",
    "            * a python program \n",
    "            * another module\n",
    "\n",
    "\n",
    "### Purpose of a Module\n",
    "\n",
    "* A module is generally a group of **reusable** functionality\n",
    "* we keep then group in a \n",
    "    * single python file\n",
    "    * a folder to create larger module\n",
    "        * Example\n",
    "            * A **stats** modules have many functionalities like\n",
    "                * charts\n",
    "                    * histogram\n",
    "                    * line\n",
    "                    * pichart\n",
    "                * algorithms\n",
    "                    * frequency\n",
    "                    * mean \n",
    "\n",
    "        * we may not like to create all those functionalities in a single pyhton file\n",
    "\n",
    "* we may store them like\n",
    "\n",
    "* [stats]\n",
    "    * [alogrithms]\n",
    "        * frequency.py\n",
    "        * mean.py\n",
    "    * [charts]\n",
    "        * histogram.py\n",
    "        * line.py\n",
    "* A module can be creted by\n",
    "    * creating a python file.\n",
    "    * creating python file with designated folders\n",
    "    * A module **CAN NOT BE CREATED** in REPL or shell like Juypter\n",
    "    \n",
    "* A module can be **imported** by any other python scripts lie\n",
    "    * A python program\n",
    "    * Another python module\n",
    "    * REPL like\n",
    "        * command line\n",
    "        * jupyter"
   ]
  },
  {
   "cell_type": "markdown",
   "metadata": {},
   "source": [
    "#### Python Standard Modules\n",
    "\n",
    "* python comes with several standard modules as part of it's installation\n",
    "* their path is known to python and doesn't need any entry in PYTHONPATH\n",
    "* some of the common modules are\n",
    "    \n",
    "##### common mdoules\n",
    "\n",
    "1. **sys**   \n",
    "    * Represents python system information including\n",
    "        * python version\n",
    "        * paths\n",
    "        * standard io\n",
    "\n",
    "2. **logger** \n",
    "    * contains library for logging\n",
    "\n",
    "3. **csv** \n",
    "\n",
    "    * helps us handle csv files\n",
    "\n",
    "4. **threads** \n",
    "    * helps us create multi-threaded application\n",
    "\n",
    "\n",
    "#### MOST IMPORTANT MODULE **\\_\\_builtins\\_\\_**\n",
    "\n",
    "* \\_\\_builtins\\_\\_   include most important python elements like\n",
    "    * basic data types int, float, str, True, False, None\n",
    "    * other classes like :  list, tuple, dict\n",
    "    * important functions like print, input, len, id, type\n",
    "\n",
    "* It is so important that there is an implicit statement present in every pthon script\n",
    "\n",
    "\n",
    "```python\n",
    "from __builtins__ import *\n",
    "```\n",
    "\n",
    "\n",
    "* we can check the content of this library\n"
   ]
  },
  {
   "cell_type": "code",
   "execution_count": 1,
   "metadata": {},
   "outputs": [],
   "source": [
    "#dir(__builtins__)"
   ]
  },
  {
   "cell_type": "markdown",
   "metadata": {},
   "source": [
    "### we can restore our **print** using __builtins__ if we remove it"
   ]
  },
  {
   "cell_type": "code",
   "execution_count": 2,
   "metadata": {},
   "outputs": [
    {
     "ename": "TypeError",
     "evalue": "'str' object is not callable",
     "output_type": "error",
     "traceback": [
      "\u001b[1;31m---------------------------------------------------------------------------\u001b[0m",
      "\u001b[1;31mTypeError\u001b[0m                                 Traceback (most recent call last)",
      "Cell \u001b[1;32mIn[2], line 2\u001b[0m\n\u001b[0;32m      1\u001b[0m \u001b[39mprint\u001b[39m\u001b[39m=\u001b[39m\u001b[39m'\u001b[39m\u001b[39mdeleted\u001b[39m\u001b[39m'\u001b[39m\n\u001b[1;32m----> 2\u001b[0m \u001b[39mprint\u001b[39;49m(\u001b[39m'\u001b[39;49m\u001b[39mhello world\u001b[39;49m\u001b[39m'\u001b[39;49m)\n",
      "\u001b[1;31mTypeError\u001b[0m: 'str' object is not callable"
     ]
    }
   ],
   "source": [
    "print='deleted'\n",
    "print('hello world')"
   ]
  },
  {
   "cell_type": "code",
   "execution_count": 3,
   "metadata": {},
   "outputs": [],
   "source": [
    "print=__builtins__.print"
   ]
  },
  {
   "cell_type": "code",
   "execution_count": 4,
   "metadata": {},
   "outputs": [
    {
     "name": "stdout",
     "output_type": "stream",
     "text": [
      "hello world\n"
     ]
    }
   ],
   "source": [
    "print('hello world')"
   ]
  },
  {
   "cell_type": "markdown",
   "metadata": {},
   "source": [
    "### 2. sys\n",
    "\n",
    "* probably the second most important module\n",
    "* it is not imported implictly\n",
    "* we need to import it explictly\n",
    "* a module may be imported even in shell like jupyter"
   ]
  },
  {
   "cell_type": "code",
   "execution_count": 5,
   "metadata": {},
   "outputs": [
    {
     "ename": "NameError",
     "evalue": "name 'sys' is not defined",
     "output_type": "error",
     "traceback": [
      "\u001b[1;31m---------------------------------------------------------------------------\u001b[0m",
      "\u001b[1;31mNameError\u001b[0m                                 Traceback (most recent call last)",
      "Cell \u001b[1;32mIn[5], line 1\u001b[0m\n\u001b[1;32m----> 1\u001b[0m \u001b[39mdir\u001b[39m(sys)\n",
      "\u001b[1;31mNameError\u001b[0m: name 'sys' is not defined"
     ]
    }
   ],
   "source": [
    "dir(sys)"
   ]
  },
  {
   "cell_type": "code",
   "execution_count": 6,
   "metadata": {},
   "outputs": [],
   "source": [
    "import sys\n",
    "#dir(sys)"
   ]
  },
  {
   "cell_type": "markdown",
   "metadata": {},
   "source": [
    "#### sys.version_info\n",
    "\n",
    "* tells python the version of current python runtime\n",
    "* we may use it to perform version specific logic\n",
    "    * it was extensively used when both python2 and python3 were working"
   ]
  },
  {
   "cell_type": "code",
   "execution_count": 7,
   "metadata": {},
   "outputs": [
    {
     "name": "stdout",
     "output_type": "stream",
     "text": [
      "sys.version_info(major=3, minor=11, micro=5, releaselevel='final', serial=0)\n",
      "3\n",
      "11\n"
     ]
    }
   ],
   "source": [
    "print(sys.version_info)\n",
    "print(sys.version_info.major)\n",
    "print(sys.version_info.minor)\n"
   ]
  },
  {
   "cell_type": "markdown",
   "metadata": {},
   "source": [
    "#### python.argv\n",
    "\n",
    "* returns a list of argument supplied to commandline of an application\n",
    "* useful for script version only\n",
    "* see the example for **primes.py** app\n",
    "\n",
    "* It can access the parameter when called as command line\n",
    "\n",
    "<pre>\n",
    "c:\\projects> python app.py 1 2  3 4\n",
    "</pre>\n",
    "\n",
    "* Now **sys.arv** will incluce ['app.py', '1', '2', '3', '4']\n",
    "* note all aruments are number till you convert it."
   ]
  },
  {
   "cell_type": "markdown",
   "metadata": {},
   "source": [
    "### sys.path\n",
    "\n",
    "* sys.path is the list of path where python searches for our modules\n",
    "* any path that we specify on the cmmandline ends up in this list\n",
    "* we can add more items to this list"
   ]
  },
  {
   "cell_type": "code",
   "execution_count": 8,
   "metadata": {},
   "outputs": [
    {
     "name": "stdout",
     "output_type": "stream",
     "text": [
      "d:\\MyWorks\\Corporate\\202308-bosch-c-python\\jupyter_notebooks\\jupyter\n",
      "d:\\Python311\\python311.zip\n",
      "d:\\Python311\\DLLs\n",
      "d:\\Python311\\Lib\n",
      "d:\\Python311\n",
      "\n",
      "D:\\AppData\\Roaming\\Python\\Python311\\site-packages\n",
      "D:\\AppData\\Roaming\\Python\\Python311\\site-packages\\win32\n",
      "D:\\AppData\\Roaming\\Python\\Python311\\site-packages\\win32\\lib\n",
      "D:\\AppData\\Roaming\\Python\\Python311\\site-packages\\Pythonwin\n",
      "d:\\Python311\\Lib\\site-packages\n"
     ]
    }
   ],
   "source": [
    "for path in sys.path:\n",
    "    print(path)"
   ]
  },
  {
   "cell_type": "code",
   "execution_count": 9,
   "metadata": {},
   "outputs": [
    {
     "ename": "ModuleNotFoundError",
     "evalue": "No module named 'utils'",
     "output_type": "error",
     "traceback": [
      "\u001b[1;31m---------------------------------------------------------------------------\u001b[0m",
      "\u001b[1;31mModuleNotFoundError\u001b[0m                       Traceback (most recent call last)",
      "Cell \u001b[1;32mIn[9], line 1\u001b[0m\n\u001b[1;32m----> 1\u001b[0m \u001b[39mimport\u001b[39;00m \u001b[39mutils\u001b[39;00m\u001b[39m.\u001b[39;00m\u001b[39mprimes\u001b[39;00m \u001b[39mas\u001b[39;00m \u001b[39mp\u001b[39;00m\n",
      "\u001b[1;31mModuleNotFoundError\u001b[0m: No module named 'utils'"
     ]
    }
   ],
   "source": [
    "import utils.primes as p"
   ]
  },
  {
   "cell_type": "markdown",
   "metadata": {},
   "source": []
  },
  {
   "cell_type": "markdown",
   "metadata": {},
   "source": [
    "### we can't import utils.primes as it's path is not known\n",
    "\n",
    "* we haven't set anything in **PYTHONPATH** yet\n",
    "* we can set it directly in sys.path\n",
    "* even pythonpath is merged in sys.path"
   ]
  },
  {
   "cell_type": "code",
   "execution_count": 10,
   "metadata": {},
   "outputs": [
    {
     "data": {
      "text/plain": [
       "list"
      ]
     },
     "execution_count": 10,
     "metadata": {},
     "output_type": "execute_result"
    }
   ],
   "source": [
    "type(sys.path)"
   ]
  },
  {
   "cell_type": "code",
   "execution_count": 11,
   "metadata": {},
   "outputs": [],
   "source": [
    "sys.path.append('../../modules_home/')"
   ]
  },
  {
   "cell_type": "code",
   "execution_count": 12,
   "metadata": {},
   "outputs": [
    {
     "name": "stdout",
     "output_type": "stream",
     "text": [
      "primes.py loaded as module utils.primes\n"
     ]
    }
   ],
   "source": [
    "import utils.primes as p"
   ]
  },
  {
   "cell_type": "code",
   "execution_count": 15,
   "metadata": {},
   "outputs": [
    {
     "name": "stdout",
     "output_type": "stream",
     "text": [
      "find_primes\tis_prime\t"
     ]
    }
   ],
   "source": [
    "for element in dir(p):\n",
    "    if not element.startswith('__'):\n",
    "        print(element,end='\\t')\n",
    "        "
   ]
  },
  {
   "cell_type": "code",
   "execution_count": 16,
   "metadata": {},
   "outputs": [
    {
     "data": {
      "text/plain": [
       "[53, 59, 61, 67, 71, 73, 79, 83, 89, 97]"
      ]
     },
     "execution_count": 16,
     "metadata": {},
     "output_type": "execute_result"
    }
   ],
   "source": [
    "p.find_primes(50,100)"
   ]
  },
  {
   "cell_type": "markdown",
   "metadata": {},
   "source": []
  }
 ],
 "metadata": {
  "kernelspec": {
   "display_name": "Python 3",
   "language": "python",
   "name": "python3"
  },
  "language_info": {
   "codemirror_mode": {
    "name": "ipython",
    "version": 3
   },
   "file_extension": ".py",
   "mimetype": "text/x-python",
   "name": "python",
   "nbconvert_exporter": "python",
   "pygments_lexer": "ipython3",
   "version": "3.11.5"
  },
  "orig_nbformat": 4
 },
 "nbformat": 4,
 "nbformat_minor": 2
}
