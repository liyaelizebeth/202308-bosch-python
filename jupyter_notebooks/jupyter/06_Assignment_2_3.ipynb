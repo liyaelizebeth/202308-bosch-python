{
 "cells": [
  {
   "cell_type": "markdown",
   "metadata": {},
   "source": [
    "### Create a function **freq** to calcuate frequency distribution of a given sequence of values in\n",
    "\n",
    "```python\n",
    "result = freq(1,2,2,2,1,3,1,4,1,1,1,2,9)\n",
    "print(result) # {1:6, 2:4, 3:1, 9:1}\n",
    "```\n",
    "\n",
    "\n",
    "#### create a function called histogram to plot a histogram from a frequency\n",
    "\n",
    "```python\n",
    "histogram({1:4, 2:3, 9:1, 8:4})\n",
    "\n",
    "```\n",
    "#### expected output\n",
    "<pre>\n",
    "  1 |============ 4\n",
    "  2 |========= 3\n",
    "  9 |=== 1\n",
    "  8 |============ 4\n",
    "\n",
    "</pre>\n",
    "\n",
    "### Addional Features\n",
    "\n",
    "* The histogram funciton should take additional configuration to decide\n",
    "    * design  (defaults ===)\n",
    "    * show label at the end of bar (default=true)\n",
    "    * align labels (default =false)\n",
    "        * if set to true all labels should come in same column\n",
    "\n",
    "\n",
    "<pre>\n",
    "  1 |============ 4\n",
    "  2 |=========    3\n",
    "  9 |===          1\n",
    "  8 |============ 4\n",
    "\n",
    "</pre>\n",
    "\n",
    "#### Hint:\n",
    "\n",
    "* string has functions:  center,ljust, rjust\n",
    "* take help from help (not google)"
   ]
  },
  {
   "cell_type": "code",
   "execution_count": null,
   "metadata": {},
   "outputs": [],
   "source": []
  },
  {
   "cell_type": "code",
   "execution_count": null,
   "metadata": {},
   "outputs": [],
   "source": []
  }
 ],
 "metadata": {
  "kernelspec": {
   "display_name": "Python 3",
   "language": "python",
   "name": "python3"
  },
  "language_info": {
   "codemirror_mode": {
    "name": "ipython",
    "version": 3
   },
   "file_extension": ".py",
   "mimetype": "text/x-python",
   "name": "python",
   "nbconvert_exporter": "python",
   "pygments_lexer": "ipython3",
   "version": "3.11.5"
  },
  "orig_nbformat": 4
 },
 "nbformat": 4,
 "nbformat_minor": 2
}
