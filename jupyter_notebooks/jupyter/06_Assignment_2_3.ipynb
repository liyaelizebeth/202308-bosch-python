{
 "cells": [
  {
   "cell_type": "markdown",
   "metadata": {},
   "source": [
    "### Create a function **freq** to calcuate frequency distribution of a given sequence of values in\n",
    "\n",
    "```python\n",
    "result = freq(1,2,2,2,1,3,1,4,1,1,1,2,9)\n",
    "print(result) # {1:6, 2:4, 3:1, 9:1}\n",
    "```\n",
    "\n",
    "\n",
    "#### create a function called histogram to plot a histogram from a frequency\n",
    "\n",
    "```python\n",
    "histogram({1:4, 2:3, 9:1, 8:4})\n",
    "\n",
    "```\n",
    "#### expected output\n",
    "<pre>\n",
    "  1 |============ 4\n",
    "  2 |========= 3\n",
    "  9 |=== 1\n",
    "  8 |============ 4\n",
    "\n",
    "</pre>\n",
    "\n",
    "\n"
   ]
  }
 ],
 "metadata": {
  "kernelspec": {
   "display_name": "Python 3",
   "language": "python",
   "name": "python3"
  },
  "language_info": {
   "name": "python",
   "version": "3.11.5"
  },
  "orig_nbformat": 4
 },
 "nbformat": 4,
 "nbformat_minor": 2
}
