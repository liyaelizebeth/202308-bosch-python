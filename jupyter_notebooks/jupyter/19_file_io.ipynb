{
 "cells": [
  {
   "cell_type": "markdown",
   "metadata": {},
   "source": [
    "### file i/o\n",
    "\n",
    "* it is built-in python feature available in **\\_\\_builtins\\_\\_** module\n",
    "* we can open file usin **open** command"
   ]
  },
  {
   "cell_type": "markdown",
   "metadata": {},
   "source": [
    "##### open the file for reading (default)"
   ]
  },
  {
   "cell_type": "code",
   "execution_count": 6,
   "metadata": {},
   "outputs": [
    {
     "name": "stdout",
     "output_type": "stream",
     "text": [
      "<_io.TextIOWrapper name='sample.text' mode='r' encoding='cp1252'>\n"
     ]
    }
   ],
   "source": [
    "f = open('sample.text')\n",
    "print(f)"
   ]
  },
  {
   "cell_type": "code",
   "execution_count": 7,
   "metadata": {},
   "outputs": [
    {
     "name": "stdout",
     "output_type": "stream",
     "text": [
      "This is some simple text document\n",
      "It contains few text lines \n",
      "It is designed as a test file\n",
      "for reading using python\n",
      "\n"
     ]
    }
   ],
   "source": [
    "data=f.read()\n",
    "print(data)"
   ]
  },
  {
   "cell_type": "markdown",
   "metadata": {},
   "source": [
    "### it is a sequential read. \n",
    "* once you reach the end. there is no going back"
   ]
  },
  {
   "cell_type": "code",
   "execution_count": 8,
   "metadata": {},
   "outputs": [
    {
     "name": "stdout",
     "output_type": "stream",
     "text": [
      "\n"
     ]
    }
   ],
   "source": [
    "data=f.read()\n",
    "print(data)"
   ]
  },
  {
   "cell_type": "markdown",
   "metadata": {},
   "source": [
    "### we must close the file once read is over\n",
    "\n",
    "* unless the file is closed it may not be available to others for use"
   ]
  },
  {
   "cell_type": "code",
   "execution_count": 9,
   "metadata": {},
   "outputs": [],
   "source": [
    "f.close()"
   ]
  },
  {
   "cell_type": "markdown",
   "metadata": {},
   "source": [
    "#### files by defaul support only read not write"
   ]
  },
  {
   "cell_type": "code",
   "execution_count": 10,
   "metadata": {},
   "outputs": [
    {
     "ename": "UnsupportedOperation",
     "evalue": "not writable",
     "output_type": "error",
     "traceback": [
      "\u001b[1;31m---------------------------------------------------------------------------\u001b[0m",
      "\u001b[1;31mUnsupportedOperation\u001b[0m                      Traceback (most recent call last)",
      "Cell \u001b[1;32mIn[10], line 2\u001b[0m\n\u001b[0;32m      1\u001b[0m f\u001b[39m=\u001b[39m\u001b[39mopen\u001b[39m(\u001b[39m'\u001b[39m\u001b[39msample.text\u001b[39m\u001b[39m'\u001b[39m)\n\u001b[1;32m----> 2\u001b[0m f\u001b[39m.\u001b[39;49mwrite(\u001b[39m'\u001b[39;49m\u001b[39msome new information\u001b[39;49m\u001b[39m'\u001b[39;49m)\n",
      "\u001b[1;31mUnsupportedOperation\u001b[0m: not writable"
     ]
    }
   ],
   "source": [
    "f=open('sample.text')\n",
    "f.write('some new information')"
   ]
  },
  {
   "cell_type": "markdown",
   "metadata": {},
   "source": [
    "#### Handling the errors\n",
    "\n",
    "* if a file action raises an exception and our application crashes file close operation is skipped.\n",
    "* It is essential that we close the file each time after it's use is over\n",
    "* we should your try-finally"
   ]
  },
  {
   "cell_type": "code",
   "execution_count": 11,
   "metadata": {},
   "outputs": [],
   "source": [
    "def read_file(file):\n",
    "    try:\n",
    "        f=open(file)\n",
    "        return f.read()\n",
    "    finally:\n",
    "        f.close()"
   ]
  },
  {
   "cell_type": "code",
   "execution_count": 14,
   "metadata": {},
   "outputs": [
    {
     "name": "stdout",
     "output_type": "stream",
     "text": [
      "This is some simple text document\n",
      "It contains few text lines \n",
      "It is designed as a test file\n",
      "for reading using python\n",
      "\n"
     ]
    }
   ],
   "source": [
    "data= read_file('sample.text')\n",
    "print(data)"
   ]
  },
  {
   "cell_type": "markdown",
   "metadata": {},
   "source": [
    "### with keyword\n",
    "\n",
    "* with introduces a pattern to ensure that resource is released once th use is over\n",
    "* it can be used with those resource that support with syntax\n",
    "* in case of  file, at the of **with** block file will be automatically closed\n",
    "* it is like try-finally\n"
   ]
  },
  {
   "cell_type": "code",
   "execution_count": 22,
   "metadata": {},
   "outputs": [],
   "source": [
    "def read_file_chunks(filename,chunk_size=1024):\n",
    "    str=''\n",
    "    \n",
    "    with open(filename) as f:\n",
    "        while True:\n",
    "            chunk=f.read(chunk_size)\n",
    "            str+=chunk\n",
    "            print('.',end=' ')\n",
    "            if len(chunk)<chunk_size:\n",
    "                break\n",
    "    return str\n",
    "        \n",
    "    # f is automatically closed once we come out of with"
   ]
  },
  {
   "cell_type": "code",
   "execution_count": 23,
   "metadata": {},
   "outputs": [
    {
     "name": "stdout",
     "output_type": "stream",
     "text": [
      ". . . . . . "
     ]
    }
   ],
   "source": [
    "data=read_file_chunks(\"sample.text\",20)"
   ]
  },
  {
   "cell_type": "code",
   "execution_count": 24,
   "metadata": {},
   "outputs": [
    {
     "name": "stdout",
     "output_type": "stream",
     "text": [
      "This is some simple text document\n",
      "It contains few text lines \n",
      "It is designed as a test file\n",
      "for reading using python\n",
      "\n"
     ]
    }
   ],
   "source": [
    "print(data)"
   ]
  },
  {
   "cell_type": "markdown",
   "metadata": {},
   "source": [
    "### Opening file for writing \n",
    "\n",
    "* we can open file in various modes.\n",
    "* Let us write a logic to duplicate a file\n",
    "* Mode\n",
    "    * actions\n",
    "        * r ---> read \n",
    "        * w ---> write new\n",
    "        * a ----> write existing\n",
    "        * + ---> read-write (applied on above 3)\n",
    "    * format\n",
    "        * t ---> text (useful for text files)  \n",
    "            * example\n",
    "                * plain text\n",
    "                * csv\n",
    "                * xml\n",
    "                * json\n",
    "                * html\n",
    "        * b ---> for binary files that includes non-printable info\n",
    "            * example\n",
    "                * images\n",
    "                * video\n",
    "                * zip\n",
    "            * can also work with text document if we are not printing it\n",
    "            * a generic format that works everywhere\n",
    "\n"
   ]
  },
  {
   "cell_type": "code",
   "execution_count": 26,
   "metadata": {},
   "outputs": [],
   "source": [
    "def copy_file(source,target, mode=\"b\", chunk_size=1024):\n",
    "    with open(source,\"r\"+mode) as src:\n",
    "        with open(target,\"w\"+mode) as trgt:\n",
    "            while True:\n",
    "                data = src.read(chunk_size)\n",
    "                print('.',end=' ')\n",
    "                if(len(data)==0):\n",
    "                    break\n",
    "                trgt.write(data)\n",
    "                if(len(data)<chunk_size):\n",
    "                    break"
   ]
  },
  {
   "cell_type": "code",
   "execution_count": 27,
   "metadata": {},
   "outputs": [
    {
     "name": "stdout",
     "output_type": "stream",
     "text": [
      ". . . . . . . "
     ]
    }
   ],
   "source": [
    "copy_file('sample.text','new-sample.text',chunk_size=20)"
   ]
  },
  {
   "cell_type": "code",
   "execution_count": 37,
   "metadata": {},
   "outputs": [],
   "source": [
    "import os\n",
    "\n"
   ]
  },
  {
   "cell_type": "code",
   "execution_count": 38,
   "metadata": {},
   "outputs": [
    {
     "data": {
      "text/plain": [
       "['01-python-basics.ipynb',\n",
       " '02_python_statements.ipynb',\n",
       " '03_loop_assignments.ipynb',\n",
       " '04_python_functions.ipynb',\n",
       " '05_python_sequences.ipynb',\n",
       " '06_Assignment_2_3.ipynb',\n",
       " '07_functions_part2.ipynb',\n",
       " '08_object_mutability.ipynb',\n",
       " '09_functions_part3.ipynb',\n",
       " '10_modules.ipynb',\n",
       " '11_function_programming_problems.ipynb',\n",
       " '12_objects_and_classes.ipynb',\n",
       " '13_pyhon_special_class_methods.ipynb',\n",
       " '14_python_special_methods_2.ipynb',\n",
       " '15_scopes.ipynb',\n",
       " '16_inheritance.ipynb',\n",
       " '17_exception_handling.ipynb',\n",
       " '18_Sequence_Internals.ipynb',\n",
       " '19_file_io.ipynb',\n",
       " 'new-sample.text',\n",
       " 'sample.text']"
      ]
     },
     "execution_count": 38,
     "metadata": {},
     "output_type": "execute_result"
    }
   ],
   "source": [
    "os.listdir()"
   ]
  },
  {
   "cell_type": "code",
   "execution_count": 39,
   "metadata": {},
   "outputs": [],
   "source": [
    "os.rename('new-sample.text', 'sample2.txt')"
   ]
  },
  {
   "cell_type": "code",
   "execution_count": 40,
   "metadata": {},
   "outputs": [],
   "source": [
    "os.remove('sample2.txt')"
   ]
  },
  {
   "cell_type": "markdown",
   "metadata": {},
   "source": []
  }
 ],
 "metadata": {
  "kernelspec": {
   "display_name": "Python 3",
   "language": "python",
   "name": "python3"
  },
  "language_info": {
   "codemirror_mode": {
    "name": "ipython",
    "version": 3
   },
   "file_extension": ".py",
   "mimetype": "text/x-python",
   "name": "python",
   "nbconvert_exporter": "python",
   "pygments_lexer": "ipython3",
   "version": "3.11.5"
  },
  "orig_nbformat": 4
 },
 "nbformat": 4,
 "nbformat_minor": 2
}
