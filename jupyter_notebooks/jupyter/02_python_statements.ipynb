{
 "cells": [
  {
   "cell_type": "markdown",
   "metadata": {},
   "source": [
    "# 2. Python Basic Statements\n",
    "\n",
    "### 2.1 Python program structure and whitespaces\n",
    "\n",
    "* In Python program follows a structure governed by white spaces\n",
    "    * In C style programming \n",
    "        * white spaces are only for readability and not part of syntax\n",
    "        * you may break a statement anywere you like and use as many new lines or tab like you\n",
    "        * we may defined multiple statement as a block using {}\n",
    "    * In python tabs or white spaces have a special meaning\n",
    "        * All statement at the same indent level are considered part of a block\n",
    "        * You can't create a block without any specific purpose\n",
    "        * An indent can be defined using \n",
    "            * equal number of blank spaces\n",
    "            * tab <--- **PREFERRED**\n",
    "\n",
    "\n",
    "##### A typical C code (may be ugly but no error)\n",
    "```c\n",
    "\n",
    "int main(){ int x=20; int y=\n",
    "30; print(\n",
    "        \"x=%d\\ty=%d\",\n",
    "x,y\n",
    ")\n",
    ";\n",
    "}\n",
    "\n",
    "```\n",
    "\n",
    "#### A python code with error\n",
    "\n",
    "```python\n",
    "print('hello')\n",
    "    print('world') # un-necessary indent\n",
    "\n",
    "```\n"
   ]
  },
  {
   "cell_type": "code",
   "execution_count": 1,
   "metadata": {},
   "outputs": [
    {
     "ename": "IndentationError",
     "evalue": "unexpected indent (1809898415.py, line 2)",
     "output_type": "error",
     "traceback": [
      "\u001b[1;36m  Cell \u001b[1;32mIn[1], line 2\u001b[1;36m\u001b[0m\n\u001b[1;33m    print('world') # un-necessary indent\u001b[0m\n\u001b[1;37m    ^\u001b[0m\n\u001b[1;31mIndentationError\u001b[0m\u001b[1;31m:\u001b[0m unexpected indent\n"
     ]
    }
   ],
   "source": [
    "print('hello')\n",
    "    print('world') # un-necessary indent\n"
   ]
  },
  {
   "cell_type": "code",
   "execution_count": 3,
   "metadata": {},
   "outputs": [],
   "source": [
    "\n",
    "###"
   ]
  },
  {
   "cell_type": "markdown",
   "metadata": {},
   "source": [
    "### Basic python statements\n",
    "\n",
    "* python supports standard conditional statements like\n",
    "    * if-else\n",
    "    * while loop\n",
    "    * for loop \n",
    "        * different from traditional c style for-loop\n",
    "\n",
    "\n",
    "* python doesn't have C style\n",
    "    * do-while loop\n",
    "    * switch-case statements\n",
    "\n",
    "\n",
    "### if statement\n",
    "\n",
    "* statement has a syntax like\n",
    "\n",
    "```python\n",
    "if condition :\n",
    "    statement1\n",
    "    statement2\n",
    "    statement3\n",
    "\n",
    "statement4\n",
    "\n",
    "```\n",
    "\n",
    "##### Note\n",
    "1. there is a colon after the condition.\n",
    "    * It will be a common feature for all kinds of statements in python that needs a block of code\n",
    "\n",
    "2. statement1 - statement3 forms a block inside (indent) if.\n",
    "    * all these three statements must be at same indent that should be greater than that of if statement itself\n",
    "\n",
    "3. statement 4 is at same level as if. It is not inside if\n",
    "    * It will be executed no matter what."
   ]
  },
  {
   "cell_type": "code",
   "execution_count": 9,
   "metadata": {},
   "outputs": [
    {
     "name": "stdout",
     "output_type": "stream",
     "text": [
      "You entered: 44\n",
      "44 is an even number\n",
      "even numbers must be divisible by 2\n",
      "end of program\n"
     ]
    }
   ],
   "source": [
    "x =int(input('enter a number?')) # by default input is always string\n",
    "\n",
    "print(f'You entered: {x}')\n",
    "if x % 2 ==0 :\n",
    "    print(f'{x} is an even number')\n",
    "    print('even numbers must be divisible by 2')\n",
    "\n",
    "print('end of program')\n"
   ]
  },
  {
   "cell_type": "code",
   "execution_count": 13,
   "metadata": {},
   "outputs": [
    {
     "ename": "IndentationError",
     "evalue": "unindent does not match any outer indentation level (<tokenize>, line 6)",
     "output_type": "error",
     "traceback": [
      "\u001b[1;36m  File \u001b[1;32m<tokenize>:6\u001b[1;36m\u001b[0m\n\u001b[1;33m    print('even numbers must be divisible by 2')\u001b[0m\n\u001b[1;37m    ^\u001b[0m\n\u001b[1;31mIndentationError\u001b[0m\u001b[1;31m:\u001b[0m unindent does not match any outer indentation level\n"
     ]
    }
   ],
   "source": [
    "x =int(input('enter a number?')) # by default input is always string\n",
    "\n",
    "print(f'You entered: {x}')\n",
    "if x % 2 ==0 :\n",
    "        print(f'{x} is an even number')\n",
    "    print('even numbers must be divisible by 2')\n",
    "\n",
    "print('end of program')"
   ]
  },
  {
   "cell_type": "markdown",
   "metadata": {},
   "source": [
    "#### elif and else statement\n",
    "\n",
    "* elif :  **el**se- **if**\n",
    "* **else** \n",
    "\n",
    "* we can have multiple elif and an optional else in a code\n",
    "\n",
    "```python\n",
    "if condition1:\n",
    "    statement1\n",
    "    statement2\n",
    "    statement3\n",
    "elif condition2:\n",
    "    statement4\n",
    "    statement5\n",
    "elif condition3:\n",
    "    statement6\n",
    "else:\n",
    "    statement7\n",
    "    statement8\n",
    "\n",
    "out_of_if_statement\n",
    "\n",
    "```\n",
    "\n",
    "#### Nested Statements\n",
    "\n",
    "* we can have nexted statements\n",
    "* the nested statements will have further indenting\n",
    "\n",
    "\n",
    "```python\n",
    "if condition1:\n",
    "    if condition2:\n",
    "        print('both conditions are true')\n",
    "    else:\n",
    "        print('condition1 is true but condition2 is false')\n",
    "elif condition2:\n",
    "    print('condition2 is true but condition1 is false)\n",
    "else:\n",
    "    print('both conditionsa are false')\n",
    "\n",
    "```"
   ]
  },
  {
   "cell_type": "markdown",
   "metadata": {},
   "source": [
    "#### Assignment 1.1\n",
    "\n",
    "* write a python code to take a year as input and print if it is a leap year\n",
    "* A leap year is a year which divisible by 4 (for oridinary years)\n",
    "* Exception \n",
    "    * If the year is a century figure like 1900,2000,2100 it should be dividible by 400 to be a leap year.\n"
   ]
  },
  {
   "cell_type": "markdown",
   "metadata": {},
   "source": []
  }
 ],
 "metadata": {
  "kernelspec": {
   "display_name": "Python 3",
   "language": "python",
   "name": "python3"
  },
  "language_info": {
   "codemirror_mode": {
    "name": "ipython",
    "version": 3
   },
   "file_extension": ".py",
   "mimetype": "text/x-python",
   "name": "python",
   "nbconvert_exporter": "python",
   "pygments_lexer": "ipython3",
   "version": "3.11.5"
  },
  "orig_nbformat": 4
 },
 "nbformat": 4,
 "nbformat_minor": 2
}
