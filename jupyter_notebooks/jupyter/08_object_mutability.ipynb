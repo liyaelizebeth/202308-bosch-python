{
 "cells": [
  {
   "cell_type": "markdown",
   "metadata": {},
   "source": [
    "## Python Objects\n",
    "\n",
    "* Everything in **python** is considered as an object\n",
    "* everything includes\n",
    "    * basic data types like: int, float, bool, True, False,  (even None)\n",
    "    * sequences like: list, tuple, dict, set\n",
    "    * functions: print, user_defined_function\n",
    "* names that we create are generally references to those object\n",
    "    * names are not object\n",
    "\n",
    "* Every object has a unique id\n",
    "* A different id will mean a different object"
   ]
  },
  {
   "cell_type": "code",
   "execution_count": 1,
   "metadata": {},
   "outputs": [],
   "source": [
    "l1=[1,2,3,4]\n",
    "t1=(1,2,3,4)\n",
    "s1=\"hello world\""
   ]
  },
  {
   "cell_type": "code",
   "execution_count": 3,
   "metadata": {},
   "outputs": [
    {
     "name": "stdout",
     "output_type": "stream",
     "text": [
      "2726100956032\n",
      "2726100882256\n",
      "2726100848048\n",
      "140722691761128\n",
      "140722691761192\n",
      "140722691761128\n"
     ]
    }
   ],
   "source": [
    "print(id(l1))\n",
    "print(id(t1))\n",
    "print(id(s1))\n",
    "print(id(7))\n",
    "print(id(9))\n",
    "print(id(7))"
   ]
  },
  {
   "cell_type": "markdown",
   "metadata": {},
   "source": [
    "\n",
    "\n",
    "\n",
    "### What is mutability?\n",
    "\n",
    "* An object that can be modified or change is referred as a mutable object\n",
    "    * examples\n",
    "        * list\n",
    "        * dict\n",
    "    * you can modify the state or value of the current object\n",
    "\n",
    "* immutable objects are like readonly object.\n",
    "    * you can access the states\n",
    "    * you can't change it\n",
    "    * Example\n",
    "        * tuple\n",
    "        * str\n",
    "        * int\n",
    "        * all basic types\n",
    "\n"
   ]
  },
  {
   "cell_type": "markdown",
   "metadata": {},
   "source": [
    "### List is mutable\n",
    "\n",
    "* when we modify a list by adding or removing an item the list doesn't change\n",
    "* we do it in the same list"
   ]
  },
  {
   "cell_type": "code",
   "execution_count": 4,
   "metadata": {},
   "outputs": [
    {
     "name": "stdout",
     "output_type": "stream",
     "text": [
      "2726101070016\n"
     ]
    }
   ],
   "source": [
    "l=[1,2,3,4]\n",
    "print(id(l))"
   ]
  },
  {
   "cell_type": "code",
   "execution_count": 6,
   "metadata": {},
   "outputs": [
    {
     "name": "stdout",
     "output_type": "stream",
     "text": [
      "[100, 4, 20, 4, 2, 9, 100]\n"
     ]
    }
   ],
   "source": [
    "l.append(20)\n",
    "l.pop(1) #removed 2\n",
    "l.pop(1) # removed 3\n",
    "l.extend([4,2,9,1])\n",
    "l[0]=100\n",
    "l[-1]=100\n",
    "print(l)"
   ]
  },
  {
   "cell_type": "code",
   "execution_count": 7,
   "metadata": {},
   "outputs": [
    {
     "data": {
      "text/plain": [
       "2726101070016"
      ]
     },
     "execution_count": 7,
     "metadata": {},
     "output_type": "execute_result"
    }
   ],
   "source": [
    "id(l)"
   ]
  },
  {
   "cell_type": "markdown",
   "metadata": {},
   "source": [
    "#### slicer creates a new list and doesn't modify the current one"
   ]
  },
  {
   "cell_type": "code",
   "execution_count": 9,
   "metadata": {},
   "outputs": [
    {
     "name": "stdout",
     "output_type": "stream",
     "text": [
      "l=[100, 4, 20, 4, 2, 9, 100]\tid=2726101070016\n",
      "x=[100, 9, 2, 4, 20, 4, 100]\tid=2726106385472\n"
     ]
    }
   ],
   "source": [
    "x = l[::-1]\n",
    "print(f\"l={l}\\tid={id(l)}\")\n",
    "print(f\"x={x}\\tid={id(x)}\")"
   ]
  },
  {
   "cell_type": "markdown",
   "metadata": {},
   "source": [
    "### int is immutable\n",
    "\n",
    "* when we say int, we mean the value not the reference\n",
    "    * Remember, reference don't have their own identity\n",
    "* when we check id of x we check the id of whatever x is referring"
   ]
  },
  {
   "cell_type": "code",
   "execution_count": 10,
   "metadata": {},
   "outputs": [
    {
     "name": "stdout",
     "output_type": "stream",
     "text": [
      "20 140722691761544\n",
      "21 140722691761576\n"
     ]
    }
   ],
   "source": [
    "x=20\n",
    "print(x,id(x))\n",
    "\n",
    "x+=1\n",
    "print(x, id(x))"
   ]
  },
  {
   "cell_type": "markdown",
   "metadata": {},
   "source": [
    "### str IS IMMUTABLE\n",
    "\n",
    "* we can't modify str in it's original place\n",
    "* It is easier to share immutable object in memory\n",
    "* whenever we modify a string using modifier functions, \n",
    "    * they create a new str with changes in a new memory"
   ]
  },
  {
   "cell_type": "code",
   "execution_count": 11,
   "metadata": {},
   "outputs": [
    {
     "data": {
      "text/plain": [
       "'HELLO WORLD'"
      ]
     },
     "execution_count": 11,
     "metadata": {},
     "output_type": "execute_result"
    }
   ],
   "source": [
    "str=\"Hello World\"\n",
    "\n",
    "str.upper()"
   ]
  },
  {
   "cell_type": "markdown",
   "metadata": {},
   "source": [
    "### What happened here\n",
    "\n",
    "* here we converted str to upper case\n",
    "* but we didn't change the exisitng object\n",
    "* we created a new object with upper case version of original object\n",
    "    * No one referred to this str\n",
    "    * It will eventually be removed from memory\n",
    "* str reference is still referring to old string"
   ]
  },
  {
   "cell_type": "code",
   "execution_count": 12,
   "metadata": {},
   "outputs": [
    {
     "name": "stdout",
     "output_type": "stream",
     "text": [
      "Hello World\n"
     ]
    }
   ],
   "source": [
    "print(str)"
   ]
  },
  {
   "cell_type": "markdown",
   "metadata": {},
   "source": [
    "### How do we get the upper() version of string\n",
    "\n",
    "* we have to assign it a reference\n",
    "* it can be same reference or a different one"
   ]
  },
  {
   "cell_type": "code",
   "execution_count": 15,
   "metadata": {},
   "outputs": [
    {
     "name": "stdout",
     "output_type": "stream",
     "text": [
      "Hello World 2726106398320\n",
      "HELLO WORLD 2726078649008\n"
     ]
    }
   ],
   "source": [
    "str='Hello World'\n",
    "print(str,id(str))\n",
    "str=str.upper()\n",
    "print(str,id(str))"
   ]
  },
  {
   "cell_type": "markdown",
   "metadata": {},
   "source": [
    "#### Caution!\n",
    "\n",
    "* When we build a complex string by looping we end up creating many temporary strings that may block a lot of memory\n",
    "* in the below code we are creating and discarding 1000 different strings of sizes 1,2,3...999"
   ]
  },
  {
   "cell_type": "code",
   "execution_count": 17,
   "metadata": {},
   "outputs": [
    {
     "name": "stdout",
     "output_type": "stream",
     "text": [
      "1000\n"
     ]
    }
   ],
   "source": [
    "x=''\n",
    "i=0\n",
    "while i<1000:\n",
    "    i+=1\n",
    "    x+='*'\n",
    "\n",
    "print(len(x))"
   ]
  },
  {
   "cell_type": "markdown",
   "metadata": {},
   "source": [
    "#### we can use interpolation and other functions to achieve similar results\n",
    "\n",
    "* string supports multiplication to create a string with character repeated given times"
   ]
  },
  {
   "cell_type": "code",
   "execution_count": 18,
   "metadata": {},
   "outputs": [
    {
     "name": "stdout",
     "output_type": "stream",
     "text": [
      "**********\n"
     ]
    }
   ],
   "source": [
    "str='*' * 10\n",
    "\n",
    "print(str)"
   ]
  },
  {
   "cell_type": "markdown",
   "metadata": {},
   "source": []
  }
 ],
 "metadata": {
  "kernelspec": {
   "display_name": "Python 3",
   "language": "python",
   "name": "python3"
  },
  "language_info": {
   "codemirror_mode": {
    "name": "ipython",
    "version": 3
   },
   "file_extension": ".py",
   "mimetype": "text/x-python",
   "name": "python",
   "nbconvert_exporter": "python",
   "pygments_lexer": "ipython3",
   "version": "3.11.5"
  },
  "orig_nbformat": 4
 },
 "nbformat": 4,
 "nbformat_minor": 2
}
