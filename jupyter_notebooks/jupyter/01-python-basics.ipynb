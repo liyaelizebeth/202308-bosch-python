{
 "cells": [
  {
   "cell_type": "markdown",
   "metadata": {},
   "source": [
    "# Python Basics\n",
    "\n",
    "* this notebook will cover some basic features of python like\n",
    "    * python print\n",
    "    * basic python data types"
   ]
  },
  {
   "cell_type": "code",
   "execution_count": 4,
   "metadata": {},
   "outputs": [
    {
     "name": "stdout",
     "output_type": "stream",
     "text": [
      "Hello Python World\n"
     ]
    }
   ],
   "source": [
    "print(\"Hello Python World\")"
   ]
  },
  {
   "cell_type": "markdown",
   "metadata": {},
   "source": [
    "#### Python Version Alert!\n",
    "\n",
    "* python 3 doesn't support python 2 statement sytnax without parentheses\n",
    "* following code will not work!"
   ]
  },
  {
   "cell_type": "code",
   "execution_count": 5,
   "metadata": {},
   "outputs": [
    {
     "ename": "SyntaxError",
     "evalue": "Missing parentheses in call to 'print'. Did you mean print(...)? (1206235578.py, line 1)",
     "output_type": "error",
     "traceback": [
      "\u001b[1;36m  Cell \u001b[1;32mIn[5], line 1\u001b[1;36m\u001b[0m\n\u001b[1;33m    print 'Hello Python2 World'\u001b[0m\n\u001b[1;37m    ^\u001b[0m\n\u001b[1;31mSyntaxError\u001b[0m\u001b[1;31m:\u001b[0m Missing parentheses in call to 'print'. Did you mean print(...)?\n"
     ]
    }
   ],
   "source": [
    "print 'Hello Python2 World'"
   ]
  },
  {
   "cell_type": "markdown",
   "metadata": {},
   "source": [
    "#### Python Data Types and Variables\n",
    "\n",
    "* python supports several fundamental data types like\n",
    "    * int\n",
    "    * float\n",
    "    * str\n",
    "    * bool\n",
    "* data type belongs to data (value) and not to variables\n",
    "* a variable is a just a generic name to refer to a value\n",
    "    * It doesn't have it's type \n",
    "    * A variable may refer to different data and different point in time\n",
    "\n",
    "#### Language Alert!\n",
    "\n",
    "* Languages like c/c++/java/c# associate a type with a variable\n",
    "* an int variable can't refer to a string\n",
    "\n",
    "<pre>\n",
    "int x = 20;\n",
    "x=\"Hello\" ; //not allowed\n",
    "</pre>\n"
   ]
  },
  {
   "cell_type": "markdown",
   "metadata": {},
   "source": []
  },
  {
   "cell_type": "code",
   "execution_count": 6,
   "metadata": {},
   "outputs": [
    {
     "name": "stdout",
     "output_type": "stream",
     "text": [
      "20\n",
      "hello\n"
     ]
    }
   ],
   "source": [
    "x=20 # x refers to value 20 that is int\n",
    "print(x)  # prints 20\n",
    "\n",
    "x='hello' # x now refers to 'hello' which is str\n",
    "print(x)"
   ]
  },
  {
   "cell_type": "markdown",
   "metadata": {},
   "source": [
    "#### we can identify type of a value by calling type()"
   ]
  },
  {
   "cell_type": "code",
   "execution_count": 7,
   "metadata": {},
   "outputs": [
    {
     "name": "stdout",
     "output_type": "stream",
     "text": [
      "<class 'int'>\n",
      "<class 'float'>\n",
      "<class 'str'>\n",
      "<class 'str'>\n",
      "<class 'bool'>\n"
     ]
    }
   ],
   "source": [
    "print(type(20))\n",
    "print(type(20.4))\n",
    "print(type('x'))\n",
    "print(type('hello'))\n",
    "print(type(True))"
   ]
  },
  {
   "cell_type": "markdown",
   "metadata": {},
   "source": [
    "#### types are associated with values and not variables\n",
    "\n",
    "* a variable just reflects the type of value it is referring at that momemnt\n"
   ]
  },
  {
   "cell_type": "code",
   "execution_count": 8,
   "metadata": {},
   "outputs": [
    {
     "name": "stdout",
     "output_type": "stream",
     "text": [
      "<class 'int'>\n",
      "<class 'str'>\n"
     ]
    }
   ],
   "source": [
    "x = 20\n",
    "print(type(x)) # int\n",
    "\n",
    "x='Hello'\n",
    "\n",
    "print(type(x)) # str"
   ]
  },
  {
   "cell_type": "markdown",
   "metadata": {},
   "source": [
    "#### closer look at print\n",
    "\n",
    "* A print can print one or more values in a single command \n",
    "* by default it will **sep**arate multiple values with a single space\n",
    "* after every print it **end**s the line with a new line"
   ]
  },
  {
   "cell_type": "code",
   "execution_count": 9,
   "metadata": {},
   "outputs": [
    {
     "name": "stdout",
     "output_type": "stream",
     "text": [
      "1 2 3 4\n",
      "5 6\n",
      "7 8 9 10\n",
      "end\n"
     ]
    }
   ],
   "source": [
    "print(1,2,3,4)\n",
    "print(5,6)\n",
    "print(7,8,9,10)\n",
    "print('end')"
   ]
  },
  {
   "cell_type": "markdown",
   "metadata": {},
   "source": [
    "#### we can customize print by defining **sep** and **end** in\n",
    "* we can include a **sep** to tell the value to be used for separating multiple items in same print\n",
    "\n",
    "* we can sepecify **end** to tell what should be added after print"
   ]
  },
  {
   "cell_type": "code",
   "execution_count": 10,
   "metadata": {},
   "outputs": [
    {
     "name": "stdout",
     "output_type": "stream",
     "text": [
      "1,2,3,4\n",
      "4 5 6\t8-->9-->10\n",
      "end\n"
     ]
    }
   ],
   "source": [
    "print(1,2,3,4, sep=',') #separate 1,2,3,4 using comma instead of blank\n",
    "print(4,5,6, end='\\t') # don't leave the line end with a tab\n",
    "print(8,9,10, sep='-->')\n",
    "print('end')"
   ]
  },
  {
   "cell_type": "code",
   "execution_count": 11,
   "metadata": {},
   "outputs": [
    {
     "name": "stdout",
     "output_type": "stream",
     "text": [
      "1\n",
      "2\n",
      "3\n",
      "4\n"
     ]
    }
   ],
   "source": [
    "print(1,2,3,4, sep='\\n')"
   ]
  },
  {
   "cell_type": "markdown",
   "metadata": {},
   "source": [
    "### A word on tab\n",
    "\n",
    "* A tab character is designed to form a tabular output\n",
    "* each tab has given space (8-10 chars)\n",
    "* Next tab begins in next tab zone.\n",
    "    * there is no fixed number of character that a tab leaves.\n",
    "* If we have content larger than a tabl zone, it may leave the rest of space"
   ]
  },
  {
   "cell_type": "code",
   "execution_count": 22,
   "metadata": {},
   "outputs": [
    {
     "name": "stdout",
     "output_type": "stream",
     "text": [
      "Id\tName\tSalary\n",
      "1\tVivek\t1000\n",
      "2\tPrabhat\t2000\n",
      "2\tSanjay Mall\t2000\n"
     ]
    }
   ],
   "source": [
    "print(\"Id\\tName\\tSalary\")\n",
    "print(\"1\\tVivek\\t1000\")\n",
    "print(\"2\\tPrabhat\\t2000\")\n",
    "print(\"2\\tSanjay Mall\\t2000\")"
   ]
  },
  {
   "cell_type": "markdown",
   "metadata": {},
   "source": [
    "### **str**ing type\n",
    "\n",
    "* A string can be any sequence of character quoted with\n",
    "    * single quotes:  'Hello'\n",
    "    * double quotes:  \"Hello\"\n",
    "    * tripple quotes\n",
    "        * tripple single quote: '''Hello'''\n",
    "        * tripple double quote : \"\"\"Hello\"\"\"\n",
    "\n",
    "* All the strings are similar in their usage, with some addtional feature in trippled quoted string"
   ]
  },
  {
   "cell_type": "code",
   "execution_count": 23,
   "metadata": {},
   "outputs": [
    {
     "name": "stdout",
     "output_type": "stream",
     "text": [
      "<class 'str'>\n",
      "<class 'str'>\n",
      "<class 'str'>\n"
     ]
    }
   ],
   "source": [
    "x='Hello'\n",
    "y=\"Hello\"\n",
    "z='''Hello'''\n",
    "\n",
    "print(type(x))\n",
    "print(type(y))\n",
    "print(type(z))"
   ]
  },
  {
   "cell_type": "markdown",
   "metadata": {},
   "source": [
    "### What is special about tripple quoted string\n",
    "\n",
    "* A tripple quoted string can span in multiple lines\n",
    "    * other's can't\n",
    "* They preserve the whitespace (blank, \\t, \\n) and print them as it is\n",
    "* It can be useful for\n",
    "    * representing multiple line templated text like\n",
    "        * address\n",
    "        * html templates\n",
    "\n",
    "* There is no difference between tripple single quote and tripple double quote."
   ]
  },
  {
   "cell_type": "code",
   "execution_count": 24,
   "metadata": {},
   "outputs": [
    {
     "ename": "SyntaxError",
     "evalue": "unterminated string literal (detected at line 1) (1576714958.py, line 1)",
     "output_type": "error",
     "traceback": [
      "\u001b[1;36m  Cell \u001b[1;32mIn[24], line 1\u001b[1;36m\u001b[0m\n\u001b[1;33m    x=\"He\u001b[0m\n\u001b[1;37m      ^\u001b[0m\n\u001b[1;31mSyntaxError\u001b[0m\u001b[1;31m:\u001b[0m unterminated string literal (detected at line 1)\n"
     ]
    }
   ],
   "source": [
    "x=\"He\n",
    "llo\""
   ]
  },
  {
   "cell_type": "code",
   "execution_count": 32,
   "metadata": {},
   "outputs": [],
   "source": [
    "book_info='''\n",
    "Title:  The Accursed God\n",
    "Author: Vivek Dutta Mishra\n",
    "Price:  299\n",
    "'''"
   ]
  },
  {
   "cell_type": "code",
   "execution_count": 33,
   "metadata": {},
   "outputs": [
    {
     "name": "stdout",
     "output_type": "stream",
     "text": [
      "\n",
      "Title:  The Accursed God\n",
      "Author: Vivek Dutta Mishra\n",
      "Price:  299\n",
      "\n"
     ]
    }
   ],
   "source": [
    "print(book_info)"
   ]
  },
  {
   "cell_type": "code",
   "execution_count": 34,
   "metadata": {},
   "outputs": [
    {
     "data": {
      "text/plain": [
       "'\\nTitle:  The Accursed God\\nAuthor: Vivek Dutta Mishra\\nPrice:  299\\n'"
      ]
     },
     "execution_count": 34,
     "metadata": {},
     "output_type": "execute_result"
    }
   ],
   "source": [
    "book_info"
   ]
  },
  {
   "cell_type": "markdown",
   "metadata": {},
   "source": [
    "#### Wait! Isn't tripple quotes used for commenting?\n",
    "\n",
    "* tripple quoted strings are not meant to be a comment.\n",
    "* It is more of hack to use it as comment\n",
    "* Any value that is not referred and printed in a script will not be visible\n",
    "* It may not have any impact on code\n",
    "* But it will give no error"
   ]
  },
  {
   "cell_type": "code",
   "execution_count": 35,
   "metadata": {},
   "outputs": [
    {
     "name": "stdout",
     "output_type": "stream",
     "text": [
      "Hello World\n"
     ]
    }
   ],
   "source": [
    "#following string will exist without side effect\n",
    "'''\n",
    "I am a python string that is not referred by a variable\n",
    "I can't be printed as there is no reference\n",
    "But I will cause no problem. I will just exist\n",
    "So you may use me as non programming text or \n",
    "Multi-line comment\n",
    "'''\n",
    "\n",
    "print(\"Hello World\")"
   ]
  },
  {
   "cell_type": "markdown",
   "metadata": {},
   "source": [
    "#### String Formatting\n",
    "\n",
    "* python 3.6+ introduced a simplified string formatting syntax.\n",
    "* There were older syntax to do the same job but with python 3.7+ they are no more needed.\n",
    "\n",
    "#### Older syntax that works even now.\n",
    "\n",
    "```python\n",
    "x=20\n",
    "y=30\n",
    "\n",
    "print( 'sum of {0} and {1} is {2}'.format(x,y,x+y))\n",
    "```"
   ]
  },
  {
   "cell_type": "code",
   "execution_count": 36,
   "metadata": {},
   "outputs": [
    {
     "name": "stdout",
     "output_type": "stream",
     "text": [
      "sum of 20 and 30 is 50\n"
     ]
    }
   ],
   "source": [
    "x=20\n",
    "y=30\n",
    "\n",
    "print( 'sum of {0} and {1} is {2}'.format(x,y,x+y))"
   ]
  },
  {
   "cell_type": "markdown",
   "metadata": {},
   "source": [
    "#### Python 3.6+ f-string\n",
    "\n",
    "* we can define  string with f \"prefix\" before quotes\n",
    "\n",
    "```python\n",
    "x=20\n",
    "y=30\n",
    "o= f'sum of {x} and {y} is {x+y}'\n",
    "print(o)\n",
    "```\n",
    "\n"
   ]
  },
  {
   "cell_type": "code",
   "execution_count": 38,
   "metadata": {},
   "outputs": [
    {
     "name": "stdout",
     "output_type": "stream",
     "text": [
      "sum of 20 and 30 is 50\n"
     ]
    }
   ],
   "source": [
    "x=20\n",
    "y=30\n",
    "o= f'sum of {x} and {y} is {x+y}'\n",
    "print(o)"
   ]
  },
  {
   "cell_type": "markdown",
   "metadata": {},
   "source": [
    "#### About Jupyter Notebook\n",
    "\n",
    "1. It is a REPL, just like a python terminal\n",
    "    * each code block runs same shell\n",
    "    * any value/variable added in a pervious block will also be accessible in the next block as they run in the same shell\n",
    "\n",
    "2. In a block if you type just  value no print statement The result will be shown\n",
    "    * Remember REPL includes Print"
   ]
  },
  {
   "cell_type": "code",
   "execution_count": 13,
   "metadata": {},
   "outputs": [
    {
     "data": {
      "text/plain": [
       "50"
      ]
     },
     "execution_count": 13,
     "metadata": {},
     "output_type": "execute_result"
    }
   ],
   "source": [
    "20+30"
   ]
  },
  {
   "cell_type": "markdown",
   "metadata": {},
   "source": [
    "#### Important\n",
    "* If you have multiple expression in a single block and not print\n",
    "    * it will execute all the expressions in the block\n",
    "    * but it will print the value of the last expression only\n",
    "\n",
    "\n",
    "* If you want to print multiple values in a single block, use explicit print"
   ]
  },
  {
   "cell_type": "markdown",
   "metadata": {},
   "source": []
  },
  {
   "cell_type": "code",
   "execution_count": 14,
   "metadata": {},
   "outputs": [
    {
     "data": {
      "text/plain": [
       "6"
      ]
     },
     "execution_count": 14,
     "metadata": {},
     "output_type": "execute_result"
    }
   ],
   "source": [
    "2+3\n",
    "4+7\n",
    "8-2"
   ]
  },
  {
   "cell_type": "code",
   "execution_count": 17,
   "metadata": {},
   "outputs": [
    {
     "data": {
      "text/plain": [
       "4"
      ]
     },
     "execution_count": 17,
     "metadata": {},
     "output_type": "execute_result"
    }
   ],
   "source": [
    "x=2\n",
    "y=3\n",
    "z=4\n",
    "z"
   ]
  },
  {
   "cell_type": "code",
   "execution_count": 18,
   "metadata": {},
   "outputs": [
    {
     "name": "stdout",
     "output_type": "stream",
     "text": [
      "2\n",
      "3\n",
      "4\n"
     ]
    }
   ],
   "source": [
    "print(x)\n",
    "print(y)\n",
    "print(z)"
   ]
  },
  {
   "cell_type": "markdown",
   "metadata": {},
   "source": [
    "### Final Note\n",
    "\n",
    "* print may be ingored in REPL (python shell or Jupyter) **but not in scripts**\n",
    "* a **.py** file needs explicit print to print anything\n",
    "* it won't print any value by default;\n"
   ]
  },
  {
   "cell_type": "markdown",
   "metadata": {},
   "source": [
    "#### Difference Between using and not using Print\n",
    "\n",
    "* In REPL (and Jupyter) when we don't use print, it shows the actual value of the value \n",
    "* This will be clear in strings with escape characters\n",
    "* Print processes the escape characters\n",
    "    * REPL doesn't"
   ]
  },
  {
   "cell_type": "code",
   "execution_count": 29,
   "metadata": {},
   "outputs": [],
   "source": [
    "x=\"Hello\\tWorld\\nWelcome\\tTo\\tPython\"\n"
   ]
  },
  {
   "cell_type": "code",
   "execution_count": 30,
   "metadata": {},
   "outputs": [
    {
     "data": {
      "text/plain": [
       "'Hello\\tWorld\\nWelcome\\tTo\\tPython'"
      ]
     },
     "execution_count": 30,
     "metadata": {},
     "output_type": "execute_result"
    }
   ],
   "source": [
    "x"
   ]
  },
  {
   "cell_type": "code",
   "execution_count": 31,
   "metadata": {},
   "outputs": [
    {
     "name": "stdout",
     "output_type": "stream",
     "text": [
      "Hello\tWorld\n",
      "Welcome\tTo\tPython\n"
     ]
    }
   ],
   "source": [
    "print(x)"
   ]
  },
  {
   "cell_type": "markdown",
   "metadata": {},
   "source": []
  }
 ],
 "metadata": {
  "kernelspec": {
   "display_name": "Python 3",
   "language": "python",
   "name": "python3"
  },
  "language_info": {
   "codemirror_mode": {
    "name": "ipython",
    "version": 3
   },
   "file_extension": ".py",
   "mimetype": "text/x-python",
   "name": "python",
   "nbconvert_exporter": "python",
   "pygments_lexer": "ipython3",
   "version": "3.11.5"
  },
  "orig_nbformat": 4
 },
 "nbformat": 4,
 "nbformat_minor": 2
}
