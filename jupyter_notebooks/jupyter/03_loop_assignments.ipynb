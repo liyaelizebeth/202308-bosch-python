{
 "cells": [
  {
   "cell_type": "markdown",
   "metadata": {},
   "source": [
    "### Loop Assignments\n",
    "\n",
    "\n",
    "#### 1. Find the largest number in group of n numbers"
   ]
  },
  {
   "cell_type": "code",
   "execution_count": 1,
   "metadata": {},
   "outputs": [
    {
     "name": "stdout",
     "output_type": "stream",
     "text": [
      "Max is 15\n"
     ]
    }
   ],
   "source": [
    "total = int(input(\"total?\"))\n",
    "max=0\n",
    "count=0\n",
    "while count<total:\n",
    "    count+=1\n",
    "    number=int(input(f\"number #{count}?\"))\n",
    "    if number>max:\n",
    "        max=number\n",
    "\n",
    "print(f\"Max is {max}\")\n"
   ]
  },
  {
   "cell_type": "markdown",
   "metadata": {},
   "source": [
    "#### Important\n",
    "\n",
    "* The above code may fail for a set of all negative values\n",
    "* Returned result would be 0 (the assumed max)\n",
    "\n",
    "\n",
    "# None value\n",
    "\n",
    "* Represents **nothing**\n",
    "* It is similar to c/c++/java **null**\n",
    "* It is a value in itself of type **NoneType**\n"
   ]
  },
  {
   "cell_type": "code",
   "execution_count": 2,
   "metadata": {},
   "outputs": [
    {
     "name": "stdout",
     "output_type": "stream",
     "text": [
      "<class 'NoneType'>\n"
     ]
    }
   ],
   "source": [
    "print(type(None))"
   ]
  },
  {
   "cell_type": "code",
   "execution_count": 3,
   "metadata": {},
   "outputs": [
    {
     "name": "stdout",
     "output_type": "stream",
     "text": [
      "Max is -3\n"
     ]
    }
   ],
   "source": [
    "total = int(input(\"total?\"))\n",
    "max=None\n",
    "count=0\n",
    "while count<total:\n",
    "    count+=1\n",
    "    number=int(input(f\"number #{count}?\"))\n",
    "    if max==None or number>max :\n",
    "        max=number\n",
    "\n",
    "print(f\"Max is {max}\")"
   ]
  },
  {
   "cell_type": "markdown",
   "metadata": {},
   "source": [
    "### Assignment 2 Find the 2nd largest number\n",
    "\n",
    "* 2 find the largest we need to keep track of both\n",
    "    * largest\n",
    "    * second largest\n"
   ]
  },
  {
   "cell_type": "code",
   "execution_count": 5,
   "metadata": {},
   "outputs": [
    {
     "name": "stdout",
     "output_type": "stream",
     "text": [
      "None was the second highest number in the lot\n"
     ]
    }
   ],
   "source": [
    "total = int(input(\"total?\"))\n",
    "max=None\n",
    "max2=None\n",
    "count=0\n",
    "while count<total:\n",
    "    count+=1\n",
    "    number = int(input(f\"number#{count}?\"))\n",
    "    if max==None:\n",
    "        max=number\n",
    "    elif number>max:\n",
    "        max2=max\n",
    "        max=number\n",
    "    elif number<max and (max2==None or number>max2):\n",
    "        max2=number\n",
    "\n",
    "print(f\"{max2} was the second highest number in the lot\")\n",
    "    "
   ]
  },
  {
   "cell_type": "markdown",
   "metadata": {},
   "source": [
    "### Assignmnet 3  Check if a number is prime\n",
    "\n",
    "* A prime number is a number that is divisible only by 1 and itself\n",
    "    * It has exactly 2 factor\n",
    "* we can check it is not divisible by anyone betwee 2-(n-1)"
   ]
  },
  {
   "cell_type": "code",
   "execution_count": 11,
   "metadata": {},
   "outputs": [
    {
     "name": "stdout",
     "output_type": "stream",
     "text": [
      "500000 is not prime as it has 42 factors\n"
     ]
    }
   ],
   "source": [
    "n=int(input(\"n?\"))\n",
    "factors=0\n",
    "count=1\n",
    "while count<=n:\n",
    "    if n%count==0:\n",
    "        factors+=1\n",
    "    count+=1\n",
    "\n",
    "if factors==2:\n",
    "    print(f'{n} is prime')\n",
    "else:\n",
    "    print(f\"{n} is not prime as it has {factors} factors\")"
   ]
  },
  {
   "cell_type": "markdown",
   "metadata": {},
   "source": [
    "### Problem with the code\n",
    "\n",
    "* this code will have performance problem\n",
    "* it will always loop to n to decide if number is  prime or not\n",
    "* say we check for 500000\n",
    "* now we know it is not prime as soon as we divided it by 2\n",
    "* but we are still trying to divide it by all values between 3-500000 to find 1000s of factors\n",
    "\n",
    "\n",
    "#### A better solution\n",
    "\n",
    "* to see if there is a factor between 2 and n-1"
   ]
  },
  {
   "cell_type": "code",
   "execution_count": 12,
   "metadata": {},
   "outputs": [
    {
     "name": "stdout",
     "output_type": "stream",
     "text": [
      "500000 is not prime\n"
     ]
    }
   ],
   "source": [
    "n=int(input(\"n?\"))\n",
    "count=2\n",
    "prime=True\n",
    "while count<n:\n",
    "    if n%count==0:\n",
    "        prime=False\n",
    "        break\n",
    "    count+=1\n",
    "\n",
    "\n",
    "if prime:\n",
    "    print(f'{n} is prime')\n",
    "else:\n",
    "    print(f\"{n} is not prime\")"
   ]
  },
  {
   "cell_type": "markdown",
   "metadata": {},
   "source": [
    "#### Assignment 4 -- Find all primes between a given min-max range"
   ]
  },
  {
   "cell_type": "code",
   "execution_count": 20,
   "metadata": {},
   "outputs": [
    {
     "name": "stdout",
     "output_type": "stream",
     "text": [
      "There are a total of 25 primes between -100 and 100\n"
     ]
    }
   ],
   "source": [
    "min=int(input(\"min?\"))\n",
    "max=int(input(\"max?\"))\n",
    "primes=0\n",
    "number=min\n",
    "while number<max:\n",
    "    \n",
    "    count=2\n",
    "    prime=True\n",
    "    if number<2:\n",
    "        prime=False\n",
    "    else:\n",
    "        while count<number:\n",
    "            if number%count==0:\n",
    "                prime=False\n",
    "                break\n",
    "            count+=1\n",
    "\n",
    "    if prime:\n",
    "        primes+=1\n",
    "    number+=1\n",
    "\n",
    "print(f\"There are a total of {primes} primes between {min} and {max}\")\n"
   ]
  },
  {
   "cell_type": "markdown",
   "metadata": {},
   "source": [
    "### A simplified version with while-else"
   ]
  },
  {
   "cell_type": "code",
   "execution_count": 21,
   "metadata": {},
   "outputs": [
    {
     "name": "stdout",
     "output_type": "stream",
     "text": [
      "There are a total of 25 primes between 0 and 100\n"
     ]
    }
   ],
   "source": [
    "min=int(input(\"min?\"))\n",
    "max=int(input(\"max?\"))\n",
    "primes=0\n",
    "number=min\n",
    "while number<max:\n",
    "    \n",
    "    count=2\n",
    "    \n",
    "    if number>=2:\n",
    "        while count<number:\n",
    "            if number%count==0:\n",
    "                break\n",
    "            count+=1\n",
    "        else:\n",
    "            primes+=1\n",
    "\n",
    "    number+=1\n",
    "\n",
    "print(f\"There are a total of {primes} primes between {min} and {max}\")\n"
   ]
  },
  {
   "cell_type": "code",
   "execution_count": null,
   "metadata": {},
   "outputs": [],
   "source": []
  }
 ],
 "metadata": {
  "kernelspec": {
   "display_name": "Python 3",
   "language": "python",
   "name": "python3"
  },
  "language_info": {
   "codemirror_mode": {
    "name": "ipython",
    "version": 3
   },
   "file_extension": ".py",
   "mimetype": "text/x-python",
   "name": "python",
   "nbconvert_exporter": "python",
   "pygments_lexer": "ipython3",
   "version": "3.11.5"
  },
  "orig_nbformat": 4
 },
 "nbformat": 4,
 "nbformat_minor": 2
}
