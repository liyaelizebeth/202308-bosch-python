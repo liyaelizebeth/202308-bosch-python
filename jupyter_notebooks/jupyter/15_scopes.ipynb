{
 "cells": [
  {
   "cell_type": "markdown",
   "metadata": {},
   "source": [
    "## Python Scope Rules\n",
    "\n",
    "* most languages have the concept of scopes like private, public, protected\n",
    "    * a class method/field marked private can't be accessed outside the class\n",
    "    * a public member is accessible from everywhere\n",
    "    * a protected member is accessible in the class and subclasses but not outside\n",
    "\n",
    "#### Python doesn't have any scope rules!\n",
    "\n",
    "* there is no scope definition like private/public/protected\n",
    "* all class fields and methods are always **public**\n",
    "    * they can be accessed from anywhere\n",
    "\n",
    "### Python Coding Convention\n",
    "\n",
    "* python community recommends adding a single underscore prefix to a field/method to mark it private or for internal use only\n",
    "* it changes NOTHING. the field/method can still be acessed from anywhere\n",
    "* It is recommended that outsiders shouldn't try to access it directly\n",
    "    * it's a convention\n",
    "\n",
    "#### Let us create an Employee class"
   ]
  },
  {
   "cell_type": "code",
   "execution_count": 1,
   "metadata": {},
   "outputs": [],
   "source": [
    "class Employee:\n",
    "    def __init__(self, id, name, salary):\n",
    "        self._id=id\n",
    "        self._name=name\n",
    "        self._salary=salary\n",
    "\n",
    "    def id(self): return self._id\n",
    "\n",
    "    def work(self): \n",
    "        print(f'{self._name} works as employee #{self.id}')\n",
    "\n",
    "    def __str__(self): \n",
    "        return f\"Employee(Id={self._id}\\tName={self._name}\\tSalary={self._salary})\""
   ]
  },
  {
   "cell_type": "code",
   "execution_count": 2,
   "metadata": {},
   "outputs": [
    {
     "name": "stdout",
     "output_type": "stream",
     "text": [
      "Employee(Id=1\tName=Sanjay\tSalary=20000)\n"
     ]
    }
   ],
   "source": [
    "e=Employee(1,'Sanjay',20000)\n",
    "print(e)"
   ]
  },
  {
   "cell_type": "code",
   "execution_count": 3,
   "metadata": {},
   "outputs": [
    {
     "name": "stdout",
     "output_type": "stream",
     "text": [
      "1\n",
      "1\n"
     ]
    }
   ],
   "source": [
    "print(e._id) # works. but we shouldn't access it directly\n",
    "\n",
    "#instead we should use official methdo if provided\n",
    "\n",
    "print(e.id()) # good code"
   ]
  },
  {
   "cell_type": "markdown",
   "metadata": {},
   "source": [
    "### A more safer private (internal)\n",
    "\n",
    "* A field with double underscore prefix will be more safe\n",
    "* It can't be easily modified.\n",
    "* Here salary is more private\n",
    "    * it is difficult to change"
   ]
  },
  {
   "cell_type": "code",
   "execution_count": 4,
   "metadata": {},
   "outputs": [],
   "source": [
    "class Employee:\n",
    "    def __init__(self, id, name, salary):\n",
    "        self._id=id\n",
    "        self._name=name\n",
    "        self.__salary=salary\n",
    "\n",
    "    def id(self): return self._id\n",
    "\n",
    "    def work(self): \n",
    "        print(f'{self._name} works as employee #{self.id}')\n",
    "\n",
    "    def salary(self): return self.__salary\n",
    "\n",
    "    def __str__(self): \n",
    "        return f\"Employee(Id={self._id}\\tName={self._name}\\tSalary={self.__salary})\""
   ]
  },
  {
   "cell_type": "code",
   "execution_count": 5,
   "metadata": {},
   "outputs": [
    {
     "name": "stdout",
     "output_type": "stream",
     "text": [
      "Employee(Id=1\tName=Sanjay\tSalary=20000)\n",
      "20000\n"
     ]
    }
   ],
   "source": [
    "e=Employee(1,'Sanjay',20000)\n",
    "print(e)\n",
    "print(e.salary())"
   ]
  },
  {
   "cell_type": "markdown",
   "metadata": {},
   "source": [
    "#### we may try to modify the value\n",
    "\n",
    "* it may even appear value has changed"
   ]
  },
  {
   "cell_type": "code",
   "execution_count": 6,
   "metadata": {},
   "outputs": [
    {
     "name": "stdout",
     "output_type": "stream",
     "text": [
      "500000\n"
     ]
    }
   ],
   "source": [
    "e.__salary=500000\n",
    "print(e.__salary)"
   ]
  },
  {
   "cell_type": "markdown",
   "metadata": {},
   "source": [
    "##### But value remains unchanged if we look through other official methods\n"
   ]
  },
  {
   "cell_type": "code",
   "execution_count": 7,
   "metadata": {},
   "outputs": [
    {
     "name": "stdout",
     "output_type": "stream",
     "text": [
      "Employee(Id=1\tName=Sanjay\tSalary=20000)\n",
      "20000\n",
      "500000\n"
     ]
    }
   ],
   "source": [
    "print(e)\n",
    "print(e.salary())\n",
    "print(e.__salary)"
   ]
  },
  {
   "cell_type": "markdown",
   "metadata": {},
   "source": [
    "### What happened?\n",
    "\n",
    "* when we declare a member with double underscore prefix python internall saves it differently\n",
    "* It changes the name internally to **\\_ClassName__fieldName**\n",
    "\n",
    "```python\n",
    "class Employee:\n",
    "    def __init__(self, id,name, salary):\n",
    "        self.__salary=salary # self._Employee__salary=salary\n",
    "\n",
    "    def salary(self):\n",
    "        return __salary # changes to self._Employee__salary\n",
    "```\n",
    "\n",
    "* But when we try to modify it from outside\n",
    "    * this change doesn't happen\n",
    "    * A new field is created with this name"
   ]
  },
  {
   "cell_type": "code",
   "execution_count": 8,
   "metadata": {},
   "outputs": [
    {
     "name": "stdout",
     "output_type": "stream",
     "text": [
      "Employee(Id=2\tName=Prabhat\tSalary=10000)\n"
     ]
    }
   ],
   "source": [
    "e2=Employee(2,'Prabhat',10000)\n",
    "print(e2)"
   ]
  },
  {
   "cell_type": "code",
   "execution_count": 9,
   "metadata": {},
   "outputs": [],
   "source": [
    "def salary_info(e):\n",
    "    salary_related =[ x for x in dir(e2) if \"salary\" in x]\n",
    "    print(salary_related)"
   ]
  },
  {
   "cell_type": "code",
   "execution_count": 10,
   "metadata": {},
   "outputs": [
    {
     "name": "stdout",
     "output_type": "stream",
     "text": [
      "['_Employee__salary', 'salary']\n"
     ]
    }
   ],
   "source": [
    "salary_info(e2)"
   ]
  },
  {
   "cell_type": "code",
   "execution_count": 11,
   "metadata": {},
   "outputs": [
    {
     "name": "stdout",
     "output_type": "stream",
     "text": [
      "['_Employee__salary', '__salary', 'salary']\n"
     ]
    }
   ],
   "source": [
    "e2.__salary=200000\n",
    "salary_info(e2)"
   ]
  },
  {
   "cell_type": "code",
   "execution_count": 12,
   "metadata": {},
   "outputs": [
    {
     "name": "stdout",
     "output_type": "stream",
     "text": [
      "Employee(Id=2\tName=Prabhat\tSalary=10000)\n"
     ]
    }
   ],
   "source": [
    "print(e2)"
   ]
  },
  {
   "cell_type": "markdown",
   "metadata": {},
   "source": [
    "#### since we know it, we can break it"
   ]
  },
  {
   "cell_type": "code",
   "execution_count": 13,
   "metadata": {},
   "outputs": [
    {
     "name": "stdout",
     "output_type": "stream",
     "text": [
      "Employee(Id=2\tName=Prabhat\tSalary=200000)\n"
     ]
    }
   ],
   "source": [
    "e2._Employee__salary=200000\n",
    "print(e2)"
   ]
  },
  {
   "cell_type": "markdown",
   "metadata": {},
   "source": [
    "### What is the problem in the below code?"
   ]
  },
  {
   "cell_type": "code",
   "execution_count": 14,
   "metadata": {},
   "outputs": [
    {
     "name": "stdout",
     "output_type": "stream",
     "text": [
      "Employee(Id=1\tName=Sanjay\tSalary=20000)\n",
      "Employee(Id=1\tName=Prabhat\tSalary=30000)\n"
     ]
    }
   ],
   "source": [
    "e1 = Employee(1,\"Sanjay\",20000)\n",
    "e2 = Employee(1,\"Prabhat\",30000)\n",
    "\n",
    "print(e1)\n",
    "print(e2)"
   ]
  },
  {
   "cell_type": "markdown",
   "metadata": {},
   "source": [
    "#### Problem\n",
    "\n",
    "* we can have multiple employees with same id\n",
    "* ideally this shouldn't be allowed.\n",
    "* but each object is different and can't look into other's attribute\n",
    "* how do I makes sure each of them will get a uniquely different id?\n",
    "\n",
    "\n",
    "### Solution #1 Auto generate Id using a global variable"
   ]
  },
  {
   "cell_type": "code",
   "execution_count": 17,
   "metadata": {},
   "outputs": [],
   "source": [
    "lastId=0\n",
    "class Employee:\n",
    "    def __init__(self, name, salary):\n",
    "        global lastId\n",
    "        lastId+=1\n",
    "        self._id=lastId\n",
    "        self._name=name\n",
    "        self._salary=salary\n",
    "\n",
    "    def __str__(self):\n",
    "        return f\"Employee(Id={self._id}\\tName={self._name}\\tSalary={self._salary})\""
   ]
  },
  {
   "cell_type": "code",
   "execution_count": 18,
   "metadata": {},
   "outputs": [
    {
     "name": "stdout",
     "output_type": "stream",
     "text": [
      "Employee(Id=1\tName=Sanjay\tSalary=50000)\n",
      "Employee(Id=2\tName=Prabhat\tSalary=20000)\n"
     ]
    }
   ],
   "source": [
    "e1=Employee(\"Sanjay\",50000)\n",
    "e2=Employee(\"Prabhat\",20000)\n",
    "\n",
    "print(e1)\n",
    "print(e2)"
   ]
  },
  {
   "cell_type": "markdown",
   "metadata": {},
   "source": [
    "#### Problem\n",
    "\n",
    "* we may have diffrent types of object that may need auto gerated ids\n",
    "    * example:\n",
    "        * Department\n",
    "        * Project\n",
    "        * Invoice\n",
    "\n",
    "    * we can't have multiple **lastId** for each of them globally\n",
    "\n",
    "##### Solution #2 : declare prefixed id\n",
    " * example\n",
    "    * lastEmployeeId\n",
    "    * lastDepartmentId\n",
    "\n",
    "##### Solution #3: delcare lastId at the module level\n",
    "\n",
    "\n",
    "\n",
    "\n",
    "### Solution #4  Create class level field lastId\n",
    "\n",
    "* just like method (at same indent) we can have class level fields\n",
    "* this field will be accessible in every object using **self.** or **classname.**\n",
    "* it will be shared member and not owned by any particular object"
   ]
  },
  {
   "cell_type": "code",
   "execution_count": 20,
   "metadata": {},
   "outputs": [],
   "source": [
    "\n",
    "class Employee:\n",
    "    _lastId=0 #shared memeber\n",
    "    def __init__(self, name, salary):        \n",
    "        Employee._lastId+=1 #accessing lastId using class referece\n",
    "        self._id=self._lastId #accessing last is using object/self reference\n",
    "        self._name=name\n",
    "        self._salary=salary\n",
    "\n",
    "    def getLastId(self):\n",
    "        return self._lastId\n",
    "\n",
    "    def employeeCount():\n",
    "        return Employee.lastId\n",
    "\n",
    "    def __str__(self):\n",
    "        return f\"Employee(Id={self._id}\\tName={self._name}\\tSalary={self._salary})\""
   ]
  },
  {
   "cell_type": "code",
   "execution_count": 21,
   "metadata": {},
   "outputs": [
    {
     "name": "stdout",
     "output_type": "stream",
     "text": [
      "Employee(Id=1\tName=Sanjay\tSalary=20000)\n",
      "Employee(Id=2\tName=Prabhat\tSalary=50000)\n"
     ]
    }
   ],
   "source": [
    "### Happy Case\n",
    "e1=Employee(\"Sanjay\",20000)\n",
    "e2=Employee(\"Prabhat\",50000)\n",
    "\n",
    "print(e1)\n",
    "print(e2)\n"
   ]
  },
  {
   "cell_type": "code",
   "execution_count": 22,
   "metadata": {},
   "outputs": [
    {
     "name": "stdout",
     "output_type": "stream",
     "text": [
      "2\n",
      "2\n",
      "2\n"
     ]
    }
   ],
   "source": [
    "# _lastId can be accessed using class reference\n",
    "print(Employee._lastId)\n",
    "\n",
    "# or using object reference\n",
    "print(e1._lastId)\n",
    "print(e2._lastId)\n"
   ]
  },
  {
   "cell_type": "code",
   "execution_count": 23,
   "metadata": {},
   "outputs": [
    {
     "name": "stdout",
     "output_type": "stream",
     "text": [
      "3\n",
      "3\n",
      "3\n",
      "3\n"
     ]
    }
   ],
   "source": [
    "e3=Employee(\"Amit\",30000)\n",
    "print(Employee._lastId)\n",
    "print(e1._lastId)\n",
    "print(e2._lastId)\n",
    "print(e3._lastId)"
   ]
  },
  {
   "cell_type": "markdown",
   "metadata": {},
   "source": [
    "### But the shared should never be modified by object reference\n",
    "\n",
    "* a shared field should modified only by class reference and NOT by object reference\n",
    "\n",
    "* if we modify the shared filed using object reference, it creates a new field for that object only. It will have no effect on other objects or shared filed\n",
    "\n",
    "\n",
    "### How fields are resolved\n",
    "\n",
    "### When we try to access **obj.something**\n",
    "\n",
    "1. python first checks if a property **something** is present in current object or not\n",
    "    * if found, you get it\n",
    "\n",
    "2. in **something** is not defined in current object, it checks if it is present in class or not.\n",
    "    * if found, you get it\n",
    "\n",
    "3. It raises exception\n",
    "\n",
    "\n",
    "##### Where do I see object properties\n",
    "\n",
    "* every object has \\_\\_dict\\_\\_ property that contains properties of current object\n",
    "* shared memebers are not present here"
   ]
  },
  {
   "cell_type": "code",
   "execution_count": 30,
   "metadata": {},
   "outputs": [
    {
     "name": "stdout",
     "output_type": "stream",
     "text": [
      "{'_id': 1, '_name': 'Sanjay', '_salary': 20000}\n",
      "{'__module__': '__main__', '_lastId': 3, '__init__': <function Employee.__init__ at 0x0000022F03D5CE00>, 'getLastId': <function Employee.getLastId at 0x0000022F03D5D120>, 'employeeCount': <function Employee.employeeCount at 0x0000022F03D5D1C0>, '__str__': <function Employee.__str__ at 0x0000022F03D5D260>, '__dict__': <attribute '__dict__' of 'Employee' objects>, '__weakref__': <attribute '__weakref__' of 'Employee' objects>, '__doc__': None}\n"
     ]
    }
   ],
   "source": [
    "print(e1.__dict__)\n",
    "print(type(e1).__dict__)"
   ]
  },
  {
   "cell_type": "code",
   "execution_count": 31,
   "metadata": {},
   "outputs": [
    {
     "name": "stdout",
     "output_type": "stream",
     "text": [
      "3\n"
     ]
    }
   ],
   "source": [
    "print(e1._lastId) #searches in e1.__dict__ and then in type(e1).__dict__"
   ]
  },
  {
   "cell_type": "markdown",
   "metadata": {},
   "source": [
    "### When we try to modify the property\n",
    "\n",
    "* when we try to modify a property  **obj.something= value** \n",
    "    * python simply adds this value to current object\n",
    "    * it doesn't check for shared member"
   ]
  },
  {
   "cell_type": "code",
   "execution_count": 34,
   "metadata": {},
   "outputs": [
    {
     "name": "stdout",
     "output_type": "stream",
     "text": [
      "{'_id': 1, '_name': 'Sanjay', '_salary': 20000, '_lastId': 100}\n",
      "{'_id': 1, '_name': 'Sanjay', '_salary': 20000, '_lastId': 100}\n",
      "{'__module__': '__main__', '_lastId': 3, '__init__': <function Employee.__init__ at 0x0000022F03D5CE00>, 'getLastId': <function Employee.getLastId at 0x0000022F03D5D120>, 'employeeCount': <function Employee.employeeCount at 0x0000022F03D5D1C0>, '__str__': <function Employee.__str__ at 0x0000022F03D5D260>, '__dict__': <attribute '__dict__' of 'Employee' objects>, '__weakref__': <attribute '__weakref__' of 'Employee' objects>, '__doc__': None}\n"
     ]
    }
   ],
   "source": [
    "print(e1.__dict__)\n",
    "e1._lastId=100\n",
    "print(e1.__dict__)\n",
    "print(Employee.__dict__)"
   ]
  },
  {
   "cell_type": "markdown",
   "metadata": {},
   "source": [
    "#### What happens next?\n",
    "\n",
    "* Employee._lastId and other_object._lastId will be same\n",
    "* For object **el** _lastId will be different and cause confusion\n",
    "\n",
    "\n",
    "### Best Practices guidelines\n",
    "\n",
    "* Always access a shared member using class reference and NEVER using object reference"
   ]
  },
  {
   "cell_type": "code",
   "execution_count": 35,
   "metadata": {},
   "outputs": [],
   "source": [
    "\n",
    "class Employee:\n",
    "    _lastId=0 #shared memeber\n",
    "    def __init__(self, name, salary):        \n",
    "        Employee._lastId+=1 #accessing lastId using class referece\n",
    "        self._id=Employee._lastId #accessing last is using object/self reference\n",
    "        self._name=name\n",
    "        self._salary=salary\n",
    "\n",
    "    def getLastId(self):\n",
    "        return Employee._lastId\n",
    "\n",
    "    def employeeCount():\n",
    "        return Employee.lastId\n",
    "\n",
    "    def __str__(self):\n",
    "        return f\"Employee(Id={self._id}\\tName={self._name}\\tSalary={self._salary})\""
   ]
  },
  {
   "cell_type": "markdown",
   "metadata": {},
   "source": [
    "### Shared Members are often called static\n",
    "\n",
    "* most other programming language refers these shared members a static"
   ]
  },
  {
   "cell_type": "markdown",
   "metadata": {},
   "source": []
  }
 ],
 "metadata": {
  "kernelspec": {
   "display_name": "Python 3",
   "language": "python",
   "name": "python3"
  },
  "language_info": {
   "codemirror_mode": {
    "name": "ipython",
    "version": 3
   },
   "file_extension": ".py",
   "mimetype": "text/x-python",
   "name": "python",
   "nbconvert_exporter": "python",
   "pygments_lexer": "ipython3",
   "version": "3.11.5"
  },
  "orig_nbformat": 4
 },
 "nbformat": 4,
 "nbformat_minor": 2
}
