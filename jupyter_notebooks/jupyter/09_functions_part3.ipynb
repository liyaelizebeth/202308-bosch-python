{
 "cells": [
  {
   "cell_type": "markdown",
   "metadata": {},
   "source": [
    "## Python Functions are Objects\n",
    "\n",
    "* like everything else a python function is also an object\n",
    "* A function name is like a reference to the actual function that exists\n",
    "* These functions are immutable\n",
    "* They have their Id"
   ]
  },
  {
   "cell_type": "code",
   "execution_count": 1,
   "metadata": {},
   "outputs": [],
   "source": [
    "def plus(x,y):\n",
    "    return x+y"
   ]
  },
  {
   "cell_type": "code",
   "execution_count": 2,
   "metadata": {},
   "outputs": [
    {
     "name": "stdout",
     "output_type": "stream",
     "text": [
      "<class 'function'>\n"
     ]
    }
   ],
   "source": [
    "print(type(plus))"
   ]
  },
  {
   "cell_type": "code",
   "execution_count": 3,
   "metadata": {},
   "outputs": [
    {
     "name": "stdout",
     "output_type": "stream",
     "text": [
      "1658571894240\n"
     ]
    }
   ],
   "source": [
    "print(id(plus))"
   ]
  },
  {
   "cell_type": "markdown",
   "metadata": {},
   "source": [
    "### What is the signficance of \"Function is an Object\" notion?\n",
    "\n",
    "* we can treat it like any other object\n",
    "* we can assign it to a variable\n",
    "* we can create list or dict of functions\n"
   ]
  },
  {
   "cell_type": "code",
   "execution_count": 4,
   "metadata": {},
   "outputs": [
    {
     "name": "stdout",
     "output_type": "stream",
     "text": [
      "<class 'function'>\n",
      "1658571894240\n"
     ]
    }
   ],
   "source": [
    "add = plus\n",
    "\n",
    "print(type(add))\n",
    "print(id(add))"
   ]
  },
  {
   "cell_type": "code",
   "execution_count": 5,
   "metadata": {},
   "outputs": [
    {
     "data": {
      "text/plain": [
       "50"
      ]
     },
     "execution_count": 5,
     "metadata": {},
     "output_type": "execute_result"
    }
   ],
   "source": [
    "add(20,30)"
   ]
  },
  {
   "cell_type": "markdown",
   "metadata": {},
   "source": [
    "### A function object has a speical property __name__\n",
    "\n",
    "* we can check the name of the function"
   ]
  },
  {
   "cell_type": "code",
   "execution_count": 6,
   "metadata": {},
   "outputs": [
    {
     "data": {
      "text/plain": [
       "'plus'"
      ]
     },
     "execution_count": 6,
     "metadata": {},
     "output_type": "execute_result"
    }
   ],
   "source": [
    "add.__name__"
   ]
  },
  {
   "cell_type": "markdown",
   "metadata": {},
   "source": [
    "### Scopes and life\n",
    "\n",
    "* scopes and life applies to variables (references) not to value\n",
    "* scope \n",
    "    * defines where a given reference will be accessible and where not\n",
    "* life \n",
    "    * defines if it is  live or not. This\n",
    "    * if reference is dead object refered by it is also dead\n",
    "\n",
    "* ideally the scopes belong to three categories\n",
    "    * global \n",
    "    * local\n",
    "    * closure <----- **ADVANCED CONCEPT**  TO BE DISCUSSED LATER!\n",
    "\n",
    "\n",
    "#### GLOBAL\n",
    "* when we declare a variable outside any function it is global\n",
    "* scope\n",
    "    *  can be accessed by global code\n",
    "    * it can also be accessed by functions\n",
    "        * with some additional code\n",
    "* life\n",
    "    * program's lifetime\n",
    "\n",
    "\n",
    "#### Local\n",
    "\n",
    "* declared within a function\n",
    "    * function parameter\n",
    "    * function internal variables\n",
    "* scope\n",
    "    * wihtin the funtion only\n",
    "    * not accessible \n",
    "        * globally\n",
    "        * within other functions\n",
    "\n",
    "* life\n",
    "    * current execution of function\n",
    "    * once function execution ends all the locals are removed\n",
    "    * if a function is called 10 times\n",
    "        * all variables will be created and destroyed 10 times."
   ]
  },
  {
   "cell_type": "code",
   "execution_count": 9,
   "metadata": {},
   "outputs": [
    {
     "name": "stdout",
     "output_type": "stream",
     "text": [
      "global 1658477773232\n"
     ]
    }
   ],
   "source": [
    "g='global'\n",
    "print(g,id(g))"
   ]
  },
  {
   "cell_type": "code",
   "execution_count": 10,
   "metadata": {},
   "outputs": [],
   "source": [
    "def func(a):\n",
    "    b=a*10\n",
    "    print(b, id(b))"
   ]
  },
  {
   "cell_type": "code",
   "execution_count": 12,
   "metadata": {},
   "outputs": [
    {
     "name": "stdout",
     "output_type": "stream",
     "text": [
      "100 140722691764104\n",
      "200 140722691767304\n"
     ]
    }
   ],
   "source": [
    "func(10)\n",
    "func(20)"
   ]
  },
  {
   "cell_type": "code",
   "execution_count": 14,
   "metadata": {},
   "outputs": [
    {
     "ename": "NameError",
     "evalue": "name 'b' is not defined",
     "output_type": "error",
     "traceback": [
      "\u001b[1;31m---------------------------------------------------------------------------\u001b[0m",
      "\u001b[1;31mNameError\u001b[0m                                 Traceback (most recent call last)",
      "Cell \u001b[1;32mIn[14], line 1\u001b[0m\n\u001b[1;32m----> 1\u001b[0m \u001b[39mprint\u001b[39m(b)\n",
      "\u001b[1;31mNameError\u001b[0m: name 'b' is not defined"
     ]
    }
   ],
   "source": [
    "print(b)"
   ]
  },
  {
   "cell_type": "markdown",
   "metadata": {},
   "source": [
    "### How recursive function memory is managed\n",
    "\n",
    "* In a recursive function, the funciton calls itself\n",
    "* The inner call will again need the same set of references to refer to different values\n",
    "* each call will have their own set of referencs."
   ]
  },
  {
   "cell_type": "code",
   "execution_count": 23,
   "metadata": {},
   "outputs": [],
   "source": [
    "def factorial(n):\n",
    "    print(f\"n={n}\")\n",
    "    if n<2:\n",
    "        print(f'\\t\\treturning 1')\n",
    "        return 1\n",
    "    else:\n",
    "        print(f'\\tcalling {n}*factorial({n-1})')\n",
    "        x= n*factorial(n-1)\n",
    "        print(f\"\\t\\treturning {n}! => {x}\")\n",
    "        return x\n"
   ]
  },
  {
   "cell_type": "code",
   "execution_count": 24,
   "metadata": {},
   "outputs": [
    {
     "name": "stdout",
     "output_type": "stream",
     "text": [
      "n=5\n",
      "\tcalling 5*factorial(4)\n",
      "n=4\n",
      "\tcalling 4*factorial(3)\n",
      "n=3\n",
      "\tcalling 3*factorial(2)\n",
      "n=2\n",
      "\tcalling 2*factorial(1)\n",
      "n=1\n",
      "\t\treturning 1\n",
      "\t\treturning 2! => 2\n",
      "\t\treturning 3! => 6\n",
      "\t\treturning 4! => 24\n",
      "\t\treturning 5! => 120\n"
     ]
    },
    {
     "data": {
      "text/plain": [
       "120"
      ]
     },
     "execution_count": 24,
     "metadata": {},
     "output_type": "execute_result"
    }
   ],
   "source": [
    "factorial(5)"
   ]
  },
  {
   "cell_type": "markdown",
   "metadata": {},
   "source": [
    "#### accessing global reference in the function\n",
    "\n",
    "* A function can directly access the global value"
   ]
  },
  {
   "cell_type": "code",
   "execution_count": 26,
   "metadata": {},
   "outputs": [],
   "source": [
    "g='global'\n",
    "\n",
    "def print_global():\n",
    "    print(g)"
   ]
  },
  {
   "cell_type": "code",
   "execution_count": 28,
   "metadata": {},
   "outputs": [
    {
     "name": "stdout",
     "output_type": "stream",
     "text": [
      "global\n"
     ]
    }
   ],
   "source": [
    "print_global()"
   ]
  },
  {
   "cell_type": "code",
   "execution_count": 41,
   "metadata": {},
   "outputs": [],
   "source": [
    "g='global'\n",
    "def change_global(new_value):\n",
    "    g=new_value\n",
    "    print(f'g changed to {new_value}')"
   ]
  },
  {
   "cell_type": "code",
   "execution_count": 42,
   "metadata": {},
   "outputs": [
    {
     "name": "stdout",
     "output_type": "stream",
     "text": [
      "g changed to new order\n",
      "global\n"
     ]
    }
   ],
   "source": [
    "change_global('new order')\n",
    "print(g)"
   ]
  },
  {
   "cell_type": "markdown",
   "metadata": {},
   "source": [
    "#### But g has not changed!!!\n",
    "\n",
    "* by default a global value is availble in a function only as **readonly** \n",
    "    * this is to avoid unwanted change by a function to global\n",
    "\n",
    "* when we try to assign a value to a global variable, python simply creates a local variable with same name within the funciton\n",
    "\n",
    "* if you try to first access the value and then modify the value, it would be an error\n",
    "    * if function tries to modify a value by default it will be considered a local value"
   ]
  },
  {
   "cell_type": "code",
   "execution_count": 37,
   "metadata": {},
   "outputs": [
    {
     "name": "stdout",
     "output_type": "stream",
     "text": [
      "global is global\n"
     ]
    }
   ],
   "source": [
    "g='global'\n",
    "\n",
    "def print_global():\n",
    "    print(f'global is {g}')  # it may be global if we don't try to modify it in this function\n",
    "\n",
    "print_global()"
   ]
  },
  {
   "cell_type": "code",
   "execution_count": 39,
   "metadata": {},
   "outputs": [],
   "source": [
    "g='global'\n",
    "\n",
    "def change_global(new_value):\n",
    "   \n",
    "    print(f'global current value {g}') # can't access a local before it is created\n",
    "   \n",
    "    g=new_value # g is a new local\n",
    "   \n",
    "    print(f'global changed to {g}')  #WRONG! it's the local"
   ]
  },
  {
   "cell_type": "code",
   "execution_count": 40,
   "metadata": {},
   "outputs": [
    {
     "ename": "UnboundLocalError",
     "evalue": "cannot access local variable 'g' where it is not associated with a value",
     "output_type": "error",
     "traceback": [
      "\u001b[1;31m---------------------------------------------------------------------------\u001b[0m",
      "\u001b[1;31mUnboundLocalError\u001b[0m                         Traceback (most recent call last)",
      "Cell \u001b[1;32mIn[40], line 1\u001b[0m\n\u001b[1;32m----> 1\u001b[0m change_global(\u001b[39m'\u001b[39;49m\u001b[39mnew world order\u001b[39;49m\u001b[39m'\u001b[39;49m)\n",
      "Cell \u001b[1;32mIn[39], line 5\u001b[0m, in \u001b[0;36mchange_global\u001b[1;34m(new_value)\u001b[0m\n\u001b[0;32m      3\u001b[0m \u001b[39mdef\u001b[39;00m \u001b[39mchange_global\u001b[39m(new_value):\n\u001b[1;32m----> 5\u001b[0m     \u001b[39mprint\u001b[39m(\u001b[39mf\u001b[39m\u001b[39m'\u001b[39m\u001b[39mglobal current value \u001b[39m\u001b[39m{\u001b[39;00mg\u001b[39m}\u001b[39;00m\u001b[39m'\u001b[39m) \u001b[39m# can't access a local before it is created\u001b[39;00m\n\u001b[0;32m      7\u001b[0m     g\u001b[39m=\u001b[39mnew_value \u001b[39m# g is a new local\u001b[39;00m\n\u001b[0;32m      9\u001b[0m     \u001b[39mprint\u001b[39m(\u001b[39mf\u001b[39m\u001b[39m'\u001b[39m\u001b[39mglobal changed to \u001b[39m\u001b[39m{\u001b[39;00mg\u001b[39m}\u001b[39;00m\u001b[39m'\u001b[39m)\n",
      "\u001b[1;31mUnboundLocalError\u001b[0m: cannot access local variable 'g' where it is not associated with a value"
     ]
    }
   ],
   "source": [
    "change_global('new world order')"
   ]
  },
  {
   "cell_type": "markdown",
   "metadata": {},
   "source": [
    "### What if I really want to modify global\n",
    "\n",
    "* if a funciton is expected to modify a global, it should first declare it's intention \n",
    "* this special step is to ensure you are aware of what you are trying to do"
   ]
  },
  {
   "cell_type": "code",
   "execution_count": 45,
   "metadata": {},
   "outputs": [],
   "source": [
    "g='global'\n",
    "def change_global(new_value):\n",
    "    global g # I intend to modify global \"g\"\n",
    "    print(f'current value of global is \"{g}\"') # we know g is global\n",
    "\n",
    "    g=new_value\n",
    "    print(f'global is changed to \"{g}\"')\n"
   ]
  },
  {
   "cell_type": "code",
   "execution_count": 46,
   "metadata": {},
   "outputs": [
    {
     "name": "stdout",
     "output_type": "stream",
     "text": [
      "current value of global is \"global\"\n",
      "global is changed to \"new world order\"\n",
      "new world order\n"
     ]
    }
   ],
   "source": [
    "change_global('new world order')\n",
    "\n",
    "print(g)"
   ]
  },
  {
   "cell_type": "markdown",
   "metadata": {},
   "source": [
    "#### Caution!\n",
    "\n",
    "* avoid modifying globals in a function unless it is really IMPORTANT!\n",
    "\n",
    "\n",
    "#### BEST PRACTICE\n",
    "\n",
    "* avoid global itself\n",
    "\n",
    "\n",
    "\n",
    "## Global Problem!\n",
    "\n",
    "* all references (variable names) in python are unprotected.\n",
    "* any of them can easily be modified\n",
    "* once you assign a new value to a reference (name) it loses it's old value\n",
    "* This causes a problem as we may\n",
    "    * overwrite a existing global function with \n",
    "        * our own function\n",
    "        * even our own value\n",
    "    * we can redefine the value"
   ]
  },
  {
   "cell_type": "code",
   "execution_count": 47,
   "metadata": {},
   "outputs": [],
   "source": [
    "print='Hello World'  # now we have over-written the definition of print"
   ]
  },
  {
   "cell_type": "markdown",
   "metadata": {},
   "source": [
    "#### Now print is gone\n",
    "\n",
    "* now print is no more referring to the print funciton\n",
    "* it is referring to a string\n"
   ]
  },
  {
   "cell_type": "code",
   "execution_count": 48,
   "metadata": {},
   "outputs": [
    {
     "data": {
      "text/plain": [
       "'Hello World'"
      ]
     },
     "execution_count": 48,
     "metadata": {},
     "output_type": "execute_result"
    }
   ],
   "source": [
    "print"
   ]
  },
  {
   "cell_type": "code",
   "execution_count": 49,
   "metadata": {},
   "outputs": [
    {
     "data": {
      "text/plain": [
       "'HELLO WORLD'"
      ]
     },
     "execution_count": 49,
     "metadata": {},
     "output_type": "execute_result"
    }
   ],
   "source": [
    "print.upper()"
   ]
  },
  {
   "cell_type": "markdown",
   "metadata": {},
   "source": [
    "#### But I can't call it as a function anymore"
   ]
  },
  {
   "cell_type": "code",
   "execution_count": 50,
   "metadata": {},
   "outputs": [
    {
     "ename": "TypeError",
     "evalue": "'str' object is not callable",
     "output_type": "error",
     "traceback": [
      "\u001b[1;31m---------------------------------------------------------------------------\u001b[0m",
      "\u001b[1;31mTypeError\u001b[0m                                 Traceback (most recent call last)",
      "Cell \u001b[1;32mIn[50], line 1\u001b[0m\n\u001b[1;32m----> 1\u001b[0m \u001b[39mprint\u001b[39;49m(\u001b[39m'\u001b[39;49m\u001b[39mHello World\u001b[39;49m\u001b[39m'\u001b[39;49m)\n",
      "\u001b[1;31mTypeError\u001b[0m: 'str' object is not callable"
     ]
    }
   ],
   "source": [
    "print('Hello World')"
   ]
  },
  {
   "cell_type": "markdown",
   "metadata": {},
   "source": []
  }
 ],
 "metadata": {
  "kernelspec": {
   "display_name": "Python 3",
   "language": "python",
   "name": "python3"
  },
  "language_info": {
   "codemirror_mode": {
    "name": "ipython",
    "version": 3
   },
   "file_extension": ".py",
   "mimetype": "text/x-python",
   "name": "python",
   "nbconvert_exporter": "python",
   "pygments_lexer": "ipython3",
   "version": "3.11.5"
  },
  "orig_nbformat": 4
 },
 "nbformat": 4,
 "nbformat_minor": 2
}
