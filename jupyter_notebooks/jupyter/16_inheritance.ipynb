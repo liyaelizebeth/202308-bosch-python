{
 "cells": [
  {
   "cell_type": "markdown",
   "metadata": {},
   "source": [
    "## Inheritance\n",
    "\n",
    "* inheritance allows one class to inherit from other class\n",
    "* inheritance create a **is a typeof** relationship between two classes\n",
    "* while inheriting\n",
    "    * the class being inherited is referred as \"*base class*\" or **super class**\n",
    "    * the class that is inheriting is reffered as \"*derived class*\" or \"**sub class**\"\n",
    "\n",
    "* while inheriting always maintain the **is a typeof relationship**\n",
    "\n",
    "#### Inheritance is easy"
   ]
  },
  {
   "cell_type": "code",
   "execution_count": 1,
   "metadata": {},
   "outputs": [],
   "source": [
    "# we will use this class a  super class\n",
    "class Animal:\n",
    "    pass\n",
    "\n",
    "# A Tiger can be considered as a sub class of Animal\n",
    "\n",
    "class Tiger(Animal):\n",
    "    pass\n"
   ]
  },
  {
   "cell_type": "markdown",
   "metadata": {},
   "source": [
    "### Inheritance defines  a relationship between classes"
   ]
  },
  {
   "cell_type": "code",
   "execution_count": 3,
   "metadata": {},
   "outputs": [
    {
     "data": {
      "text/plain": [
       "True"
      ]
     },
     "execution_count": 3,
     "metadata": {},
     "output_type": "execute_result"
    }
   ],
   "source": [
    "issubclass(Tiger,Animal)"
   ]
  },
  {
   "cell_type": "code",
   "execution_count": 4,
   "metadata": {},
   "outputs": [
    {
     "data": {
      "text/plain": [
       "False"
      ]
     },
     "execution_count": 4,
     "metadata": {},
     "output_type": "execute_result"
    }
   ],
   "source": [
    "issubclass(Tiger,list)"
   ]
  },
  {
   "cell_type": "code",
   "execution_count": 5,
   "metadata": {},
   "outputs": [
    {
     "data": {
      "text/plain": [
       "False"
      ]
     },
     "execution_count": 5,
     "metadata": {},
     "output_type": "execute_result"
    }
   ],
   "source": [
    "issubclass(Animal,Tiger)"
   ]
  },
  {
   "cell_type": "markdown",
   "metadata": {},
   "source": [
    "### Inhertiance also creates relationship between object and super class\n",
    "\n",
    "* An object of the subclass is also considered as an object of the super class"
   ]
  },
  {
   "cell_type": "code",
   "execution_count": 6,
   "metadata": {},
   "outputs": [],
   "source": [
    "a=Animal()\n",
    "t=Tiger()"
   ]
  },
  {
   "cell_type": "code",
   "execution_count": 7,
   "metadata": {},
   "outputs": [
    {
     "name": "stdout",
     "output_type": "stream",
     "text": [
      "True\n",
      "True\n"
     ]
    }
   ],
   "source": [
    "print(isinstance(a,Animal))\n",
    "print(isinstance(t,Tiger))"
   ]
  },
  {
   "cell_type": "code",
   "execution_count": 9,
   "metadata": {},
   "outputs": [
    {
     "name": "stdout",
     "output_type": "stream",
     "text": [
      "True\n"
     ]
    }
   ],
   "source": [
    "# A tiger is also an Animal\n",
    "print(isinstance(t,Animal))"
   ]
  },
  {
   "cell_type": "code",
   "execution_count": 10,
   "metadata": {},
   "outputs": [
    {
     "name": "stdout",
     "output_type": "stream",
     "text": [
      "False\n"
     ]
    }
   ],
   "source": [
    "# But an animal may not be a Tiger\n",
    "print(isinstance(a,Tiger))"
   ]
  },
  {
   "cell_type": "markdown",
   "metadata": {},
   "source": [
    "#### A sub class **inherits** methods/behaviors of **super class**\n",
    "\n",
    "* Any method defined in super class object automatically becomes a method in the sub class\n",
    "\n",
    "* Here Tiger will get all behaviors of Animal"
   ]
  },
  {
   "cell_type": "code",
   "execution_count": 22,
   "metadata": {},
   "outputs": [],
   "source": [
    "class Animal:\n",
    "    def eat(self):\n",
    "        print(f'{self} eats something')\n",
    "    \n",
    "    def breed(self):\n",
    "        print(f'{self} breeds somehow')\n",
    "\n",
    "    def __str__(self):\n",
    "        return type(self).__name__\n",
    "\n",
    "\n",
    "class Tiger(Animal):\n",
    "    pass"
   ]
  },
  {
   "cell_type": "code",
   "execution_count": 23,
   "metadata": {},
   "outputs": [
    {
     "name": "stdout",
     "output_type": "stream",
     "text": [
      "Tiger eats something\n",
      "Tiger breeds somehow\n"
     ]
    }
   ],
   "source": [
    "t=Tiger()\n",
    "\n",
    "t.eat()\n",
    "\n",
    "t.breed()"
   ]
  },
  {
   "cell_type": "markdown",
   "metadata": {},
   "source": [
    "### We can also add new behavior in sub class\n",
    "\n",
    "* any behavior added to sub class will work for sub class only\n",
    "* these behaviors will not work for super class\n",
    "* Here we are adding **hunt** to tiger. It will work for tiger but not animal"
   ]
  },
  {
   "cell_type": "code",
   "execution_count": 24,
   "metadata": {},
   "outputs": [],
   "source": [
    "class Tiger(Animal):\n",
    "    def hunt(self):\n",
    "        print(f'{self} hunts')\n"
   ]
  },
  {
   "cell_type": "code",
   "execution_count": 25,
   "metadata": {},
   "outputs": [
    {
     "name": "stdout",
     "output_type": "stream",
     "text": [
      "Tiger eats something\n",
      "Tiger breeds somehow\n",
      "Tiger hunts\n"
     ]
    }
   ],
   "source": [
    "t=Tiger()\n",
    "t.eat()\n",
    "t.breed()\n",
    "t.hunt()"
   ]
  },
  {
   "cell_type": "code",
   "execution_count": 26,
   "metadata": {},
   "outputs": [
    {
     "name": "stdout",
     "output_type": "stream",
     "text": [
      "Animal eats something\n",
      "Animal breeds somehow\n"
     ]
    }
   ],
   "source": [
    "a=Animal()\n",
    "a.eat()\n",
    "a.breed()"
   ]
  },
  {
   "cell_type": "code",
   "execution_count": 27,
   "metadata": {},
   "outputs": [
    {
     "ename": "AttributeError",
     "evalue": "'Animal' object has no attribute 'hunt'",
     "output_type": "error",
     "traceback": [
      "\u001b[1;31m---------------------------------------------------------------------------\u001b[0m",
      "\u001b[1;31mAttributeError\u001b[0m                            Traceback (most recent call last)",
      "Cell \u001b[1;32mIn[27], line 1\u001b[0m\n\u001b[1;32m----> 1\u001b[0m a\u001b[39m.\u001b[39;49mhunt()\n",
      "\u001b[1;31mAttributeError\u001b[0m: 'Animal' object has no attribute 'hunt'"
     ]
    }
   ],
   "source": [
    "a.hunt()"
   ]
  },
  {
   "cell_type": "markdown",
   "metadata": {},
   "source": [
    "### A sub class can modify the inherited super class behavior \n",
    "\n",
    "* if a super class behavior needs to be modifed, the sub class redefined the same method \n",
    "\n",
    "* a method with same name in sub class will replace the method obtained from super class \n",
    "\n",
    "* super class will still have access to it's original method"
   ]
  },
  {
   "cell_type": "code",
   "execution_count": 28,
   "metadata": {},
   "outputs": [
    {
     "name": "stdout",
     "output_type": "stream",
     "text": [
      "Tiger eats something\n"
     ]
    }
   ],
   "source": [
    "t=Tiger()\n",
    "\n",
    "t.eat()"
   ]
  },
  {
   "cell_type": "code",
   "execution_count": 29,
   "metadata": {},
   "outputs": [],
   "source": [
    "class Tiger(Animal):\n",
    "    def hunt(self):\n",
    "        print(f\"{self} hunts\")\n",
    "\n",
    "    def eat(self):\n",
    "        print(f\"{self} eats flesh\")"
   ]
  },
  {
   "cell_type": "code",
   "execution_count": 30,
   "metadata": {},
   "outputs": [
    {
     "name": "stdout",
     "output_type": "stream",
     "text": [
      "Tiger eats flesh\n"
     ]
    }
   ],
   "source": [
    "t=Tiger()\n",
    "t.eat()"
   ]
  },
  {
   "cell_type": "markdown",
   "metadata": {},
   "source": [
    "### Inheritance of data (or field)\n",
    "\n",
    "* A python class generally **doesn't defined** data \n",
    "    * exception is shared field\n",
    "* data/field belongs to object\n",
    "* inhertiance inherits what is defined int class\n",
    "    * shared fields\n",
    "    * methods\n",
    "* Officially **inheritance doesn't inherit data**\n",
    "\n",
    "#### Unofficially\n",
    "\n",
    "* most of the class will initialize the data in **\\_\\_init\\_\\_**\n",
    "* and  **\\_\\_init\\_\\_** being a method is inherited\n",
    "* thus the logic of adding data to the object is also inherited\n",
    "* thus unofficially data is inherited.\n",
    "* data added from other methods may not be inherited\n",
    "\n",
    "\n"
   ]
  },
  {
   "cell_type": "code",
   "execution_count": 1,
   "metadata": {},
   "outputs": [],
   "source": [
    "\n",
    "class Employee:\n",
    "    _lastId=0 #shared memeber\n",
    "    def __init__(self, name, salary):        \n",
    "        Employee._lastId+=1 #accessing lastId using class referece\n",
    "        self._id=Employee._lastId #accessing last is using object/self reference\n",
    "        self._name=name\n",
    "        self._salary=salary\n",
    "\n",
    "    def work(self):\n",
    "        print(f\"{self._name} works as employee#{self._id} for salary {self.salary}\")\n",
    "    \n",
    "    def id(self): return self._id\n",
    "\n",
    "    def name(self): return self._name\n",
    "\n",
    "    def salary(self): return self._salary\n",
    "\n",
    "\n",
    "    def __str__(self):\n",
    "        return f\"Employee(Id={self._id}\\tName={self._name}\\tSalary={self._salary})\""
   ]
  },
  {
   "cell_type": "code",
   "execution_count": 3,
   "metadata": {},
   "outputs": [
    {
     "name": "stdout",
     "output_type": "stream",
     "text": [
      "dict_keys(['__module__', '_lastId', '__init__', 'work', 'id', 'name', 'salary', '__str__', '__dict__', '__weakref__', '__doc__'])\n"
     ]
    }
   ],
   "source": [
    "print(Employee.__dict__.keys())"
   ]
  },
  {
   "cell_type": "markdown",
   "metadata": {},
   "source": [
    "### when we inherit a class, we inherit the above properties\n",
    "\n",
    "* it includes methods and shared filed but not object field initialized by \\_\\_init\\_\\_"
   ]
  },
  {
   "cell_type": "code",
   "execution_count": 4,
   "metadata": {},
   "outputs": [],
   "source": [
    "class Manager(Employee):\n",
    "    pass"
   ]
  },
  {
   "cell_type": "code",
   "execution_count": 7,
   "metadata": {},
   "outputs": [
    {
     "name": "stdout",
     "output_type": "stream",
     "text": [
      "['__class__', '__delattr__', '__dict__', '__dir__', '__doc__', '__eq__', '__format__', '__ge__', '__getattribute__', '__getstate__', '__gt__', '__hash__', '__init__', '__init_subclass__', '__le__', '__lt__', '__module__', '__ne__', '__new__', '__reduce__', '__reduce_ex__', '__repr__', '__setattr__', '__sizeof__', '__str__', '__subclasshook__', '__weakref__', '_lastId', 'id', 'name', 'salary', 'work']\n"
     ]
    }
   ],
   "source": [
    "print(dir(Manager))"
   ]
  },
  {
   "cell_type": "markdown",
   "metadata": {},
   "source": [
    "### What happens when we create the Manager?\n",
    "\n",
    "* Manager has inherited \\_\\_init\\_\\_\n",
    "* Now manager takes same parameters as  Employee\n",
    "* \\_\\_init\\_\\_ will add same fields to Manager object that it adds to empoyee object\n",
    "* Thus, indirectly, Manager inherits employee fields\n",
    "\n",
    "##### IMPORTANT\n",
    "\n",
    "* manager class doesn't inherit employee properties\n",
    "* manager class inherits \\_\\_init\\_\\_ and thus gets same properties"
   ]
  },
  {
   "cell_type": "code",
   "execution_count": 8,
   "metadata": {},
   "outputs": [
    {
     "name": "stdout",
     "output_type": "stream",
     "text": [
      "Employee(Id=1\tName=Prabhat\tSalary=100000)\n"
     ]
    }
   ],
   "source": [
    "m= Manager('Prabhat',100000)\n",
    "print(m)"
   ]
  },
  {
   "cell_type": "markdown",
   "metadata": {},
   "source": [
    "### But Manager will have more properties\n",
    "\n",
    "* A manager needs a \"project\" that it manager\n",
    "* A manager will have a team of employe that it manages\n",
    "* this is over and above employee properties like\n",
    "    * id\n",
    "    * salary\n",
    "    * name"
   ]
  },
  {
   "cell_type": "code",
   "execution_count": 11,
   "metadata": {},
   "outputs": [],
   "source": [
    "class Manager(Employee):\n",
    "    def __init__(self,project):\n",
    "        self._project=project\n",
    "        self._team=[]\n",
    "\n",
    "    def add_to_team(member):\n",
    "        self._team.append(member)\n"
   ]
  },
  {
   "cell_type": "code",
   "execution_count": 12,
   "metadata": {},
   "outputs": [
    {
     "ename": "AttributeError",
     "evalue": "'Manager' object has no attribute '_id'",
     "output_type": "error",
     "traceback": [
      "\u001b[1;31m---------------------------------------------------------------------------\u001b[0m",
      "\u001b[1;31mAttributeError\u001b[0m                            Traceback (most recent call last)",
      "Cell \u001b[1;32mIn[12], line 2\u001b[0m\n\u001b[0;32m      1\u001b[0m m\u001b[39m=\u001b[39mManager(\u001b[39m\"\u001b[39m\u001b[39mL&D\u001b[39m\u001b[39m\"\u001b[39m)\n\u001b[1;32m----> 2\u001b[0m \u001b[39mprint\u001b[39;49m(m)\n",
      "Cell \u001b[1;32mIn[1], line 20\u001b[0m, in \u001b[0;36mEmployee.__str__\u001b[1;34m(self)\u001b[0m\n\u001b[0;32m     19\u001b[0m \u001b[39mdef\u001b[39;00m \u001b[39m__str__\u001b[39m(\u001b[39mself\u001b[39m):\n\u001b[1;32m---> 20\u001b[0m     \u001b[39mreturn\u001b[39;00m \u001b[39mf\u001b[39m\u001b[39m\"\u001b[39m\u001b[39mEmployee(Id=\u001b[39m\u001b[39m{\u001b[39;00m\u001b[39mself\u001b[39;49m\u001b[39m.\u001b[39;49m_id\u001b[39m}\u001b[39;00m\u001b[39m\\t\u001b[39;00m\u001b[39mName=\u001b[39m\u001b[39m{\u001b[39;00m\u001b[39mself\u001b[39m\u001b[39m.\u001b[39m_name\u001b[39m}\u001b[39;00m\u001b[39m\\t\u001b[39;00m\u001b[39mSalary=\u001b[39m\u001b[39m{\u001b[39;00m\u001b[39mself\u001b[39m\u001b[39m.\u001b[39m_salary\u001b[39m}\u001b[39;00m\u001b[39m)\u001b[39m\u001b[39m\"\u001b[39m\n",
      "\u001b[1;31mAttributeError\u001b[0m: 'Manager' object has no attribute '_id'"
     ]
    }
   ],
   "source": [
    "m=Manager(\"L&D\")\n",
    "print(m)"
   ]
  },
  {
   "cell_type": "markdown",
   "metadata": {},
   "source": [
    "#### Why manager has no _id?\n",
    "\n",
    "* when Manager added a \\_\\_init\\_\\_ method it replaced the Employee.\\_\\_init\\_\\_ it had inherited\n",
    "* Employee.\\_\\_init\\_\\_ was initialing name, id, salary\n",
    "* Since we are not using Employee.\\_\\_init\\_\\_() those members are not added to Manager\n",
    "\n",
    "##### Remember\n",
    "\n",
    "* Manager doesn't inherit _name, _id, _salary\n",
    "    * It got them because of Employee.\\_\\_init\\_\\_\n",
    "    * If we write our Manager.\\_\\_init\\_\\_ it removes Employee.\\_\\_init\\_\\_\n"
   ]
  },
  {
   "cell_type": "markdown",
   "metadata": {},
   "source": [
    "### How to Intialize Both Manager and Employee Properties\n",
    "\n",
    "* from within Manager.\\_\\_init\\_\\_ we have to explicitly call Employee.\\_\\_init\\_\\_"
   ]
  },
  {
   "cell_type": "code",
   "execution_count": 31,
   "metadata": {},
   "outputs": [],
   "source": [
    "\n",
    "class Employee:\n",
    "    _lastId=0 #shared memeber\n",
    "    def __init__(self, name, salary):        \n",
    "        Employee._lastId+=1 #accessing lastId using class referece\n",
    "        self._id=Employee._lastId #accessing last is using object/self reference\n",
    "        self._name=name\n",
    "        self._salary=salary\n",
    "\n",
    "    def work(self):\n",
    "        print(f\"{self._name} works as employee#{self._id} for salary {self._salary}\")\n",
    "    \n",
    "    def id(self): return self._id\n",
    "\n",
    "    def name(self): return self._name\n",
    "\n",
    "    def salary(self): return self._salary\n",
    "\n",
    "\n",
    "    def __str__(self):\n",
    "        return f\"Employee(Id={self._id}\\tName={self._name}\\tSalary={self._salary})\""
   ]
  },
  {
   "cell_type": "code",
   "execution_count": 32,
   "metadata": {},
   "outputs": [],
   "source": [
    "class Manager(Employee):\n",
    "    def __init__(self, name, salary, project):\n",
    "        #call the Employee init for your object\n",
    "        Employee.__init__(self, name, salary)\n",
    "        # now set the remaining members\n",
    "        self._project = project\n",
    "        self._team=[]\n",
    "\n",
    "    def add_to_team(self,member):\n",
    "        if isinstance(member,Employee):\n",
    "            self._team.append(member)\n",
    "        else:\n",
    "            raise ValueError(\"Team Member must be an Employee\")\n",
    "\n",
    "    def team(self):\n",
    "        return self._team"
   ]
  },
  {
   "cell_type": "code",
   "execution_count": 33,
   "metadata": {},
   "outputs": [
    {
     "name": "stdout",
     "output_type": "stream",
     "text": [
      "Employee(Id=1\tName=Prabhat\tSalary=100000)\n"
     ]
    }
   ],
   "source": [
    "m=Manager(\"Prabhat\",100000,\"L&D\")\n",
    "\n",
    "m.add_to_team(Employee(\"Sanjay\",20000))\n",
    "m.add_to_team(Manager(\"Amit\",50000,\"Python L&D\"))\n",
    "\n",
    "print(m)"
   ]
  },
  {
   "cell_type": "code",
   "execution_count": 34,
   "metadata": {},
   "outputs": [
    {
     "name": "stdout",
     "output_type": "stream",
     "text": [
      "[<__main__.Employee object at 0x0000018A1085D650>, <__main__.Manager object at 0x0000018A10DE9A90>]\n"
     ]
    }
   ],
   "source": [
    "print(m.team())"
   ]
  },
  {
   "cell_type": "markdown",
   "metadata": {},
   "source": [
    "### Modifying the existing behavior\n",
    "\n",
    "* sometimes we need a slight modification of super class behavior\n",
    "* we want to use the part behavior and define additional\n",
    "* Example\n",
    "    * \\_\\_str\\_\\_\n",
    "        * still needs to show: name, id, salary\n",
    "        * should also show: project and team-size\n",
    "        * should change prefix from Employee to Manager\n",
    "\n",
    "    * work\n",
    "        * manager works like any other employee\n",
    "        * but it also manages the team"
   ]
  },
  {
   "cell_type": "code",
   "execution_count": 41,
   "metadata": {},
   "outputs": [],
   "source": [
    "class Manager(Employee):\n",
    "    def __init__(self, name, salary, project):\n",
    "        #call the Employee init for your object\n",
    "        Employee.__init__(self, name, salary)\n",
    "        # now set the remaining members\n",
    "        self._project = project\n",
    "        self._team=[]\n",
    "\n",
    "    def add_to_team(self,member):\n",
    "        if isinstance(member,Employee):\n",
    "            self._team.append(member)\n",
    "        else:\n",
    "            raise ValueError(\"Team Member must be an Employee\")\n",
    "\n",
    "    def team(self):\n",
    "        return self._team\n",
    "\n",
    "    def work(self):\n",
    "        #work as employee\n",
    "        #self.work() #recursive\n",
    "        Employee.work(self)\n",
    "\n",
    "        # work as manager\n",
    "        print(f\"\\tManages project '{self._project}' with a team size {len(self._team)}\")\n",
    "\n",
    "\n",
    "    def __str__(self):\n",
    "        str= Employee.__str__(self)\n",
    "        return str\\\n",
    "                .replace('Employee','Manager')\\\n",
    "                .replace(')', f\"Projec={self._project}\\tTeam={len(self._team)})\")"
   ]
  },
  {
   "cell_type": "code",
   "execution_count": 42,
   "metadata": {},
   "outputs": [
    {
     "name": "stdout",
     "output_type": "stream",
     "text": [
      "Prabhat works as employee#10 for salary 10000\n",
      "\tManages project 'L&D' with a team size 2\n"
     ]
    }
   ],
   "source": [
    "m=Manager(\"Prabhat\", 10000, \"L&D\")\n",
    "m.add_to_team(Employee(\"Sanjay\",20000))\n",
    "m.add_to_team(Manager(\"Amit\",50000,\"Python L&D\"))\n",
    "\n",
    "m.work()"
   ]
  },
  {
   "cell_type": "code",
   "execution_count": 43,
   "metadata": {},
   "outputs": [
    {
     "name": "stdout",
     "output_type": "stream",
     "text": [
      "Manager(Id=10\tName=Prabhat\tSalary=10000Projec=L&D\tTeam=2)\n"
     ]
    }
   ],
   "source": [
    "print(m)"
   ]
  },
  {
   "cell_type": "markdown",
   "metadata": {},
   "source": [
    "### super keyword\n",
    "\n",
    "* to access the super class method in sub class, python defines super() keyword\n",
    "* it is recommended over calling using super class name"
   ]
  },
  {
   "cell_type": "code",
   "execution_count": 47,
   "metadata": {},
   "outputs": [],
   "source": [
    "class Manager(Employee):\n",
    "    def __init__(self, name, salary, project):\n",
    "        #call the Employee init for your object\n",
    "        super().__init__( name, salary)\n",
    "        # now set the remaining members\n",
    "        self._project = project\n",
    "        self._team=[]\n",
    "\n",
    "    def add_to_team(self,member):\n",
    "        if isinstance(member,Employee):\n",
    "            self._team.append(member)\n",
    "        else:\n",
    "            raise ValueError(\"Team Member must be an Employee\")\n",
    "\n",
    "    def team(self):\n",
    "        return self._team\n",
    "\n",
    "    def work(self):\n",
    "        #work as employee\n",
    "        #self.work() #recursive\n",
    "        super().work()\n",
    "\n",
    "        # work as manager\n",
    "        print(f\"\\tManages project '{self._project}' with a team size {len(self._team)}\")\n",
    "\n",
    "\n",
    "    def __str__(self):\n",
    "        str= super().__str__()\n",
    "        return str\\\n",
    "                .replace('Employee','Manager')\\\n",
    "                .replace(')', f\"Projec={self._project}\\tTeam={len(self._team)})\")"
   ]
  },
  {
   "cell_type": "code",
   "execution_count": 48,
   "metadata": {},
   "outputs": [
    {
     "name": "stdout",
     "output_type": "stream",
     "text": [
      "Manager(Id=15\tName=Prabhat\tSalary=100000Projec=L&D\tTeam=0)\n"
     ]
    }
   ],
   "source": [
    "m=Manager(\"Prabhat\",100000, \"L&D\")\n",
    "print(m)"
   ]
  },
  {
   "cell_type": "markdown",
   "metadata": {},
   "source": [
    "### Object class\n",
    "\n",
    "* python has a special class called \"object\"\n",
    "* every python class directly or indirectly inherits this class\n",
    "* a class that inherits nothing inherits object\n",
    "* Design implication\n",
    "    * every class is subclass of object \n",
    "    * every object is isntance of object"
   ]
  },
  {
   "cell_type": "code",
   "execution_count": 65,
   "metadata": {},
   "outputs": [
    {
     "name": "stdout",
     "output_type": "stream",
     "text": [
      "True\n",
      "True\n",
      "True\n",
      "True\n"
     ]
    }
   ],
   "source": [
    "print(issubclass(Employee,object)) #true\n",
    "print(issubclass(str,object)) #true\n",
    "print(issubclass(list,object)) #true\n",
    "print(issubclass(int,object)) #true"
   ]
  },
  {
   "cell_type": "code",
   "execution_count": 68,
   "metadata": {},
   "outputs": [
    {
     "name": "stdout",
     "output_type": "stream",
     "text": [
      "True\n",
      "True\n",
      "True\n",
      "True\n"
     ]
    }
   ],
   "source": [
    "print(isinstance(Employee(), object)) #True\n",
    "print(isinstance('Hello World',object)) #true\n",
    "print(isinstance(20, object)) #true\n",
    "print(isinstance([1,2,3,4],object)) #true"
   ]
  },
  {
   "cell_type": "markdown",
   "metadata": {},
   "source": [
    "## Multi-Inheritance\n",
    "\n",
    "* A python class may inherit from more than one super class\n",
    "* In this case it will inherit all the elements from both super classes\n",
    "* It will also be considered a sub class of both super class"
   ]
  },
  {
   "cell_type": "code",
   "execution_count": 54,
   "metadata": {},
   "outputs": [],
   "source": [
    "class Employee:\n",
    "    pass\n",
    "\n",
    "class TechnicalPerson:\n",
    "    pass\n",
    "\n",
    "class Engineer(Employee,TechnicalPerson):\n",
    "    pass\n",
    "\n",
    "class Manager(Employee):\n",
    "    pass\n",
    "\n",
    "class ChiefEngineer(Manager,Engineer):\n",
    "    pass\n"
   ]
  },
  {
   "cell_type": "code",
   "execution_count": 55,
   "metadata": {},
   "outputs": [
    {
     "name": "stdout",
     "output_type": "stream",
     "text": [
      "False\n",
      "False\n",
      "True\n",
      "False\n",
      "True\n",
      "True\n"
     ]
    }
   ],
   "source": [
    "print(issubclass(TechnicalPerson,Employee)) #False\n",
    "print(issubclass(Engineer, Manager)) #false\n",
    "print(issubclass(Manager,Employee)) #True\n",
    "print(issubclass(Manager,TechnicalPerson)) #false\n",
    "print(issubclass(Engineer,TechnicalPerson)) #True\n",
    "print(issubclass(Engineer,Employee)) #True"
   ]
  },
  {
   "cell_type": "code",
   "execution_count": 56,
   "metadata": {},
   "outputs": [
    {
     "name": "stdout",
     "output_type": "stream",
     "text": [
      "True\n",
      "True\n",
      "True\n",
      "True\n",
      "True\n"
     ]
    }
   ],
   "source": [
    "ce=ChiefEngineer()\n",
    "\n",
    "print(isinstance(ce, ChiefEngineer)) #true\n",
    "print(isinstance(ce, Manager)) #true\n",
    "print(isinstance(ce, Engineer)) #true\n",
    "print(isinstance(ce, Employee)) #true\n",
    "print(isinstance(ce, TechnicalPerson)) #true"
   ]
  },
  {
   "cell_type": "markdown",
   "metadata": {},
   "source": [
    "### Method Resolution\n",
    "\n",
    "* There would be no issue for behaviors that are unqiue in super classes\n",
    "* "
   ]
  },
  {
   "cell_type": "code",
   "execution_count": 61,
   "metadata": {},
   "outputs": [],
   "source": [
    "class Employee:\n",
    "    def work(self):\n",
    "        print('employee works')\n",
    "\n",
    "class TechnicalPerson:\n",
    "    def study(self):\n",
    "        print('Technical Peson studies technology')\n",
    "\n",
    "class Engineer(Employee,TechnicalPerson):\n",
    "    pass\n",
    "    "
   ]
  },
  {
   "cell_type": "code",
   "execution_count": 62,
   "metadata": {},
   "outputs": [
    {
     "name": "stdout",
     "output_type": "stream",
     "text": [
      "employee works\n",
      "Technical Peson studies technology\n"
     ]
    }
   ],
   "source": [
    "e=Engineer()\n",
    "e.work()\n",
    "e.study()"
   ]
  },
  {
   "cell_type": "markdown",
   "metadata": {},
   "source": [
    "### What happens if there is same method in bother super classes?\n",
    "\n",
    "* It is a common scenario\n",
    "* At lease few methods will be common in almost all super classes\n",
    "    * \\_\\_init\\_\\_\n",
    "    * \\_\\_str\\_\\_"
   ]
  },
  {
   "cell_type": "code",
   "execution_count": 63,
   "metadata": {},
   "outputs": [],
   "source": [
    "class Employee:\n",
    "    def work(self):\n",
    "        print('employee works')\n",
    "    def __str__(self):\n",
    "        return \"Employee\"\n",
    "\n",
    "\n",
    "class TechnicalPerson:\n",
    "    def study(self):\n",
    "        print('Technical Peson studies technology')\n",
    "\n",
    "    def __str__(self):\n",
    "        return \"TechnicalPerson\"\n",
    "    \n",
    "class Engineer(Employee,TechnicalPerson):\n",
    "    pass"
   ]
  },
  {
   "cell_type": "code",
   "execution_count": 64,
   "metadata": {},
   "outputs": [
    {
     "name": "stdout",
     "output_type": "stream",
     "text": [
      "Employee\n"
     ]
    }
   ],
   "source": [
    "e=Engineer()\n",
    "print(e)"
   ]
  },
  {
   "cell_type": "markdown",
   "metadata": {},
   "source": [
    "## Method Resolution Order\n",
    "\n",
    "* python follow a Method Resolution Order (MRO)\n",
    "* that tells in which order a method will be reolved (selected)\n",
    "\n",
    "#### Method resolution in normal class\n",
    "\n",
    "* it checks if method is present in the current class or not\n",
    "\n",
    "#### Method resolution in a single inheritance\n",
    "\n",
    "* if present in current class\n",
    "    * if yes, use it\n",
    "* else if  present in super class\n",
    "    * if yes us it\n",
    "* else if present in super class of super class\n",
    "\n",
    "* else raise error\n",
    "\n",
    "\n",
    "#### Method resolution in multiple-inheritance\n",
    "\n",
    "* if present in current class\n",
    "    * use it\n",
    "* else \n",
    "    * check in super classes in order they have been listed\n",
    "        * stop at first match\n",
    "    "
   ]
  },
  {
   "cell_type": "code",
   "execution_count": 69,
   "metadata": {},
   "outputs": [],
   "source": [
    "class Employee:\n",
    "    def work(self):\n",
    "        print('employee works')\n",
    "    def __str__(self):\n",
    "        return \"Employee\"\n",
    "\n",
    "\n",
    "class TechnicalPerson:\n",
    "    def study(self):\n",
    "        print('Technical Peson studies technology')\n",
    "\n",
    "    def __str__(self):\n",
    "        return \"TechnicalPerson\"\n",
    "    \n",
    "class Engineer(Employee,TechnicalPerson):\n",
    "    def design(self):\n",
    "        print(\"designs the project\")"
   ]
  },
  {
   "cell_type": "code",
   "execution_count": 70,
   "metadata": {},
   "outputs": [
    {
     "name": "stdout",
     "output_type": "stream",
     "text": [
      "designs the project\n"
     ]
    }
   ],
   "source": [
    "e=Engineer()\n",
    "\n",
    "e.design() # searches in Engineer"
   ]
  },
  {
   "cell_type": "code",
   "execution_count": 71,
   "metadata": {},
   "outputs": [
    {
     "name": "stdout",
     "output_type": "stream",
     "text": [
      "employee works\n"
     ]
    }
   ],
   "source": [
    "e.work() # searches in Engineer (n/a) --> Employee (found)"
   ]
  },
  {
   "cell_type": "code",
   "execution_count": 73,
   "metadata": {},
   "outputs": [
    {
     "name": "stdout",
     "output_type": "stream",
     "text": [
      "Technical Peson studies technology\n"
     ]
    }
   ],
   "source": [
    "# searches in Engineer (na) --> Employee (na) --> TechnicalPerson (found)\n",
    "e.study() "
   ]
  },
  {
   "cell_type": "code",
   "execution_count": 74,
   "metadata": {},
   "outputs": [
    {
     "name": "stdout",
     "output_type": "stream",
     "text": [
      "Employee\n"
     ]
    }
   ],
   "source": [
    "# searches in Enginner(na) --> Employee (found) -->stops\n",
    "\n",
    "print(e.__str__())"
   ]
  },
  {
   "cell_type": "markdown",
   "metadata": {},
   "source": [
    "# How to get data from both super class\n",
    "\n",
    "* we have to explicitly define our str and call the other two"
   ]
  },
  {
   "cell_type": "code",
   "execution_count": 79,
   "metadata": {},
   "outputs": [],
   "source": [
    "class Engineer(Employee,TechnicalPerson):\n",
    "    def __str__(self):\n",
    "        return f'{Employee.__str__(self)}, {TechnicalPerson.__str__(self)}'"
   ]
  },
  {
   "cell_type": "code",
   "execution_count": 80,
   "metadata": {},
   "outputs": [
    {
     "name": "stdout",
     "output_type": "stream",
     "text": [
      "Employee, TechnicalPerson\n"
     ]
    }
   ],
   "source": [
    "e=Engineer()\n",
    "\n",
    "print(e)"
   ]
  },
  {
   "cell_type": "markdown",
   "metadata": {},
   "source": [
    "### \\_\\_init\\_\\_ method\n",
    "\n",
    "* how do I handle \\_\\_init\\_\\_  of data?\n",
    "* each super class  \\_\\_init\\_\\_ should be called\n",
    "* they may need different data\n",
    "\n",
    "#### How to make the MRO work?"
   ]
  },
  {
   "cell_type": "code",
   "execution_count": 85,
   "metadata": {},
   "outputs": [],
   "source": [
    "class Employee:\n",
    "    def __init__(self):\n",
    "        print('Employee.__init__')\n",
    "\n",
    "class TecnicalPerson:\n",
    "    def __init__(self):\n",
    "        print('TechnicalPerson.__init__')\n",
    "\n",
    "class Engineer(Employee,TechnicalPerson):\n",
    "    def __init__(self):\n",
    "        print('Engineer.__init__')"
   ]
  },
  {
   "cell_type": "code",
   "execution_count": 86,
   "metadata": {},
   "outputs": [
    {
     "name": "stdout",
     "output_type": "stream",
     "text": [
      "Engineer.__init__\n"
     ]
    }
   ],
   "source": [
    "e=Engineer()"
   ]
  },
  {
   "cell_type": "code",
   "execution_count": 87,
   "metadata": {},
   "outputs": [],
   "source": [
    "class Employee:\n",
    "    def __init__(self):\n",
    "        print('Employee.__init__')\n",
    "\n",
    "class TecnicalPerson:\n",
    "    def __init__(self):\n",
    "        print('TechnicalPerson.__init__')\n",
    "\n",
    "class Engineer(Employee,TechnicalPerson):\n",
    "    def __init__(self):\n",
    "        super().__init__()\n",
    "        print('Engineer.__init__')"
   ]
  },
  {
   "cell_type": "code",
   "execution_count": 88,
   "metadata": {},
   "outputs": [
    {
     "name": "stdout",
     "output_type": "stream",
     "text": [
      "Employee.__init__\n",
      "Engineer.__init__\n"
     ]
    }
   ],
   "source": [
    "e=Engineer()"
   ]
  },
  {
   "cell_type": "code",
   "execution_count": 95,
   "metadata": {},
   "outputs": [],
   "source": [
    "class Employee:\n",
    "    def __init__(self):\n",
    "        super().__init__()\n",
    "        print('Employee.__init__')\n",
    "\n",
    "\n",
    "\n",
    "class TechnicalPerson:\n",
    "    def __init__(self):\n",
    "        print('TechnicalPerson.__init__')\n",
    "\n",
    "class Engineer(Employee,TechnicalPerson):\n",
    "    def __init__(self):\n",
    "        super().__init__()\n",
    "        print('Engineer.__init__')"
   ]
  },
  {
   "cell_type": "code",
   "execution_count": 96,
   "metadata": {},
   "outputs": [
    {
     "name": "stdout",
     "output_type": "stream",
     "text": [
      "TechnicalPerson.__init__\n",
      "Employee.__init__\n",
      "Engineer.__init__\n"
     ]
    }
   ],
   "source": [
    "e=Engineer()"
   ]
  },
  {
   "cell_type": "code",
   "execution_count": 1,
   "metadata": {},
   "outputs": [],
   "source": [
    "class Employee:\n",
    "    def __init__(self):\n",
    "        print('Employee.__init__ calling super')\n",
    "        super().__init__()\n",
    "        print('Employee.__init__  executed')\n",
    "\n",
    "class Manager(Employee):\n",
    "    def __init__(self):\n",
    "        print('Manager.__init__ calling super')\n",
    "        super().__init__()\n",
    "        print('Manager.__init__  executed')\n",
    "\n",
    "\n",
    "class Student:\n",
    "    def __init__(self):\n",
    "        print('Student.__init__ calling super')\n",
    "        super().__init__()\n",
    "        print('Student.__init__  executed')\n",
    "\n",
    "\n",
    "class TechnicalPerson(Student):\n",
    "    def __init__(self):\n",
    "        print('TechnicalPerson.__init__ calling super')\n",
    "        super().__init__()\n",
    "        print('TechnicalPerson.__init__  executed')\n",
    "        \n",
    "\n",
    "class ChiefEngineer(Manager,TechnicalPerson):\n",
    "    def __init__(self):\n",
    "        print('ChiefEngineer.__init__ calling super')\n",
    "        super().__init__()\n",
    "        print('ChiefEngineer.__init__ executed')"
   ]
  },
  {
   "cell_type": "code",
   "execution_count": 2,
   "metadata": {},
   "outputs": [
    {
     "name": "stdout",
     "output_type": "stream",
     "text": [
      "ChiefEngineer.__init__ calling super\n",
      "Manager.__init__ calling super\n",
      "Employee.__init__ calling super\n",
      "TechnicalPerson.__init__ calling super\n",
      "Student.__init__ calling super\n",
      "Student.__init__  executed\n",
      "TechnicalPerson.__init__  executed\n",
      "Employee.__init__  executed\n",
      "Manager.__init__  executed\n",
      "ChiefEngineer.__init__ executed\n"
     ]
    }
   ],
   "source": [
    "ce=ChiefEngineer()"
   ]
  },
  {
   "cell_type": "code",
   "execution_count": 81,
   "metadata": {},
   "outputs": [],
   "source": [
    "class Employee:\n",
    "    _lastId=0\n",
    "    def __init__(self, name,salary):\n",
    "        super().__init__()\n",
    "        Employee._lastId+=1\n",
    "        self._id=Employee._lastId\n",
    "        self._name=name\n",
    "        self._salary=salary\n",
    "\n",
    "class TechnicalPerson:\n",
    "    def __init__(self, qualification):\n",
    "        super().__init__()\n",
    "        self._qualification=qualification\n",
    "\n"
   ]
  },
  {
   "cell_type": "markdown",
   "metadata": {},
   "source": [
    "#### How do I pass the details to Employee?\n",
    "\n",
    "### Problem\n",
    "\n",
    "* Enginner constructor calls Employee.\\_\\_init\\_\\_ directly\n",
    "    * Employee \\_\\_init\\_\\_ following MRO, calls TechnicalPerson.\\_\\_init\\_\\_\n",
    "        * This is NOT always True\n",
    "            * This is True only if\n",
    "                1. We have Multiple Inheritance\n",
    "                2. MRO lists Employee,TechnicalPerson\n",
    "                    * If it lists in any other order, it will not be called.\n",
    "* Engineer can't pass \"qualification\" to Employee.\\_\\_init\\_\\_ as it doesn't take the parameter\n",
    "\n",
    "* But if Employee.\\_\\_init\\_\\_ doesn't get qualification, it can't pass to TechnicalPerson.\\_\\_init\\_\\_\n",
    "\n"
   ]
  },
  {
   "cell_type": "code",
   "execution_count": 3,
   "metadata": {},
   "outputs": [],
   "source": [
    "class Engineer(Employee,TechnicalPerson):\n",
    "    def __init__(self,name, salary,qualification):\n",
    "        # not sure what we can pass here\n",
    "        super().__init__()"
   ]
  },
  {
   "cell_type": "markdown",
   "metadata": {},
   "source": [
    "## Solutions\n",
    "\n",
    "### Solution 1 (BEST)  DO NOT USE MULTI-INHERITANCE\n",
    "\n",
    "* We should avoid multi-inheritance at all cost\n",
    "* We can always write a cleaner code without using multi-inheritance\n",
    "* There are many language that doesn't support Multiple Inhertance and are   powerful and popular\n",
    "\t* Java\n",
    "\t* C#\n",
    "\n",
    "\n",
    "##### Solution 2 super() with **kwargs\n",
    "\n",
    "* we can pass parameters to __init__ using **kwargs\n",
    "\t*  it essentially gathers all values supplied in a dictionary\n",
    "\t*  we may pass any parameter we like and it will not have any adverse implication\n",
    "\t    * each class __init__ can take whatever they need from this dict\n",
    "\t\t* we may also implement required and optional parameter\n",
    "\t\t\n"
   ]
  },
  {
   "cell_type": "code",
   "execution_count": 4,
   "metadata": {},
   "outputs": [],
   "source": [
    "class Employee:\n",
    "    _lastId=0\n",
    "    def __init__(self, **kwargs):\n",
    "        super().__init__(**kwargs)\n",
    "        Employee._lastId+=1\n",
    "        self._id=Employee._lastId\n",
    "        self._name= kwargs[\"name\"]  #required\n",
    "        self._salary=kwargs[\"salary\"]\n",
    "        self._department = kwargs.get(\"department\") # optional\n",
    "\n",
    "class TechnicalPerson:\n",
    "    def __init__(self, **kwargs):\n",
    "        super().__init__() #don't pass **kwargs here as object.__init__(doesn't accept it)\n",
    "        self._qualification= kwargs[\"qualification\"]\n",
    "        self._specialization=kwargs.get(\"specialization\")\n",
    "\n",
    "\n",
    "class Engineer(Employee,TechnicalPerson):\n",
    "    def __init__(self, **kwargs):\n",
    "        super().__init__(**kwargs) \n",
    "        self._project=kwargs.get(\"project\") #optional"
   ]
  },
  {
   "cell_type": "code",
   "execution_count": 5,
   "metadata": {},
   "outputs": [
    {
     "data": {
      "text/plain": [
       "{'_qualification': 'BE',\n",
       " '_specialization': None,\n",
       " '_id': 1,\n",
       " '_name': 'Sanjay',\n",
       " '_salary': 50000,\n",
       " '_department': None,\n",
       " '_project': None}"
      ]
     },
     "execution_count": 5,
     "metadata": {},
     "output_type": "execute_result"
    }
   ],
   "source": [
    "e=Engineer(name=\"Sanjay\", salary=50000, qualification=\"BE\")\n",
    "e.__dict__"
   ]
  },
  {
   "cell_type": "markdown",
   "metadata": {},
   "source": [
    "#### Note there is no error if we pass parameter not needed by any class\n",
    "\n",
    "* example: manager\n",
    "* It doesn't complain\n",
    "* It doesn't inlcude "
   ]
  },
  {
   "cell_type": "code",
   "execution_count": 7,
   "metadata": {},
   "outputs": [
    {
     "data": {
      "text/plain": [
       "{'_qualification': 'BE',\n",
       " '_specialization': 'AI',\n",
       " '_id': 3,\n",
       " '_name': 'Fagun',\n",
       " '_salary': 40000,\n",
       " '_department': None,\n",
       " '_project': 'ML'}"
      ]
     },
     "execution_count": 7,
     "metadata": {},
     "output_type": "execute_result"
    }
   ],
   "source": [
    "e2=Engineer(qualification=\"BE\", manager=\"sanjay\", specialization=\"AI\", name=\"Fagun\", salary=40000, project=\"ML\")\n",
    "e2.__dict__"
   ]
  },
  {
   "cell_type": "markdown",
   "metadata": {},
   "source": [
    "#### If we don't pass the required fields"
   ]
  },
  {
   "cell_type": "code",
   "execution_count": 8,
   "metadata": {},
   "outputs": [
    {
     "ename": "KeyError",
     "evalue": "'qualification'",
     "output_type": "error",
     "traceback": [
      "\u001b[1;31m---------------------------------------------------------------------------\u001b[0m",
      "\u001b[1;31mKeyError\u001b[0m                                  Traceback (most recent call last)",
      "Cell \u001b[1;32mIn[8], line 1\u001b[0m\n\u001b[1;32m----> 1\u001b[0m e3\u001b[39m=\u001b[39m Engineer(name\u001b[39m=\u001b[39;49m\u001b[39m'\u001b[39;49m\u001b[39mPrabhat\u001b[39;49m\u001b[39m'\u001b[39;49m, salary\u001b[39m=\u001b[39;49m\u001b[39m50000\u001b[39;49m)\n",
      "Cell \u001b[1;32mIn[4], line 20\u001b[0m, in \u001b[0;36mEngineer.__init__\u001b[1;34m(self, **kwargs)\u001b[0m\n\u001b[0;32m     19\u001b[0m \u001b[39mdef\u001b[39;00m \u001b[39m__init__\u001b[39m(\u001b[39mself\u001b[39m, \u001b[39m*\u001b[39m\u001b[39m*\u001b[39mkwargs):\n\u001b[1;32m---> 20\u001b[0m     \u001b[39msuper\u001b[39;49m()\u001b[39m.\u001b[39;49m\u001b[39m__init__\u001b[39;49m(\u001b[39m*\u001b[39;49m\u001b[39m*\u001b[39;49mkwargs) \n\u001b[0;32m     21\u001b[0m     \u001b[39mself\u001b[39m\u001b[39m.\u001b[39m_project\u001b[39m=\u001b[39mkwargs\u001b[39m.\u001b[39mget(\u001b[39m\"\u001b[39m\u001b[39mproject\u001b[39m\u001b[39m\"\u001b[39m)\n",
      "Cell \u001b[1;32mIn[4], line 4\u001b[0m, in \u001b[0;36mEmployee.__init__\u001b[1;34m(self, **kwargs)\u001b[0m\n\u001b[0;32m      3\u001b[0m \u001b[39mdef\u001b[39;00m \u001b[39m__init__\u001b[39m(\u001b[39mself\u001b[39m, \u001b[39m*\u001b[39m\u001b[39m*\u001b[39mkwargs):\n\u001b[1;32m----> 4\u001b[0m     \u001b[39msuper\u001b[39;49m()\u001b[39m.\u001b[39;49m\u001b[39m__init__\u001b[39;49m(\u001b[39m*\u001b[39;49m\u001b[39m*\u001b[39;49mkwargs)\n\u001b[0;32m      5\u001b[0m     Employee\u001b[39m.\u001b[39m_lastId\u001b[39m+\u001b[39m\u001b[39m=\u001b[39m\u001b[39m1\u001b[39m\n\u001b[0;32m      6\u001b[0m     \u001b[39mself\u001b[39m\u001b[39m.\u001b[39m_id\u001b[39m=\u001b[39mEmployee\u001b[39m.\u001b[39m_lastId\n",
      "Cell \u001b[1;32mIn[4], line 14\u001b[0m, in \u001b[0;36mTechnicalPerson.__init__\u001b[1;34m(self, **kwargs)\u001b[0m\n\u001b[0;32m     12\u001b[0m \u001b[39mdef\u001b[39;00m \u001b[39m__init__\u001b[39m(\u001b[39mself\u001b[39m, \u001b[39m*\u001b[39m\u001b[39m*\u001b[39mkwargs):\n\u001b[0;32m     13\u001b[0m     \u001b[39msuper\u001b[39m()\u001b[39m.\u001b[39m\u001b[39m__init__\u001b[39m() \u001b[39m#don't pass **kwargs here as object.__init__(doesn't accept it)\u001b[39;00m\n\u001b[1;32m---> 14\u001b[0m     \u001b[39mself\u001b[39m\u001b[39m.\u001b[39m_qualification\u001b[39m=\u001b[39m kwargs[\u001b[39m\"\u001b[39;49m\u001b[39mqualification\u001b[39;49m\u001b[39m\"\u001b[39;49m]\n\u001b[0;32m     15\u001b[0m     \u001b[39mself\u001b[39m\u001b[39m.\u001b[39m_specialization\u001b[39m=\u001b[39mkwargs\u001b[39m.\u001b[39mget(\u001b[39m\"\u001b[39m\u001b[39mspecialization\u001b[39m\u001b[39m\"\u001b[39m)\n",
      "\u001b[1;31mKeyError\u001b[0m: 'qualification'"
     ]
    }
   ],
   "source": [
    "e3= Engineer(name='Prabhat', salary=50000)"
   ]
  },
  {
   "cell_type": "markdown",
   "metadata": {},
   "source": [
    "### Solution 3 DO NOT USE super(). call super class \\_\\_init\\_\\_ explicitly\n",
    "\n",
    "* this solution is often ignored. but is quite simple and effective\n",
    "* this will have no complication of **MRO (Method Resolution Order)**"
   ]
  },
  {
   "cell_type": "code",
   "execution_count": 11,
   "metadata": {},
   "outputs": [],
   "source": [
    "class Employee:\n",
    "    _lastId=0\n",
    "    def __init__(self, name, salary, department=None):\n",
    "        \n",
    "        Employee._lastId+=1\n",
    "        self._id=Employee._lastId\n",
    "        self._name= name\n",
    "        self._salary=salary\n",
    "        self._department = department # optional\n",
    "\n",
    "class TechnicalPerson:\n",
    "    def __init__(self, qualification, specialization=None):        \n",
    "        self._qualification= qualification\n",
    "        self._specialization=specialization\n",
    "\n",
    "\n",
    "class Engineer(Employee,TechnicalPerson):\n",
    "    def __init__(self, name, salary, qualification, department=None, project=None, specialization=None):\n",
    "        Employee.__init__(self,name,salary,department)\n",
    "        TechnicalPerson.__init__(self,qualification,specialization)\n",
    "        self._project=project"
   ]
  },
  {
   "cell_type": "markdown",
   "metadata": {},
   "source": [
    "### Now we can create Object's based on need"
   ]
  },
  {
   "cell_type": "code",
   "execution_count": 12,
   "metadata": {},
   "outputs": [
    {
     "data": {
      "text/plain": [
       "{'_id': 1,\n",
       " '_name': 'Prabhat',\n",
       " '_salary': 50000,\n",
       " '_department': None,\n",
       " '_qualification': 'BE',\n",
       " '_specialization': None,\n",
       " '_project': None}"
      ]
     },
     "execution_count": 12,
     "metadata": {},
     "output_type": "execute_result"
    }
   ],
   "source": [
    "e1=Engineer(\"Prabhat\", 50000, \"BE\")\n",
    "e1.__dict__"
   ]
  },
  {
   "cell_type": "code",
   "execution_count": 14,
   "metadata": {},
   "outputs": [
    {
     "data": {
      "text/plain": [
       "{'_id': 2,\n",
       " '_name': 'Prabhat',\n",
       " '_salary': 50000,\n",
       " '_department': None,\n",
       " '_qualification': 'BE',\n",
       " '_specialization': 'AI',\n",
       " '_project': 'ML'}"
      ]
     },
     "execution_count": 14,
     "metadata": {},
     "output_type": "execute_result"
    }
   ],
   "source": [
    "e2=Engineer(\"Prabhat\",50000,\"BE\", project=\"ML\", specialization=\"AI\")\n",
    "e2.__dict__"
   ]
  },
  {
   "cell_type": "markdown",
   "metadata": {},
   "source": [
    "#### Now we can't ignore required property"
   ]
  },
  {
   "cell_type": "code",
   "execution_count": 15,
   "metadata": {},
   "outputs": [
    {
     "ename": "TypeError",
     "evalue": "Engineer.__init__() missing 1 required positional argument: 'qualification'",
     "output_type": "error",
     "traceback": [
      "\u001b[1;31m---------------------------------------------------------------------------\u001b[0m",
      "\u001b[1;31mTypeError\u001b[0m                                 Traceback (most recent call last)",
      "Cell \u001b[1;32mIn[15], line 1\u001b[0m\n\u001b[1;32m----> 1\u001b[0m e3\u001b[39m=\u001b[39mEngineer(\u001b[39m\"\u001b[39;49m\u001b[39mPrabhat\u001b[39;49m\u001b[39m\"\u001b[39;49m,\u001b[39m50000\u001b[39;49m)\n",
      "\u001b[1;31mTypeError\u001b[0m: Engineer.__init__() missing 1 required positional argument: 'qualification'"
     ]
    }
   ],
   "source": [
    "e3=Engineer(\"Prabhat\",50000)"
   ]
  },
  {
   "cell_type": "markdown",
   "metadata": {},
   "source": [
    "### We can't pass additional information \n",
    "\n",
    "* unlike what we did in **kwargs we can't pass additional info"
   ]
  },
  {
   "cell_type": "code",
   "execution_count": 16,
   "metadata": {},
   "outputs": [
    {
     "ename": "TypeError",
     "evalue": "Engineer.__init__() got an unexpected keyword argument 'manager'",
     "output_type": "error",
     "traceback": [
      "\u001b[1;31m---------------------------------------------------------------------------\u001b[0m",
      "\u001b[1;31mTypeError\u001b[0m                                 Traceback (most recent call last)",
      "Cell \u001b[1;32mIn[16], line 1\u001b[0m\n\u001b[1;32m----> 1\u001b[0m e4\u001b[39m=\u001b[39m Engineer(\u001b[39m\"\u001b[39;49m\u001b[39mPrabhat\u001b[39;49m\u001b[39m\"\u001b[39;49m,\u001b[39m50000\u001b[39;49m, \u001b[39m\"\u001b[39;49m\u001b[39mBE\u001b[39;49m\u001b[39m\"\u001b[39;49m, manager\u001b[39m=\u001b[39;49m\u001b[39m\"\u001b[39;49m\u001b[39mSanjay\u001b[39;49m\u001b[39m\"\u001b[39;49m)\n",
      "\u001b[1;31mTypeError\u001b[0m: Engineer.__init__() got an unexpected keyword argument 'manager'"
     ]
    }
   ],
   "source": [
    "e4= Engineer(\"Prabhat\",50000, \"BE\", manager=\"Sanjay\")"
   ]
  },
  {
   "cell_type": "code",
   "execution_count": null,
   "metadata": {},
   "outputs": [],
   "source": []
  }
 ],
 "metadata": {
  "kernelspec": {
   "display_name": "Python 3",
   "language": "python",
   "name": "python3"
  },
  "language_info": {
   "codemirror_mode": {
    "name": "ipython",
    "version": 3
   },
   "file_extension": ".py",
   "mimetype": "text/x-python",
   "name": "python",
   "nbconvert_exporter": "python",
   "pygments_lexer": "ipython3",
   "version": "3.11.5"
  },
  "orig_nbformat": 4
 },
 "nbformat": 4,
 "nbformat_minor": 2
}
