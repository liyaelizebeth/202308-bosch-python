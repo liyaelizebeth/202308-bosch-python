{
 "cells": [
  {
   "cell_type": "markdown",
   "metadata": {},
   "source": [
    "## Python special class methods\n",
    "\n",
    "* python has provision to create special class methods that have special meaning in python\n",
    "\n",
    "* all these methods are decorated with double underscore prefix and suffix\n",
    "    * example\n",
    "        * \\_\\_init\\_\\_(self,side)\n",
    "            * used for initialzing an object\n",
    "        * \\_\\_del\\_\\_(self)\n",
    "            * used for clearning object memory\n",
    "\n",
    "\n",
    "* there are several other special functions with special roles\n",
    "    * someof them exist in every object even when we don't create them\n",
    "        * example\n",
    "            * \\_\\_new\\_\\_(self)\n",
    "            * \\_\\_init\\_\\_(self,side)\n",
    "            * \\_\\_del\\_\\_(self)\n",
    "            * \\_\\_str\\_\\_(self)\n",
    "\n",
    "        * we can use **dir** to find a complete list of these functions\n",
    "\n",
    "    * ther are other optional functions that are not present by defautl\n",
    "        * but if we define them they will have a special purpose\n",
    "        * example\n",
    "            * \\_\\_len\\_\\_(self)\n",
    "                * to find the length of object\n",
    "                * length doesn't make sense of all objects\n",
    "            * \\_\\_int\\_\\_(self)\n",
    "                * convert object to int\n",
    "                * doesn't make sense for all objects\n",
    "\n",
    "\n",
    "* These special functions can be categorized in multiple sub category\n",
    "\n",
    "\n",
    "#### 1. Life cycle related\n",
    "\n",
    " * \\_\\_new\\_\\_(self)\n",
    " * \\_\\_init\\_\\_(self,side)\n",
    " * \\_\\_del\\_\\_(self)\n",
    " \n",
    "\n",
    "### 2. Converter Functions\n",
    "\n",
    "* generally converts object from one type to another\n",
    "\n",
    "#### 3.1 \\_\\_str\\_\\_(self)  (One of the most important function)\n",
    "\n",
    "* coverts the object to str\n",
    "* it is used implcitly when we call print(obj) or str(obj)\n",
    "\n",
    "\n",
    "            \n",
    "    \n"
   ]
  },
  {
   "cell_type": "code",
   "execution_count": 1,
   "metadata": {},
   "outputs": [],
   "source": [
    "class Square:\n",
    "    def __init__(self,side):\n",
    "        self.side=side"
   ]
  },
  {
   "cell_type": "code",
   "execution_count": 2,
   "metadata": {},
   "outputs": [
    {
     "name": "stdout",
     "output_type": "stream",
     "text": [
      "['__class__', '__delattr__', '__dict__', '__dir__', '__doc__', '__eq__', '__format__', '__ge__', '__getattribute__', '__getstate__', '__gt__', '__hash__', '__init__', '__init_subclass__', '__le__', '__lt__', '__module__', '__ne__', '__new__', '__reduce__', '__reduce_ex__', '__repr__', '__setattr__', '__sizeof__', '__str__', '__subclasshook__', '__weakref__', 'side']\n"
     ]
    }
   ],
   "source": [
    "s=Square(4)\n",
    "print(dir(s))"
   ]
  },
  {
   "cell_type": "code",
   "execution_count": 3,
   "metadata": {},
   "outputs": [
    {
     "name": "stdout",
     "output_type": "stream",
     "text": [
      "<__main__.Square object at 0x00000297409DFE90>\n"
     ]
    }
   ],
   "source": [
    "print(s)"
   ]
  },
  {
   "cell_type": "markdown",
   "metadata": {},
   "source": [
    "### Let us add  \\_\\_str\\_\\_(self) in Square"
   ]
  },
  {
   "cell_type": "code",
   "execution_count": 4,
   "metadata": {},
   "outputs": [],
   "source": [
    "class Square:\n",
    "    def __init__(self,side):\n",
    "        self.side=side\n",
    "\n",
    "    def __str__(self):\n",
    "        return f\"Square[{self.side}]\""
   ]
  },
  {
   "cell_type": "code",
   "execution_count": 5,
   "metadata": {},
   "outputs": [
    {
     "name": "stdout",
     "output_type": "stream",
     "text": [
      "Square[5]\n"
     ]
    }
   ],
   "source": [
    "s=Square(5)\n",
    "print(s)"
   ]
  },
  {
   "cell_type": "code",
   "execution_count": 7,
   "metadata": {},
   "outputs": [
    {
     "data": {
      "text/plain": [
       "'Square[5]'"
      ]
     },
     "execution_count": 7,
     "metadata": {},
     "output_type": "execute_result"
    }
   ],
   "source": [
    "str(s)"
   ]
  },
  {
   "cell_type": "code",
   "execution_count": 8,
   "metadata": {},
   "outputs": [
    {
     "data": {
      "text/plain": [
       "<__main__.Square at 0x297408fae50>"
      ]
     },
     "execution_count": 8,
     "metadata": {},
     "output_type": "execute_result"
    }
   ],
   "source": [
    "s"
   ]
  },
  {
   "cell_type": "markdown",
   "metadata": {},
   "source": [
    "### why shell doesn't use str(s)?\n",
    "\n",
    "* shell actually uses another function to display\n",
    "* it is associated with \\_\\_repr\\_\\_()"
   ]
  },
  {
   "cell_type": "code",
   "execution_count": 14,
   "metadata": {},
   "outputs": [],
   "source": [
    "class Square:\n",
    "    def __init__(self,side):\n",
    "        self.side=side\n",
    "\n",
    "    def __str__(self):\n",
    "        return f\"Square[{self.side}]\"\n",
    "\n",
    "    def __repr__(self):\n",
    "        return str(self)"
   ]
  },
  {
   "cell_type": "code",
   "execution_count": 15,
   "metadata": {},
   "outputs": [
    {
     "name": "stdout",
     "output_type": "stream",
     "text": [
      "Square[5]\n"
     ]
    }
   ],
   "source": [
    "s=Square(5)\n",
    "print(s)"
   ]
  },
  {
   "cell_type": "code",
   "execution_count": 16,
   "metadata": {},
   "outputs": [
    {
     "data": {
      "text/plain": [
       "Square[5]"
      ]
     },
     "execution_count": 16,
     "metadata": {},
     "output_type": "execute_result"
    }
   ],
   "source": [
    "s"
   ]
  },
  {
   "cell_type": "code",
   "execution_count": null,
   "metadata": {},
   "outputs": [],
   "source": []
  }
 ],
 "metadata": {
  "kernelspec": {
   "display_name": "Python 3",
   "language": "python",
   "name": "python3"
  },
  "language_info": {
   "codemirror_mode": {
    "name": "ipython",
    "version": 3
   },
   "file_extension": ".py",
   "mimetype": "text/x-python",
   "name": "python",
   "nbconvert_exporter": "python",
   "pygments_lexer": "ipython3",
   "version": "3.11.5"
  },
  "orig_nbformat": 4
 },
 "nbformat": 4,
 "nbformat_minor": 2
}
